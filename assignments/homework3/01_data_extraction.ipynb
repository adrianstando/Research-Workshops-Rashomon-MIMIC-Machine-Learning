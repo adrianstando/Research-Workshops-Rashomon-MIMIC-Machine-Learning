{
 "cells": [
  {
   "cell_type": "markdown",
   "metadata": {},
   "source": [
    "# Data extraction"
   ]
  },
  {
   "cell_type": "markdown",
   "metadata": {},
   "source": [
    "### Find diagnosis codes with diabetes diagnosis"
   ]
  },
  {
   "cell_type": "code",
   "execution_count": 1,
   "metadata": {},
   "outputs": [
    {
     "data": {
      "text/html": [
       "TRUE"
      ],
      "text/latex": [
       "TRUE"
      ],
      "text/markdown": [
       "TRUE"
      ],
      "text/plain": [
       "[1] TRUE"
      ]
     },
     "metadata": {},
     "output_type": "display_data"
    }
   ],
   "source": [
    "url <- \"https://physionet.org/static/published-projects/mimiciii-demo/mimic-iii-clinical-database-demo-1.4.zip\"\n",
    "\n",
    "download.file(url, dest = \"dataset.zip\", mode=\"wb\") \n",
    "unzip (\"dataset.zip\", exdir = \"./\")\n",
    "\n",
    "file.remove(\"dataset.zip\")"
   ]
  },
  {
   "cell_type": "code",
   "execution_count": 2,
   "metadata": {},
   "outputs": [
    {
     "name": "stderr",
     "output_type": "stream",
     "text": [
      "\n",
      "Attaching package: ‘dplyr’\n",
      "\n",
      "\n",
      "The following objects are masked from ‘package:stats’:\n",
      "\n",
      "    filter, lag\n",
      "\n",
      "\n",
      "The following objects are masked from ‘package:base’:\n",
      "\n",
      "    intersect, setdiff, setequal, union\n",
      "\n",
      "\n"
     ]
    }
   ],
   "source": [
    "library(dplyr)\n",
    "library(tidyr)"
   ]
  },
  {
   "cell_type": "code",
   "execution_count": 3,
   "metadata": {},
   "outputs": [
    {
     "data": {
      "text/html": [
       "<style>\n",
       ".list-inline {list-style: none; margin:0; padding: 0}\n",
       ".list-inline>li {display: inline-block}\n",
       ".list-inline>li:not(:last-child)::after {content: \"\\00b7\"; padding: 0 .5ex}\n",
       "</style>\n",
       "<ol class=list-inline><li>'25000'</li><li>'25001'</li><li>'25002'</li><li>'25003'</li><li>'25010'</li><li>'25011'</li><li>'25012'</li><li>'25013'</li><li>'25020'</li><li>'25021'</li><li>'25022'</li><li>'25023'</li><li>'25030'</li><li>'25031'</li><li>'25032'</li><li>'25033'</li><li>'25040'</li><li>'25041'</li><li>'25042'</li><li>'25043'</li><li>'25050'</li><li>'25051'</li><li>'25052'</li><li>'25053'</li><li>'25060'</li><li>'25061'</li><li>'25062'</li><li>'25063'</li><li>'25070'</li><li>'25071'</li><li>'25072'</li><li>'25073'</li><li>'25080'</li><li>'25081'</li><li>'25082'</li><li>'25083'</li><li>'25090'</li><li>'25091'</li><li>'25092'</li><li>'25093'</li></ol>\n"
      ],
      "text/latex": [
       "\\begin{enumerate*}\n",
       "\\item '25000'\n",
       "\\item '25001'\n",
       "\\item '25002'\n",
       "\\item '25003'\n",
       "\\item '25010'\n",
       "\\item '25011'\n",
       "\\item '25012'\n",
       "\\item '25013'\n",
       "\\item '25020'\n",
       "\\item '25021'\n",
       "\\item '25022'\n",
       "\\item '25023'\n",
       "\\item '25030'\n",
       "\\item '25031'\n",
       "\\item '25032'\n",
       "\\item '25033'\n",
       "\\item '25040'\n",
       "\\item '25041'\n",
       "\\item '25042'\n",
       "\\item '25043'\n",
       "\\item '25050'\n",
       "\\item '25051'\n",
       "\\item '25052'\n",
       "\\item '25053'\n",
       "\\item '25060'\n",
       "\\item '25061'\n",
       "\\item '25062'\n",
       "\\item '25063'\n",
       "\\item '25070'\n",
       "\\item '25071'\n",
       "\\item '25072'\n",
       "\\item '25073'\n",
       "\\item '25080'\n",
       "\\item '25081'\n",
       "\\item '25082'\n",
       "\\item '25083'\n",
       "\\item '25090'\n",
       "\\item '25091'\n",
       "\\item '25092'\n",
       "\\item '25093'\n",
       "\\end{enumerate*}\n"
      ],
      "text/markdown": [
       "1. '25000'\n",
       "2. '25001'\n",
       "3. '25002'\n",
       "4. '25003'\n",
       "5. '25010'\n",
       "6. '25011'\n",
       "7. '25012'\n",
       "8. '25013'\n",
       "9. '25020'\n",
       "10. '25021'\n",
       "11. '25022'\n",
       "12. '25023'\n",
       "13. '25030'\n",
       "14. '25031'\n",
       "15. '25032'\n",
       "16. '25033'\n",
       "17. '25040'\n",
       "18. '25041'\n",
       "19. '25042'\n",
       "20. '25043'\n",
       "21. '25050'\n",
       "22. '25051'\n",
       "23. '25052'\n",
       "24. '25053'\n",
       "25. '25060'\n",
       "26. '25061'\n",
       "27. '25062'\n",
       "28. '25063'\n",
       "29. '25070'\n",
       "30. '25071'\n",
       "31. '25072'\n",
       "32. '25073'\n",
       "33. '25080'\n",
       "34. '25081'\n",
       "35. '25082'\n",
       "36. '25083'\n",
       "37. '25090'\n",
       "38. '25091'\n",
       "39. '25092'\n",
       "40. '25093'\n",
       "\n",
       "\n"
      ],
      "text/plain": [
       " [1] \"25000\" \"25001\" \"25002\" \"25003\" \"25010\" \"25011\" \"25012\" \"25013\" \"25020\"\n",
       "[10] \"25021\" \"25022\" \"25023\" \"25030\" \"25031\" \"25032\" \"25033\" \"25040\" \"25041\"\n",
       "[19] \"25042\" \"25043\" \"25050\" \"25051\" \"25052\" \"25053\" \"25060\" \"25061\" \"25062\"\n",
       "[28] \"25063\" \"25070\" \"25071\" \"25072\" \"25073\" \"25080\" \"25081\" \"25082\" \"25083\"\n",
       "[37] \"25090\" \"25091\" \"25092\" \"25093\""
      ]
     },
     "metadata": {},
     "output_type": "display_data"
    }
   ],
   "source": [
    "diagnoses_codes <- read.csv(\"mimic-iii-clinical-database-demo-1.4/D_ICD_DIAGNOSES.csv\", stringsAsFactors = FALSE)\n",
    "diagnoses_codes <- diagnoses_codes[startsWith(diagnoses_codes$short_title, \"DMI\"), ]\n",
    "diabetes_codes <- diagnoses_codes$icd9_code\n",
    "\n",
    "rm(diagnoses_codes)\n",
    "\n",
    "diabetes_codes"
   ]
  },
  {
   "cell_type": "markdown",
   "metadata": {},
   "source": [
    "### Find all subject_ids (patient id), who have diabetes"
   ]
  },
  {
   "cell_type": "code",
   "execution_count": 4,
   "metadata": {},
   "outputs": [
    {
     "data": {
      "text/html": [
       "<style>\n",
       ".list-inline {list-style: none; margin:0; padding: 0}\n",
       ".list-inline>li {display: inline-block}\n",
       ".list-inline>li:not(:last-child)::after {content: \"\\00b7\"; padding: 0 .5ex}\n",
       "</style>\n",
       "<ol class=list-inline><li>10006</li><li>10017</li><li>10027</li><li>10033</li><li>10045</li><li>10069</li><li>10094</li><li>10094</li><li>10106</li><li>10111</li><li>10114</li><li>10124</li><li>10124</li><li>10130</li><li>40204</li><li>40503</li><li>40655</li><li>41795</li><li>41795</li><li>41914</li><li>41976</li><li>41976</li><li>41976</li><li>41976</li><li>41976</li><li>41976</li><li>41976</li><li>41976</li><li>41976</li><li>41976</li><li>41976</li><li>41976</li><li>41976</li><li>41976</li><li>42075</li><li>42199</li><li>42292</li><li>42292</li><li>42302</li><li>42346</li><li>42346</li><li>42367</li><li>42430</li><li>43735</li><li>43779</li><li>43798</li><li>43870</li><li>43927</li><li>44222</li></ol>\n"
      ],
      "text/latex": [
       "\\begin{enumerate*}\n",
       "\\item 10006\n",
       "\\item 10017\n",
       "\\item 10027\n",
       "\\item 10033\n",
       "\\item 10045\n",
       "\\item 10069\n",
       "\\item 10094\n",
       "\\item 10094\n",
       "\\item 10106\n",
       "\\item 10111\n",
       "\\item 10114\n",
       "\\item 10124\n",
       "\\item 10124\n",
       "\\item 10130\n",
       "\\item 40204\n",
       "\\item 40503\n",
       "\\item 40655\n",
       "\\item 41795\n",
       "\\item 41795\n",
       "\\item 41914\n",
       "\\item 41976\n",
       "\\item 41976\n",
       "\\item 41976\n",
       "\\item 41976\n",
       "\\item 41976\n",
       "\\item 41976\n",
       "\\item 41976\n",
       "\\item 41976\n",
       "\\item 41976\n",
       "\\item 41976\n",
       "\\item 41976\n",
       "\\item 41976\n",
       "\\item 41976\n",
       "\\item 41976\n",
       "\\item 42075\n",
       "\\item 42199\n",
       "\\item 42292\n",
       "\\item 42292\n",
       "\\item 42302\n",
       "\\item 42346\n",
       "\\item 42346\n",
       "\\item 42367\n",
       "\\item 42430\n",
       "\\item 43735\n",
       "\\item 43779\n",
       "\\item 43798\n",
       "\\item 43870\n",
       "\\item 43927\n",
       "\\item 44222\n",
       "\\end{enumerate*}\n"
      ],
      "text/markdown": [
       "1. 10006\n",
       "2. 10017\n",
       "3. 10027\n",
       "4. 10033\n",
       "5. 10045\n",
       "6. 10069\n",
       "7. 10094\n",
       "8. 10094\n",
       "9. 10106\n",
       "10. 10111\n",
       "11. 10114\n",
       "12. 10124\n",
       "13. 10124\n",
       "14. 10130\n",
       "15. 40204\n",
       "16. 40503\n",
       "17. 40655\n",
       "18. 41795\n",
       "19. 41795\n",
       "20. 41914\n",
       "21. 41976\n",
       "22. 41976\n",
       "23. 41976\n",
       "24. 41976\n",
       "25. 41976\n",
       "26. 41976\n",
       "27. 41976\n",
       "28. 41976\n",
       "29. 41976\n",
       "30. 41976\n",
       "31. 41976\n",
       "32. 41976\n",
       "33. 41976\n",
       "34. 41976\n",
       "35. 42075\n",
       "36. 42199\n",
       "37. 42292\n",
       "38. 42292\n",
       "39. 42302\n",
       "40. 42346\n",
       "41. 42346\n",
       "42. 42367\n",
       "43. 42430\n",
       "44. 43735\n",
       "45. 43779\n",
       "46. 43798\n",
       "47. 43870\n",
       "48. 43927\n",
       "49. 44222\n",
       "\n",
       "\n"
      ],
      "text/plain": [
       " [1] 10006 10017 10027 10033 10045 10069 10094 10094 10106 10111 10114 10124\n",
       "[13] 10124 10130 40204 40503 40655 41795 41795 41914 41976 41976 41976 41976\n",
       "[25] 41976 41976 41976 41976 41976 41976 41976 41976 41976 41976 42075 42199\n",
       "[37] 42292 42292 42302 42346 42346 42367 42430 43735 43779 43798 43870 43927\n",
       "[49] 44222"
      ]
     },
     "metadata": {},
     "output_type": "display_data"
    }
   ],
   "source": [
    "diagnoses <- read.csv(\"mimic-iii-clinical-database-demo-1.4/DIAGNOSES_ICD.csv\", stringsAsFactors = FALSE)\n",
    "diagnoses <- diagnoses[diagnoses$icd9_code %in% diabetes_codes, ]\n",
    "diagnosed <- diagnoses$subject_id\n",
    "\n",
    "rm(diagnoses)\n",
    "\n",
    "diagnosed"
   ]
  },
  {
   "cell_type": "markdown",
   "metadata": {},
   "source": [
    "### Find patients records, who have diabetes"
   ]
  },
  {
   "cell_type": "code",
   "execution_count": 5,
   "metadata": {},
   "outputs": [
    {
     "data": {
      "text/html": [
       "<table class=\"dataframe\">\n",
       "<caption>A data.frame: 6 × 9</caption>\n",
       "<thead>\n",
       "\t<tr><th></th><th scope=col>row_id</th><th scope=col>subject_id</th><th scope=col>gender</th><th scope=col>dob</th><th scope=col>dod</th><th scope=col>dod_hosp</th><th scope=col>dod_ssn</th><th scope=col>expire_flag</th><th scope=col>diabetes</th></tr>\n",
       "\t<tr><th></th><th scope=col>&lt;int&gt;</th><th scope=col>&lt;int&gt;</th><th scope=col>&lt;chr&gt;</th><th scope=col>&lt;chr&gt;</th><th scope=col>&lt;chr&gt;</th><th scope=col>&lt;chr&gt;</th><th scope=col>&lt;chr&gt;</th><th scope=col>&lt;int&gt;</th><th scope=col>&lt;dbl&gt;</th></tr>\n",
       "</thead>\n",
       "<tbody>\n",
       "\t<tr><th scope=row>1</th><td>9467</td><td>10006</td><td>F</td><td>2094-03-05 00:00:00</td><td>2165-08-12 00:00:00</td><td>2165-08-12 00:00:00</td><td>2165-08-12 00:00:00</td><td>1</td><td>1</td></tr>\n",
       "\t<tr><th scope=row>2</th><td>9472</td><td>10011</td><td>F</td><td>2090-06-05 00:00:00</td><td>2126-08-28 00:00:00</td><td>2126-08-28 00:00:00</td><td>                   </td><td>1</td><td>0</td></tr>\n",
       "\t<tr><th scope=row>3</th><td>9474</td><td>10013</td><td>F</td><td>2038-09-03 00:00:00</td><td>2125-10-07 00:00:00</td><td>2125-10-07 00:00:00</td><td>2125-10-07 00:00:00</td><td>1</td><td>0</td></tr>\n",
       "\t<tr><th scope=row>4</th><td>9478</td><td>10017</td><td>F</td><td>2075-09-21 00:00:00</td><td>2152-09-12 00:00:00</td><td>                   </td><td>2152-09-12 00:00:00</td><td>1</td><td>1</td></tr>\n",
       "\t<tr><th scope=row>5</th><td>9479</td><td>10019</td><td>M</td><td>2114-06-20 00:00:00</td><td>2163-05-15 00:00:00</td><td>2163-05-15 00:00:00</td><td>2163-05-15 00:00:00</td><td>1</td><td>0</td></tr>\n",
       "\t<tr><th scope=row>6</th><td>9486</td><td>10026</td><td>F</td><td>1895-05-17 00:00:00</td><td>2195-11-24 00:00:00</td><td>                   </td><td>2195-11-24 00:00:00</td><td>1</td><td>0</td></tr>\n",
       "</tbody>\n",
       "</table>\n"
      ],
      "text/latex": [
       "A data.frame: 6 × 9\n",
       "\\begin{tabular}{r|lllllllll}\n",
       "  & row\\_id & subject\\_id & gender & dob & dod & dod\\_hosp & dod\\_ssn & expire\\_flag & diabetes\\\\\n",
       "  & <int> & <int> & <chr> & <chr> & <chr> & <chr> & <chr> & <int> & <dbl>\\\\\n",
       "\\hline\n",
       "\t1 & 9467 & 10006 & F & 2094-03-05 00:00:00 & 2165-08-12 00:00:00 & 2165-08-12 00:00:00 & 2165-08-12 00:00:00 & 1 & 1\\\\\n",
       "\t2 & 9472 & 10011 & F & 2090-06-05 00:00:00 & 2126-08-28 00:00:00 & 2126-08-28 00:00:00 &                     & 1 & 0\\\\\n",
       "\t3 & 9474 & 10013 & F & 2038-09-03 00:00:00 & 2125-10-07 00:00:00 & 2125-10-07 00:00:00 & 2125-10-07 00:00:00 & 1 & 0\\\\\n",
       "\t4 & 9478 & 10017 & F & 2075-09-21 00:00:00 & 2152-09-12 00:00:00 &                     & 2152-09-12 00:00:00 & 1 & 1\\\\\n",
       "\t5 & 9479 & 10019 & M & 2114-06-20 00:00:00 & 2163-05-15 00:00:00 & 2163-05-15 00:00:00 & 2163-05-15 00:00:00 & 1 & 0\\\\\n",
       "\t6 & 9486 & 10026 & F & 1895-05-17 00:00:00 & 2195-11-24 00:00:00 &                     & 2195-11-24 00:00:00 & 1 & 0\\\\\n",
       "\\end{tabular}\n"
      ],
      "text/markdown": [
       "\n",
       "A data.frame: 6 × 9\n",
       "\n",
       "| <!--/--> | row_id &lt;int&gt; | subject_id &lt;int&gt; | gender &lt;chr&gt; | dob &lt;chr&gt; | dod &lt;chr&gt; | dod_hosp &lt;chr&gt; | dod_ssn &lt;chr&gt; | expire_flag &lt;int&gt; | diabetes &lt;dbl&gt; |\n",
       "|---|---|---|---|---|---|---|---|---|---|\n",
       "| 1 | 9467 | 10006 | F | 2094-03-05 00:00:00 | 2165-08-12 00:00:00 | 2165-08-12 00:00:00 | 2165-08-12 00:00:00 | 1 | 1 |\n",
       "| 2 | 9472 | 10011 | F | 2090-06-05 00:00:00 | 2126-08-28 00:00:00 | 2126-08-28 00:00:00 | <!----> | 1 | 0 |\n",
       "| 3 | 9474 | 10013 | F | 2038-09-03 00:00:00 | 2125-10-07 00:00:00 | 2125-10-07 00:00:00 | 2125-10-07 00:00:00 | 1 | 0 |\n",
       "| 4 | 9478 | 10017 | F | 2075-09-21 00:00:00 | 2152-09-12 00:00:00 | <!----> | 2152-09-12 00:00:00 | 1 | 1 |\n",
       "| 5 | 9479 | 10019 | M | 2114-06-20 00:00:00 | 2163-05-15 00:00:00 | 2163-05-15 00:00:00 | 2163-05-15 00:00:00 | 1 | 0 |\n",
       "| 6 | 9486 | 10026 | F | 1895-05-17 00:00:00 | 2195-11-24 00:00:00 | <!----> | 2195-11-24 00:00:00 | 1 | 0 |\n",
       "\n"
      ],
      "text/plain": [
       "  row_id subject_id gender dob                 dod                \n",
       "1 9467   10006      F      2094-03-05 00:00:00 2165-08-12 00:00:00\n",
       "2 9472   10011      F      2090-06-05 00:00:00 2126-08-28 00:00:00\n",
       "3 9474   10013      F      2038-09-03 00:00:00 2125-10-07 00:00:00\n",
       "4 9478   10017      F      2075-09-21 00:00:00 2152-09-12 00:00:00\n",
       "5 9479   10019      M      2114-06-20 00:00:00 2163-05-15 00:00:00\n",
       "6 9486   10026      F      1895-05-17 00:00:00 2195-11-24 00:00:00\n",
       "  dod_hosp            dod_ssn             expire_flag diabetes\n",
       "1 2165-08-12 00:00:00 2165-08-12 00:00:00 1           1       \n",
       "2 2126-08-28 00:00:00                     1           0       \n",
       "3 2125-10-07 00:00:00 2125-10-07 00:00:00 1           0       \n",
       "4                     2152-09-12 00:00:00 1           1       \n",
       "5 2163-05-15 00:00:00 2163-05-15 00:00:00 1           0       \n",
       "6                     2195-11-24 00:00:00 1           0       "
      ]
     },
     "metadata": {},
     "output_type": "display_data"
    }
   ],
   "source": [
    "patients <- read.csv(\"mimic-iii-clinical-database-demo-1.4/PATIENTS.csv\", stringsAsFactors = FALSE)\n",
    "\n",
    "patients$diabetes <- ifelse(patients$subject_id %in% diagnosed, 1, 0)\n",
    "head(patients)"
   ]
  },
  {
   "cell_type": "code",
   "execution_count": 6,
   "metadata": {},
   "outputs": [],
   "source": [
    "# patients$death_in_hospital <- ifelse(patients$dod_hosp == \"\", 0, 1)\n",
    "# head(patients)"
   ]
  },
  {
   "cell_type": "code",
   "execution_count": 7,
   "metadata": {},
   "outputs": [
    {
     "data": {
      "text/html": [
       "FALSE"
      ],
      "text/latex": [
       "FALSE"
      ],
      "text/markdown": [
       "FALSE"
      ],
      "text/plain": [
       "[1] FALSE"
      ]
     },
     "metadata": {},
     "output_type": "display_data"
    }
   ],
   "source": [
    "# all patients died\n",
    "\n",
    "any(patients$expire_flag == 0)"
   ]
  },
  {
   "cell_type": "code",
   "execution_count": 8,
   "metadata": {},
   "outputs": [
    {
     "data": {
      "text/html": [
       "<table class=\"dataframe\">\n",
       "<caption>A data.frame: 6 × 4</caption>\n",
       "<thead>\n",
       "\t<tr><th></th><th scope=col>subject_id</th><th scope=col>gender</th><th scope=col>expire_flag</th><th scope=col>diabetes</th></tr>\n",
       "\t<tr><th></th><th scope=col>&lt;int&gt;</th><th scope=col>&lt;chr&gt;</th><th scope=col>&lt;int&gt;</th><th scope=col>&lt;dbl&gt;</th></tr>\n",
       "</thead>\n",
       "<tbody>\n",
       "\t<tr><th scope=row>1</th><td>10006</td><td>F</td><td>1</td><td>1</td></tr>\n",
       "\t<tr><th scope=row>2</th><td>10011</td><td>F</td><td>1</td><td>0</td></tr>\n",
       "\t<tr><th scope=row>3</th><td>10013</td><td>F</td><td>1</td><td>0</td></tr>\n",
       "\t<tr><th scope=row>4</th><td>10017</td><td>F</td><td>1</td><td>1</td></tr>\n",
       "\t<tr><th scope=row>5</th><td>10019</td><td>M</td><td>1</td><td>0</td></tr>\n",
       "\t<tr><th scope=row>6</th><td>10026</td><td>F</td><td>1</td><td>0</td></tr>\n",
       "</tbody>\n",
       "</table>\n"
      ],
      "text/latex": [
       "A data.frame: 6 × 4\n",
       "\\begin{tabular}{r|llll}\n",
       "  & subject\\_id & gender & expire\\_flag & diabetes\\\\\n",
       "  & <int> & <chr> & <int> & <dbl>\\\\\n",
       "\\hline\n",
       "\t1 & 10006 & F & 1 & 1\\\\\n",
       "\t2 & 10011 & F & 1 & 0\\\\\n",
       "\t3 & 10013 & F & 1 & 0\\\\\n",
       "\t4 & 10017 & F & 1 & 1\\\\\n",
       "\t5 & 10019 & M & 1 & 0\\\\\n",
       "\t6 & 10026 & F & 1 & 0\\\\\n",
       "\\end{tabular}\n"
      ],
      "text/markdown": [
       "\n",
       "A data.frame: 6 × 4\n",
       "\n",
       "| <!--/--> | subject_id &lt;int&gt; | gender &lt;chr&gt; | expire_flag &lt;int&gt; | diabetes &lt;dbl&gt; |\n",
       "|---|---|---|---|---|\n",
       "| 1 | 10006 | F | 1 | 1 |\n",
       "| 2 | 10011 | F | 1 | 0 |\n",
       "| 3 | 10013 | F | 1 | 0 |\n",
       "| 4 | 10017 | F | 1 | 1 |\n",
       "| 5 | 10019 | M | 1 | 0 |\n",
       "| 6 | 10026 | F | 1 | 0 |\n",
       "\n"
      ],
      "text/plain": [
       "  subject_id gender expire_flag diabetes\n",
       "1 10006      F      1           1       \n",
       "2 10011      F      1           0       \n",
       "3 10013      F      1           0       \n",
       "4 10017      F      1           1       \n",
       "5 10019      M      1           0       \n",
       "6 10026      F      1           0       "
      ]
     },
     "metadata": {},
     "output_type": "display_data"
    }
   ],
   "source": [
    "# remove redundant columns\n",
    "patients <- patients[ , c(2, 3, 8, 9)]\n",
    "#patients$gender <- ifelse(patients$gender == 'M', 1, 0)\n",
    "head(patients)"
   ]
  },
  {
   "cell_type": "markdown",
   "metadata": {},
   "source": [
    "### Admissions table"
   ]
  },
  {
   "cell_type": "code",
   "execution_count": 9,
   "metadata": {},
   "outputs": [
    {
     "data": {
      "text/html": [
       "<table class=\"dataframe\">\n",
       "<caption>A data.frame: 6 × 19</caption>\n",
       "<thead>\n",
       "\t<tr><th></th><th scope=col>row_id</th><th scope=col>subject_id</th><th scope=col>hadm_id</th><th scope=col>admittime</th><th scope=col>dischtime</th><th scope=col>deathtime</th><th scope=col>admission_type</th><th scope=col>admission_location</th><th scope=col>discharge_location</th><th scope=col>insurance</th><th scope=col>language</th><th scope=col>religion</th><th scope=col>marital_status</th><th scope=col>ethnicity</th><th scope=col>edregtime</th><th scope=col>edouttime</th><th scope=col>diagnosis</th><th scope=col>hospital_expire_flag</th><th scope=col>has_chartevents_data</th></tr>\n",
       "\t<tr><th></th><th scope=col>&lt;int&gt;</th><th scope=col>&lt;int&gt;</th><th scope=col>&lt;int&gt;</th><th scope=col>&lt;chr&gt;</th><th scope=col>&lt;chr&gt;</th><th scope=col>&lt;chr&gt;</th><th scope=col>&lt;chr&gt;</th><th scope=col>&lt;chr&gt;</th><th scope=col>&lt;chr&gt;</th><th scope=col>&lt;chr&gt;</th><th scope=col>&lt;chr&gt;</th><th scope=col>&lt;chr&gt;</th><th scope=col>&lt;chr&gt;</th><th scope=col>&lt;chr&gt;</th><th scope=col>&lt;chr&gt;</th><th scope=col>&lt;chr&gt;</th><th scope=col>&lt;chr&gt;</th><th scope=col>&lt;int&gt;</th><th scope=col>&lt;int&gt;</th></tr>\n",
       "</thead>\n",
       "<tbody>\n",
       "\t<tr><th scope=row>1</th><td>12258</td><td>10006</td><td>142345</td><td>2164-10-23 21:09:00</td><td>2164-11-01 17:15:00</td><td>                   </td><td>EMERGENCY</td><td>EMERGENCY ROOM ADMIT     </td><td>HOME HEALTH CARE        </td><td>Medicare</td><td></td><td>CATHOLIC</td><td>SEPARATED</td><td>BLACK/AFRICAN AMERICAN</td><td>2164-10-23 16:43:00</td><td>2164-10-23 23:00:00</td><td>SEPSIS             </td><td>0</td><td>1</td></tr>\n",
       "\t<tr><th scope=row>2</th><td>12263</td><td>10011</td><td>105331</td><td>2126-08-14 22:32:00</td><td>2126-08-28 18:59:00</td><td>2126-08-28 18:59:00</td><td>EMERGENCY</td><td>TRANSFER FROM HOSP/EXTRAM</td><td>DEAD/EXPIRED            </td><td>Private </td><td></td><td>CATHOLIC</td><td>SINGLE   </td><td>UNKNOWN/NOT SPECIFIED </td><td>                   </td><td>                   </td><td>HEPATITIS B        </td><td>1</td><td>1</td></tr>\n",
       "\t<tr><th scope=row>3</th><td>12265</td><td>10013</td><td>165520</td><td>2125-10-04 23:36:00</td><td>2125-10-07 15:13:00</td><td>2125-10-07 15:13:00</td><td>EMERGENCY</td><td>TRANSFER FROM HOSP/EXTRAM</td><td>DEAD/EXPIRED            </td><td>Medicare</td><td></td><td>CATHOLIC</td><td>         </td><td>UNKNOWN/NOT SPECIFIED </td><td>                   </td><td>                   </td><td>SEPSIS             </td><td>1</td><td>1</td></tr>\n",
       "\t<tr><th scope=row>4</th><td>12269</td><td>10017</td><td>199207</td><td>2149-05-26 17:19:00</td><td>2149-06-03 18:42:00</td><td>                   </td><td>EMERGENCY</td><td>EMERGENCY ROOM ADMIT     </td><td>SNF                     </td><td>Medicare</td><td></td><td>CATHOLIC</td><td>DIVORCED </td><td>WHITE                 </td><td>2149-05-26 12:08:00</td><td>2149-05-26 19:45:00</td><td>HUMERAL FRACTURE   </td><td>0</td><td>1</td></tr>\n",
       "\t<tr><th scope=row>5</th><td>12270</td><td>10019</td><td>177759</td><td>2163-05-14 20:43:00</td><td>2163-05-15 12:00:00</td><td>2163-05-15 12:00:00</td><td>EMERGENCY</td><td>TRANSFER FROM HOSP/EXTRAM</td><td>DEAD/EXPIRED            </td><td>Medicare</td><td></td><td>CATHOLIC</td><td>DIVORCED </td><td>WHITE                 </td><td>                   </td><td>                   </td><td>ALCOHOLIC HEPATITIS</td><td>1</td><td>1</td></tr>\n",
       "\t<tr><th scope=row>6</th><td>12277</td><td>10026</td><td>103770</td><td>2195-05-17 07:39:00</td><td>2195-05-24 11:45:00</td><td>                   </td><td>EMERGENCY</td><td>EMERGENCY ROOM ADMIT     </td><td>REHAB/DISTINCT PART HOSP</td><td>Medicare</td><td></td><td>OTHER   </td><td>         </td><td>WHITE                 </td><td>2195-05-17 01:49:00</td><td>2195-05-17 08:29:00</td><td>STROKE/TIA         </td><td>0</td><td>1</td></tr>\n",
       "</tbody>\n",
       "</table>\n"
      ],
      "text/latex": [
       "A data.frame: 6 × 19\n",
       "\\begin{tabular}{r|lllllllllllllllllll}\n",
       "  & row\\_id & subject\\_id & hadm\\_id & admittime & dischtime & deathtime & admission\\_type & admission\\_location & discharge\\_location & insurance & language & religion & marital\\_status & ethnicity & edregtime & edouttime & diagnosis & hospital\\_expire\\_flag & has\\_chartevents\\_data\\\\\n",
       "  & <int> & <int> & <int> & <chr> & <chr> & <chr> & <chr> & <chr> & <chr> & <chr> & <chr> & <chr> & <chr> & <chr> & <chr> & <chr> & <chr> & <int> & <int>\\\\\n",
       "\\hline\n",
       "\t1 & 12258 & 10006 & 142345 & 2164-10-23 21:09:00 & 2164-11-01 17:15:00 &                     & EMERGENCY & EMERGENCY ROOM ADMIT      & HOME HEALTH CARE         & Medicare &  & CATHOLIC & SEPARATED & BLACK/AFRICAN AMERICAN & 2164-10-23 16:43:00 & 2164-10-23 23:00:00 & SEPSIS              & 0 & 1\\\\\n",
       "\t2 & 12263 & 10011 & 105331 & 2126-08-14 22:32:00 & 2126-08-28 18:59:00 & 2126-08-28 18:59:00 & EMERGENCY & TRANSFER FROM HOSP/EXTRAM & DEAD/EXPIRED             & Private  &  & CATHOLIC & SINGLE    & UNKNOWN/NOT SPECIFIED  &                     &                     & HEPATITIS B         & 1 & 1\\\\\n",
       "\t3 & 12265 & 10013 & 165520 & 2125-10-04 23:36:00 & 2125-10-07 15:13:00 & 2125-10-07 15:13:00 & EMERGENCY & TRANSFER FROM HOSP/EXTRAM & DEAD/EXPIRED             & Medicare &  & CATHOLIC &           & UNKNOWN/NOT SPECIFIED  &                     &                     & SEPSIS              & 1 & 1\\\\\n",
       "\t4 & 12269 & 10017 & 199207 & 2149-05-26 17:19:00 & 2149-06-03 18:42:00 &                     & EMERGENCY & EMERGENCY ROOM ADMIT      & SNF                      & Medicare &  & CATHOLIC & DIVORCED  & WHITE                  & 2149-05-26 12:08:00 & 2149-05-26 19:45:00 & HUMERAL FRACTURE    & 0 & 1\\\\\n",
       "\t5 & 12270 & 10019 & 177759 & 2163-05-14 20:43:00 & 2163-05-15 12:00:00 & 2163-05-15 12:00:00 & EMERGENCY & TRANSFER FROM HOSP/EXTRAM & DEAD/EXPIRED             & Medicare &  & CATHOLIC & DIVORCED  & WHITE                  &                     &                     & ALCOHOLIC HEPATITIS & 1 & 1\\\\\n",
       "\t6 & 12277 & 10026 & 103770 & 2195-05-17 07:39:00 & 2195-05-24 11:45:00 &                     & EMERGENCY & EMERGENCY ROOM ADMIT      & REHAB/DISTINCT PART HOSP & Medicare &  & OTHER    &           & WHITE                  & 2195-05-17 01:49:00 & 2195-05-17 08:29:00 & STROKE/TIA          & 0 & 1\\\\\n",
       "\\end{tabular}\n"
      ],
      "text/markdown": [
       "\n",
       "A data.frame: 6 × 19\n",
       "\n",
       "| <!--/--> | row_id &lt;int&gt; | subject_id &lt;int&gt; | hadm_id &lt;int&gt; | admittime &lt;chr&gt; | dischtime &lt;chr&gt; | deathtime &lt;chr&gt; | admission_type &lt;chr&gt; | admission_location &lt;chr&gt; | discharge_location &lt;chr&gt; | insurance &lt;chr&gt; | language &lt;chr&gt; | religion &lt;chr&gt; | marital_status &lt;chr&gt; | ethnicity &lt;chr&gt; | edregtime &lt;chr&gt; | edouttime &lt;chr&gt; | diagnosis &lt;chr&gt; | hospital_expire_flag &lt;int&gt; | has_chartevents_data &lt;int&gt; |\n",
       "|---|---|---|---|---|---|---|---|---|---|---|---|---|---|---|---|---|---|---|---|\n",
       "| 1 | 12258 | 10006 | 142345 | 2164-10-23 21:09:00 | 2164-11-01 17:15:00 | <!----> | EMERGENCY | EMERGENCY ROOM ADMIT      | HOME HEALTH CARE         | Medicare | <!----> | CATHOLIC | SEPARATED | BLACK/AFRICAN AMERICAN | 2164-10-23 16:43:00 | 2164-10-23 23:00:00 | SEPSIS              | 0 | 1 |\n",
       "| 2 | 12263 | 10011 | 105331 | 2126-08-14 22:32:00 | 2126-08-28 18:59:00 | 2126-08-28 18:59:00 | EMERGENCY | TRANSFER FROM HOSP/EXTRAM | DEAD/EXPIRED             | Private  | <!----> | CATHOLIC | SINGLE    | UNKNOWN/NOT SPECIFIED  | <!----> | <!----> | HEPATITIS B         | 1 | 1 |\n",
       "| 3 | 12265 | 10013 | 165520 | 2125-10-04 23:36:00 | 2125-10-07 15:13:00 | 2125-10-07 15:13:00 | EMERGENCY | TRANSFER FROM HOSP/EXTRAM | DEAD/EXPIRED             | Medicare | <!----> | CATHOLIC | <!----> | UNKNOWN/NOT SPECIFIED  | <!----> | <!----> | SEPSIS              | 1 | 1 |\n",
       "| 4 | 12269 | 10017 | 199207 | 2149-05-26 17:19:00 | 2149-06-03 18:42:00 | <!----> | EMERGENCY | EMERGENCY ROOM ADMIT      | SNF                      | Medicare | <!----> | CATHOLIC | DIVORCED  | WHITE                  | 2149-05-26 12:08:00 | 2149-05-26 19:45:00 | HUMERAL FRACTURE    | 0 | 1 |\n",
       "| 5 | 12270 | 10019 | 177759 | 2163-05-14 20:43:00 | 2163-05-15 12:00:00 | 2163-05-15 12:00:00 | EMERGENCY | TRANSFER FROM HOSP/EXTRAM | DEAD/EXPIRED             | Medicare | <!----> | CATHOLIC | DIVORCED  | WHITE                  | <!----> | <!----> | ALCOHOLIC HEPATITIS | 1 | 1 |\n",
       "| 6 | 12277 | 10026 | 103770 | 2195-05-17 07:39:00 | 2195-05-24 11:45:00 | <!----> | EMERGENCY | EMERGENCY ROOM ADMIT      | REHAB/DISTINCT PART HOSP | Medicare | <!----> | OTHER    | <!----> | WHITE                  | 2195-05-17 01:49:00 | 2195-05-17 08:29:00 | STROKE/TIA          | 0 | 1 |\n",
       "\n"
      ],
      "text/plain": [
       "  row_id subject_id hadm_id admittime           dischtime          \n",
       "1 12258  10006      142345  2164-10-23 21:09:00 2164-11-01 17:15:00\n",
       "2 12263  10011      105331  2126-08-14 22:32:00 2126-08-28 18:59:00\n",
       "3 12265  10013      165520  2125-10-04 23:36:00 2125-10-07 15:13:00\n",
       "4 12269  10017      199207  2149-05-26 17:19:00 2149-06-03 18:42:00\n",
       "5 12270  10019      177759  2163-05-14 20:43:00 2163-05-15 12:00:00\n",
       "6 12277  10026      103770  2195-05-17 07:39:00 2195-05-24 11:45:00\n",
       "  deathtime           admission_type admission_location       \n",
       "1                     EMERGENCY      EMERGENCY ROOM ADMIT     \n",
       "2 2126-08-28 18:59:00 EMERGENCY      TRANSFER FROM HOSP/EXTRAM\n",
       "3 2125-10-07 15:13:00 EMERGENCY      TRANSFER FROM HOSP/EXTRAM\n",
       "4                     EMERGENCY      EMERGENCY ROOM ADMIT     \n",
       "5 2163-05-15 12:00:00 EMERGENCY      TRANSFER FROM HOSP/EXTRAM\n",
       "6                     EMERGENCY      EMERGENCY ROOM ADMIT     \n",
       "  discharge_location       insurance language religion marital_status\n",
       "1 HOME HEALTH CARE         Medicare           CATHOLIC SEPARATED     \n",
       "2 DEAD/EXPIRED             Private            CATHOLIC SINGLE        \n",
       "3 DEAD/EXPIRED             Medicare           CATHOLIC               \n",
       "4 SNF                      Medicare           CATHOLIC DIVORCED      \n",
       "5 DEAD/EXPIRED             Medicare           CATHOLIC DIVORCED      \n",
       "6 REHAB/DISTINCT PART HOSP Medicare           OTHER                  \n",
       "  ethnicity              edregtime           edouttime          \n",
       "1 BLACK/AFRICAN AMERICAN 2164-10-23 16:43:00 2164-10-23 23:00:00\n",
       "2 UNKNOWN/NOT SPECIFIED                                         \n",
       "3 UNKNOWN/NOT SPECIFIED                                         \n",
       "4 WHITE                  2149-05-26 12:08:00 2149-05-26 19:45:00\n",
       "5 WHITE                                                         \n",
       "6 WHITE                  2195-05-17 01:49:00 2195-05-17 08:29:00\n",
       "  diagnosis           hospital_expire_flag has_chartevents_data\n",
       "1 SEPSIS              0                    1                   \n",
       "2 HEPATITIS B         1                    1                   \n",
       "3 SEPSIS              1                    1                   \n",
       "4 HUMERAL FRACTURE    0                    1                   \n",
       "5 ALCOHOLIC HEPATITIS 1                    1                   \n",
       "6 STROKE/TIA          0                    1                   "
      ]
     },
     "metadata": {},
     "output_type": "display_data"
    }
   ],
   "source": [
    "admissions <- read.csv(\"mimic-iii-clinical-database-demo-1.4/ADMISSIONS.csv\", stringsAsFactors = FALSE)\n",
    "head(admissions)"
   ]
  },
  {
   "cell_type": "code",
   "execution_count": 10,
   "metadata": {},
   "outputs": [
    {
     "data": {
      "text/html": [
       "<table class=\"dataframe\">\n",
       "<caption>A data.frame: 6 × 4</caption>\n",
       "<thead>\n",
       "\t<tr><th></th><th scope=col>subject_id</th><th scope=col>religion</th><th scope=col>ethnicity</th><th scope=col>insurance</th></tr>\n",
       "\t<tr><th></th><th scope=col>&lt;int&gt;</th><th scope=col>&lt;chr&gt;</th><th scope=col>&lt;chr&gt;</th><th scope=col>&lt;chr&gt;</th></tr>\n",
       "</thead>\n",
       "<tbody>\n",
       "\t<tr><th scope=row>1</th><td>10006</td><td>CATHOLIC</td><td>BLACK/AFRICAN AMERICAN</td><td>Medicare</td></tr>\n",
       "\t<tr><th scope=row>2</th><td>10011</td><td>CATHOLIC</td><td>UNKNOWN/NOT SPECIFIED </td><td>Private </td></tr>\n",
       "\t<tr><th scope=row>3</th><td>10013</td><td>CATHOLIC</td><td>UNKNOWN/NOT SPECIFIED </td><td>Medicare</td></tr>\n",
       "\t<tr><th scope=row>4</th><td>10017</td><td>CATHOLIC</td><td>WHITE                 </td><td>Medicare</td></tr>\n",
       "\t<tr><th scope=row>5</th><td>10019</td><td>CATHOLIC</td><td>WHITE                 </td><td>Medicare</td></tr>\n",
       "\t<tr><th scope=row>6</th><td>10026</td><td>OTHER   </td><td>WHITE                 </td><td>Medicare</td></tr>\n",
       "</tbody>\n",
       "</table>\n"
      ],
      "text/latex": [
       "A data.frame: 6 × 4\n",
       "\\begin{tabular}{r|llll}\n",
       "  & subject\\_id & religion & ethnicity & insurance\\\\\n",
       "  & <int> & <chr> & <chr> & <chr>\\\\\n",
       "\\hline\n",
       "\t1 & 10006 & CATHOLIC & BLACK/AFRICAN AMERICAN & Medicare\\\\\n",
       "\t2 & 10011 & CATHOLIC & UNKNOWN/NOT SPECIFIED  & Private \\\\\n",
       "\t3 & 10013 & CATHOLIC & UNKNOWN/NOT SPECIFIED  & Medicare\\\\\n",
       "\t4 & 10017 & CATHOLIC & WHITE                  & Medicare\\\\\n",
       "\t5 & 10019 & CATHOLIC & WHITE                  & Medicare\\\\\n",
       "\t6 & 10026 & OTHER    & WHITE                  & Medicare\\\\\n",
       "\\end{tabular}\n"
      ],
      "text/markdown": [
       "\n",
       "A data.frame: 6 × 4\n",
       "\n",
       "| <!--/--> | subject_id &lt;int&gt; | religion &lt;chr&gt; | ethnicity &lt;chr&gt; | insurance &lt;chr&gt; |\n",
       "|---|---|---|---|---|\n",
       "| 1 | 10006 | CATHOLIC | BLACK/AFRICAN AMERICAN | Medicare |\n",
       "| 2 | 10011 | CATHOLIC | UNKNOWN/NOT SPECIFIED  | Private  |\n",
       "| 3 | 10013 | CATHOLIC | UNKNOWN/NOT SPECIFIED  | Medicare |\n",
       "| 4 | 10017 | CATHOLIC | WHITE                  | Medicare |\n",
       "| 5 | 10019 | CATHOLIC | WHITE                  | Medicare |\n",
       "| 6 | 10026 | OTHER    | WHITE                  | Medicare |\n",
       "\n"
      ],
      "text/plain": [
       "  subject_id religion ethnicity              insurance\n",
       "1 10006      CATHOLIC BLACK/AFRICAN AMERICAN Medicare \n",
       "2 10011      CATHOLIC UNKNOWN/NOT SPECIFIED  Private  \n",
       "3 10013      CATHOLIC UNKNOWN/NOT SPECIFIED  Medicare \n",
       "4 10017      CATHOLIC WHITE                  Medicare \n",
       "5 10019      CATHOLIC WHITE                  Medicare \n",
       "6 10026      OTHER    WHITE                  Medicare "
      ]
     },
     "metadata": {},
     "output_type": "display_data"
    }
   ],
   "source": [
    "data <- admissions[, c('subject_id', 'religion', 'ethnicity', 'insurance')]\n",
    "head(data)"
   ]
  },
  {
   "cell_type": "code",
   "execution_count": 11,
   "metadata": {},
   "outputs": [
    {
     "data": {
      "text/html": [
       "<table class=\"dataframe\">\n",
       "<caption>A data.frame: 6 × 7</caption>\n",
       "<thead>\n",
       "\t<tr><th></th><th scope=col>subject_id</th><th scope=col>gender</th><th scope=col>expire_flag</th><th scope=col>diabetes</th><th scope=col>religion</th><th scope=col>ethnicity</th><th scope=col>insurance</th></tr>\n",
       "\t<tr><th></th><th scope=col>&lt;int&gt;</th><th scope=col>&lt;chr&gt;</th><th scope=col>&lt;int&gt;</th><th scope=col>&lt;dbl&gt;</th><th scope=col>&lt;chr&gt;</th><th scope=col>&lt;chr&gt;</th><th scope=col>&lt;chr&gt;</th></tr>\n",
       "</thead>\n",
       "<tbody>\n",
       "\t<tr><th scope=row>1</th><td>10006</td><td>F</td><td>1</td><td>1</td><td>CATHOLIC</td><td>BLACK/AFRICAN AMERICAN</td><td>Medicare</td></tr>\n",
       "\t<tr><th scope=row>2</th><td>10011</td><td>F</td><td>1</td><td>0</td><td>CATHOLIC</td><td>UNKNOWN/NOT SPECIFIED </td><td>Private </td></tr>\n",
       "\t<tr><th scope=row>3</th><td>10013</td><td>F</td><td>1</td><td>0</td><td>CATHOLIC</td><td>UNKNOWN/NOT SPECIFIED </td><td>Medicare</td></tr>\n",
       "\t<tr><th scope=row>4</th><td>10017</td><td>F</td><td>1</td><td>1</td><td>CATHOLIC</td><td>WHITE                 </td><td>Medicare</td></tr>\n",
       "\t<tr><th scope=row>5</th><td>10019</td><td>M</td><td>1</td><td>0</td><td>CATHOLIC</td><td>WHITE                 </td><td>Medicare</td></tr>\n",
       "\t<tr><th scope=row>6</th><td>10026</td><td>F</td><td>1</td><td>0</td><td>OTHER   </td><td>WHITE                 </td><td>Medicare</td></tr>\n",
       "</tbody>\n",
       "</table>\n"
      ],
      "text/latex": [
       "A data.frame: 6 × 7\n",
       "\\begin{tabular}{r|lllllll}\n",
       "  & subject\\_id & gender & expire\\_flag & diabetes & religion & ethnicity & insurance\\\\\n",
       "  & <int> & <chr> & <int> & <dbl> & <chr> & <chr> & <chr>\\\\\n",
       "\\hline\n",
       "\t1 & 10006 & F & 1 & 1 & CATHOLIC & BLACK/AFRICAN AMERICAN & Medicare\\\\\n",
       "\t2 & 10011 & F & 1 & 0 & CATHOLIC & UNKNOWN/NOT SPECIFIED  & Private \\\\\n",
       "\t3 & 10013 & F & 1 & 0 & CATHOLIC & UNKNOWN/NOT SPECIFIED  & Medicare\\\\\n",
       "\t4 & 10017 & F & 1 & 1 & CATHOLIC & WHITE                  & Medicare\\\\\n",
       "\t5 & 10019 & M & 1 & 0 & CATHOLIC & WHITE                  & Medicare\\\\\n",
       "\t6 & 10026 & F & 1 & 0 & OTHER    & WHITE                  & Medicare\\\\\n",
       "\\end{tabular}\n"
      ],
      "text/markdown": [
       "\n",
       "A data.frame: 6 × 7\n",
       "\n",
       "| <!--/--> | subject_id &lt;int&gt; | gender &lt;chr&gt; | expire_flag &lt;int&gt; | diabetes &lt;dbl&gt; | religion &lt;chr&gt; | ethnicity &lt;chr&gt; | insurance &lt;chr&gt; |\n",
       "|---|---|---|---|---|---|---|---|\n",
       "| 1 | 10006 | F | 1 | 1 | CATHOLIC | BLACK/AFRICAN AMERICAN | Medicare |\n",
       "| 2 | 10011 | F | 1 | 0 | CATHOLIC | UNKNOWN/NOT SPECIFIED  | Private  |\n",
       "| 3 | 10013 | F | 1 | 0 | CATHOLIC | UNKNOWN/NOT SPECIFIED  | Medicare |\n",
       "| 4 | 10017 | F | 1 | 1 | CATHOLIC | WHITE                  | Medicare |\n",
       "| 5 | 10019 | M | 1 | 0 | CATHOLIC | WHITE                  | Medicare |\n",
       "| 6 | 10026 | F | 1 | 0 | OTHER    | WHITE                  | Medicare |\n",
       "\n"
      ],
      "text/plain": [
       "  subject_id gender expire_flag diabetes religion ethnicity             \n",
       "1 10006      F      1           1        CATHOLIC BLACK/AFRICAN AMERICAN\n",
       "2 10011      F      1           0        CATHOLIC UNKNOWN/NOT SPECIFIED \n",
       "3 10013      F      1           0        CATHOLIC UNKNOWN/NOT SPECIFIED \n",
       "4 10017      F      1           1        CATHOLIC WHITE                 \n",
       "5 10019      M      1           0        CATHOLIC WHITE                 \n",
       "6 10026      F      1           0        OTHER    WHITE                 \n",
       "  insurance\n",
       "1 Medicare \n",
       "2 Private  \n",
       "3 Medicare \n",
       "4 Medicare \n",
       "5 Medicare \n",
       "6 Medicare "
      ]
     },
     "metadata": {},
     "output_type": "display_data"
    }
   ],
   "source": [
    "# join to patients table\n",
    "patients <- merge(patients, data, by = c('subject_id'))\n",
    "rm(data)\n",
    "\n",
    "head(patients)"
   ]
  },
  {
   "cell_type": "markdown",
   "metadata": {},
   "source": [
    "### Number of admission of each type"
   ]
  },
  {
   "cell_type": "code",
   "execution_count": 12,
   "metadata": {},
   "outputs": [
    {
     "name": "stderr",
     "output_type": "stream",
     "text": [
      "`summarise()` has grouped output by 'subject_id'. You can override using the `.groups` argument.\n",
      "\n"
     ]
    },
    {
     "data": {
      "text/html": [
       "<table class=\"dataframe\">\n",
       "<caption>A grouped_df: 6 × 4</caption>\n",
       "<thead>\n",
       "\t<tr><th scope=col>subject_id</th><th scope=col>n_EMERGENCY_stay</th><th scope=col>n_ELECTIVE_stay</th><th scope=col>n_URGENT_stay</th></tr>\n",
       "\t<tr><th scope=col>&lt;int&gt;</th><th scope=col>&lt;int&gt;</th><th scope=col>&lt;int&gt;</th><th scope=col>&lt;int&gt;</th></tr>\n",
       "</thead>\n",
       "<tbody>\n",
       "\t<tr><td>10006</td><td>1</td><td>0</td><td>0</td></tr>\n",
       "\t<tr><td>10011</td><td>1</td><td>0</td><td>0</td></tr>\n",
       "\t<tr><td>10013</td><td>1</td><td>0</td><td>0</td></tr>\n",
       "\t<tr><td>10017</td><td>1</td><td>0</td><td>0</td></tr>\n",
       "\t<tr><td>10019</td><td>1</td><td>0</td><td>0</td></tr>\n",
       "\t<tr><td>10026</td><td>1</td><td>0</td><td>0</td></tr>\n",
       "</tbody>\n",
       "</table>\n"
      ],
      "text/latex": [
       "A grouped\\_df: 6 × 4\n",
       "\\begin{tabular}{llll}\n",
       " subject\\_id & n\\_EMERGENCY\\_stay & n\\_ELECTIVE\\_stay & n\\_URGENT\\_stay\\\\\n",
       " <int> & <int> & <int> & <int>\\\\\n",
       "\\hline\n",
       "\t 10006 & 1 & 0 & 0\\\\\n",
       "\t 10011 & 1 & 0 & 0\\\\\n",
       "\t 10013 & 1 & 0 & 0\\\\\n",
       "\t 10017 & 1 & 0 & 0\\\\\n",
       "\t 10019 & 1 & 0 & 0\\\\\n",
       "\t 10026 & 1 & 0 & 0\\\\\n",
       "\\end{tabular}\n"
      ],
      "text/markdown": [
       "\n",
       "A grouped_df: 6 × 4\n",
       "\n",
       "| subject_id &lt;int&gt; | n_EMERGENCY_stay &lt;int&gt; | n_ELECTIVE_stay &lt;int&gt; | n_URGENT_stay &lt;int&gt; |\n",
       "|---|---|---|---|\n",
       "| 10006 | 1 | 0 | 0 |\n",
       "| 10011 | 1 | 0 | 0 |\n",
       "| 10013 | 1 | 0 | 0 |\n",
       "| 10017 | 1 | 0 | 0 |\n",
       "| 10019 | 1 | 0 | 0 |\n",
       "| 10026 | 1 | 0 | 0 |\n",
       "\n"
      ],
      "text/plain": [
       "  subject_id n_EMERGENCY_stay n_ELECTIVE_stay n_URGENT_stay\n",
       "1 10006      1                0               0            \n",
       "2 10011      1                0               0            \n",
       "3 10013      1                0               0            \n",
       "4 10017      1                0               0            \n",
       "5 10019      1                0               0            \n",
       "6 10026      1                0               0            "
      ]
     },
     "metadata": {},
     "output_type": "display_data"
    }
   ],
   "source": [
    "x <- admissions %>% \n",
    "    group_by(subject_id, admission_type) %>%\n",
    "    summarise(n = n())\n",
    "\n",
    "x <- x %>%\n",
    "  pivot_wider(names_from = admission_type, values_from = n)\n",
    "\n",
    "x[is.na(x)] <- 0\n",
    "\n",
    "colnames(x) <- c('subject_id', 'n_EMERGENCY_stay', 'n_ELECTIVE_stay', 'n_URGENT_stay')\n",
    "\n",
    "head(x)"
   ]
  },
  {
   "cell_type": "code",
   "execution_count": 13,
   "metadata": {},
   "outputs": [
    {
     "data": {
      "text/html": [
       "<table class=\"dataframe\">\n",
       "<caption>A data.frame: 6 × 10</caption>\n",
       "<thead>\n",
       "\t<tr><th></th><th scope=col>subject_id</th><th scope=col>gender</th><th scope=col>expire_flag</th><th scope=col>diabetes</th><th scope=col>religion</th><th scope=col>ethnicity</th><th scope=col>insurance</th><th scope=col>n_EMERGENCY_stay</th><th scope=col>n_ELECTIVE_stay</th><th scope=col>n_URGENT_stay</th></tr>\n",
       "\t<tr><th></th><th scope=col>&lt;int&gt;</th><th scope=col>&lt;chr&gt;</th><th scope=col>&lt;int&gt;</th><th scope=col>&lt;dbl&gt;</th><th scope=col>&lt;chr&gt;</th><th scope=col>&lt;chr&gt;</th><th scope=col>&lt;chr&gt;</th><th scope=col>&lt;int&gt;</th><th scope=col>&lt;int&gt;</th><th scope=col>&lt;int&gt;</th></tr>\n",
       "</thead>\n",
       "<tbody>\n",
       "\t<tr><th scope=row>1</th><td>10006</td><td>F</td><td>1</td><td>1</td><td>CATHOLIC</td><td>BLACK/AFRICAN AMERICAN</td><td>Medicare</td><td>1</td><td>0</td><td>0</td></tr>\n",
       "\t<tr><th scope=row>2</th><td>10011</td><td>F</td><td>1</td><td>0</td><td>CATHOLIC</td><td>UNKNOWN/NOT SPECIFIED </td><td>Private </td><td>1</td><td>0</td><td>0</td></tr>\n",
       "\t<tr><th scope=row>3</th><td>10013</td><td>F</td><td>1</td><td>0</td><td>CATHOLIC</td><td>UNKNOWN/NOT SPECIFIED </td><td>Medicare</td><td>1</td><td>0</td><td>0</td></tr>\n",
       "\t<tr><th scope=row>4</th><td>10017</td><td>F</td><td>1</td><td>1</td><td>CATHOLIC</td><td>WHITE                 </td><td>Medicare</td><td>1</td><td>0</td><td>0</td></tr>\n",
       "\t<tr><th scope=row>5</th><td>10019</td><td>M</td><td>1</td><td>0</td><td>CATHOLIC</td><td>WHITE                 </td><td>Medicare</td><td>1</td><td>0</td><td>0</td></tr>\n",
       "\t<tr><th scope=row>6</th><td>10026</td><td>F</td><td>1</td><td>0</td><td>OTHER   </td><td>WHITE                 </td><td>Medicare</td><td>1</td><td>0</td><td>0</td></tr>\n",
       "</tbody>\n",
       "</table>\n"
      ],
      "text/latex": [
       "A data.frame: 6 × 10\n",
       "\\begin{tabular}{r|llllllllll}\n",
       "  & subject\\_id & gender & expire\\_flag & diabetes & religion & ethnicity & insurance & n\\_EMERGENCY\\_stay & n\\_ELECTIVE\\_stay & n\\_URGENT\\_stay\\\\\n",
       "  & <int> & <chr> & <int> & <dbl> & <chr> & <chr> & <chr> & <int> & <int> & <int>\\\\\n",
       "\\hline\n",
       "\t1 & 10006 & F & 1 & 1 & CATHOLIC & BLACK/AFRICAN AMERICAN & Medicare & 1 & 0 & 0\\\\\n",
       "\t2 & 10011 & F & 1 & 0 & CATHOLIC & UNKNOWN/NOT SPECIFIED  & Private  & 1 & 0 & 0\\\\\n",
       "\t3 & 10013 & F & 1 & 0 & CATHOLIC & UNKNOWN/NOT SPECIFIED  & Medicare & 1 & 0 & 0\\\\\n",
       "\t4 & 10017 & F & 1 & 1 & CATHOLIC & WHITE                  & Medicare & 1 & 0 & 0\\\\\n",
       "\t5 & 10019 & M & 1 & 0 & CATHOLIC & WHITE                  & Medicare & 1 & 0 & 0\\\\\n",
       "\t6 & 10026 & F & 1 & 0 & OTHER    & WHITE                  & Medicare & 1 & 0 & 0\\\\\n",
       "\\end{tabular}\n"
      ],
      "text/markdown": [
       "\n",
       "A data.frame: 6 × 10\n",
       "\n",
       "| <!--/--> | subject_id &lt;int&gt; | gender &lt;chr&gt; | expire_flag &lt;int&gt; | diabetes &lt;dbl&gt; | religion &lt;chr&gt; | ethnicity &lt;chr&gt; | insurance &lt;chr&gt; | n_EMERGENCY_stay &lt;int&gt; | n_ELECTIVE_stay &lt;int&gt; | n_URGENT_stay &lt;int&gt; |\n",
       "|---|---|---|---|---|---|---|---|---|---|---|\n",
       "| 1 | 10006 | F | 1 | 1 | CATHOLIC | BLACK/AFRICAN AMERICAN | Medicare | 1 | 0 | 0 |\n",
       "| 2 | 10011 | F | 1 | 0 | CATHOLIC | UNKNOWN/NOT SPECIFIED  | Private  | 1 | 0 | 0 |\n",
       "| 3 | 10013 | F | 1 | 0 | CATHOLIC | UNKNOWN/NOT SPECIFIED  | Medicare | 1 | 0 | 0 |\n",
       "| 4 | 10017 | F | 1 | 1 | CATHOLIC | WHITE                  | Medicare | 1 | 0 | 0 |\n",
       "| 5 | 10019 | M | 1 | 0 | CATHOLIC | WHITE                  | Medicare | 1 | 0 | 0 |\n",
       "| 6 | 10026 | F | 1 | 0 | OTHER    | WHITE                  | Medicare | 1 | 0 | 0 |\n",
       "\n"
      ],
      "text/plain": [
       "  subject_id gender expire_flag diabetes religion ethnicity             \n",
       "1 10006      F      1           1        CATHOLIC BLACK/AFRICAN AMERICAN\n",
       "2 10011      F      1           0        CATHOLIC UNKNOWN/NOT SPECIFIED \n",
       "3 10013      F      1           0        CATHOLIC UNKNOWN/NOT SPECIFIED \n",
       "4 10017      F      1           1        CATHOLIC WHITE                 \n",
       "5 10019      M      1           0        CATHOLIC WHITE                 \n",
       "6 10026      F      1           0        OTHER    WHITE                 \n",
       "  insurance n_EMERGENCY_stay n_ELECTIVE_stay n_URGENT_stay\n",
       "1 Medicare  1                0               0            \n",
       "2 Private   1                0               0            \n",
       "3 Medicare  1                0               0            \n",
       "4 Medicare  1                0               0            \n",
       "5 Medicare  1                0               0            \n",
       "6 Medicare  1                0               0            "
      ]
     },
     "metadata": {},
     "output_type": "display_data"
    }
   ],
   "source": [
    "# join to patients table\n",
    "patients <- merge(patients, x, by = c('subject_id'))\n",
    "head(patients)"
   ]
  },
  {
   "cell_type": "code",
   "execution_count": 14,
   "metadata": {},
   "outputs": [],
   "source": [
    "rm(admissions)"
   ]
  },
  {
   "cell_type": "markdown",
   "metadata": {},
   "source": [
    "### Laboratory reuslts"
   ]
  },
  {
   "cell_type": "markdown",
   "metadata": {},
   "source": [
    "According to https://www.ncbi.nlm.nih.gov/pmc/articles/PMC5961793/ following medical examinations are connected with diabetes:\n",
    "* HbA1c - (Hemoglobina glikowana); code: 4548-4\n",
    "* Blood Glucose - (Glukoza); code: 2345-7\n",
    "* Serum Creatinine - (Kreatynina); code: 2160-0"
   ]
  },
  {
   "cell_type": "code",
   "execution_count": 15,
   "metadata": {},
   "outputs": [
    {
     "data": {
      "text/html": [
       "<table class=\"dataframe\">\n",
       "<caption>A data.frame: 4 × 6</caption>\n",
       "<thead>\n",
       "\t<tr><th></th><th scope=col>row_id</th><th scope=col>itemid</th><th scope=col>label</th><th scope=col>fluid</th><th scope=col>category</th><th scope=col>loinc_code</th></tr>\n",
       "\t<tr><th></th><th scope=col>&lt;int&gt;</th><th scope=col>&lt;int&gt;</th><th scope=col>&lt;chr&gt;</th><th scope=col>&lt;chr&gt;</th><th scope=col>&lt;chr&gt;</th><th scope=col>&lt;chr&gt;</th></tr>\n",
       "</thead>\n",
       "<tbody>\n",
       "\t<tr><th scope=row>53</th><td> 53</td><td>50852</td><td>% Hemoglobin A1c</td><td>Blood</td><td>Chemistry</td><td>4548-4</td></tr>\n",
       "\t<tr><th scope=row>55</th><td> 55</td><td>50854</td><td>Absolute A1c    </td><td>Blood</td><td>Chemistry</td><td>4548-4</td></tr>\n",
       "\t<tr><th scope=row>113</th><td>113</td><td>50912</td><td>Creatinine      </td><td>Blood</td><td>Chemistry</td><td>2160-0</td></tr>\n",
       "\t<tr><th scope=row>132</th><td>132</td><td>50931</td><td>Glucose         </td><td>Blood</td><td>Chemistry</td><td>2345-7</td></tr>\n",
       "</tbody>\n",
       "</table>\n"
      ],
      "text/latex": [
       "A data.frame: 4 × 6\n",
       "\\begin{tabular}{r|llllll}\n",
       "  & row\\_id & itemid & label & fluid & category & loinc\\_code\\\\\n",
       "  & <int> & <int> & <chr> & <chr> & <chr> & <chr>\\\\\n",
       "\\hline\n",
       "\t53 &  53 & 50852 & \\% Hemoglobin A1c & Blood & Chemistry & 4548-4\\\\\n",
       "\t55 &  55 & 50854 & Absolute A1c     & Blood & Chemistry & 4548-4\\\\\n",
       "\t113 & 113 & 50912 & Creatinine       & Blood & Chemistry & 2160-0\\\\\n",
       "\t132 & 132 & 50931 & Glucose          & Blood & Chemistry & 2345-7\\\\\n",
       "\\end{tabular}\n"
      ],
      "text/markdown": [
       "\n",
       "A data.frame: 4 × 6\n",
       "\n",
       "| <!--/--> | row_id &lt;int&gt; | itemid &lt;int&gt; | label &lt;chr&gt; | fluid &lt;chr&gt; | category &lt;chr&gt; | loinc_code &lt;chr&gt; |\n",
       "|---|---|---|---|---|---|---|\n",
       "| 53 |  53 | 50852 | % Hemoglobin A1c | Blood | Chemistry | 4548-4 |\n",
       "| 55 |  55 | 50854 | Absolute A1c     | Blood | Chemistry | 4548-4 |\n",
       "| 113 | 113 | 50912 | Creatinine       | Blood | Chemistry | 2160-0 |\n",
       "| 132 | 132 | 50931 | Glucose          | Blood | Chemistry | 2345-7 |\n",
       "\n"
      ],
      "text/plain": [
       "    row_id itemid label            fluid category  loinc_code\n",
       "53   53    50852  % Hemoglobin A1c Blood Chemistry 4548-4    \n",
       "55   55    50854  Absolute A1c     Blood Chemistry 4548-4    \n",
       "113 113    50912  Creatinine       Blood Chemistry 2160-0    \n",
       "132 132    50931  Glucose          Blood Chemistry 2345-7    "
      ]
     },
     "metadata": {},
     "output_type": "display_data"
    }
   ],
   "source": [
    "lab_codes <- c(\"4548-4\", \"2345-7\", \"2160-0\")\n",
    "\n",
    "labitems <- read.csv(\"mimic-iii-clinical-database-demo-1.4/D_LABITEMS.csv\", stringsAsFactors = FALSE)\n",
    "labitems <- labitems[labitems$loinc_code %in% lab_codes, ]\n",
    "labitems"
   ]
  },
  {
   "cell_type": "markdown",
   "metadata": {},
   "source": [
    "Codes are correct"
   ]
  },
  {
   "cell_type": "code",
   "execution_count": 16,
   "metadata": {},
   "outputs": [],
   "source": [
    "lab_codes <- labitems$itemid"
   ]
  },
  {
   "cell_type": "code",
   "execution_count": 17,
   "metadata": {},
   "outputs": [],
   "source": [
    "rm(labitems)"
   ]
  },
  {
   "cell_type": "code",
   "execution_count": 18,
   "metadata": {},
   "outputs": [
    {
     "data": {
      "text/html": [
       "<style>\n",
       ".list-inline {list-style: none; margin:0; padding: 0}\n",
       ".list-inline>li {display: inline-block}\n",
       ".list-inline>li:not(:last-child)::after {content: \"\\00b7\"; padding: 0 .5ex}\n",
       "</style>\n",
       "<ol class=list-inline><li>50852</li><li>50854</li><li>50912</li><li>50931</li></ol>\n"
      ],
      "text/latex": [
       "\\begin{enumerate*}\n",
       "\\item 50852\n",
       "\\item 50854\n",
       "\\item 50912\n",
       "\\item 50931\n",
       "\\end{enumerate*}\n"
      ],
      "text/markdown": [
       "1. 50852\n",
       "2. 50854\n",
       "3. 50912\n",
       "4. 50931\n",
       "\n",
       "\n"
      ],
      "text/plain": [
       "[1] 50852 50854 50912 50931"
      ]
     },
     "metadata": {},
     "output_type": "display_data"
    }
   ],
   "source": [
    "lab_codes"
   ]
  },
  {
   "cell_type": "code",
   "execution_count": 19,
   "metadata": {},
   "outputs": [
    {
     "data": {
      "text/html": [
       "<style>\n",
       ".list-inline {list-style: none; margin:0; padding: 0}\n",
       ".list-inline>li {display: inline-block}\n",
       ".list-inline>li:not(:last-child)::after {content: \"\\00b7\"; padding: 0 .5ex}\n",
       "</style>\n",
       "<ol class=list-inline><li>'row_id'</li><li>'subject_id'</li><li>'hadm_id'</li><li>'itemid'</li><li>'charttime'</li><li>'value'</li><li>'valuenum'</li><li>'valueuom'</li><li>'flag'</li></ol>\n"
      ],
      "text/latex": [
       "\\begin{enumerate*}\n",
       "\\item 'row\\_id'\n",
       "\\item 'subject\\_id'\n",
       "\\item 'hadm\\_id'\n",
       "\\item 'itemid'\n",
       "\\item 'charttime'\n",
       "\\item 'value'\n",
       "\\item 'valuenum'\n",
       "\\item 'valueuom'\n",
       "\\item 'flag'\n",
       "\\end{enumerate*}\n"
      ],
      "text/markdown": [
       "1. 'row_id'\n",
       "2. 'subject_id'\n",
       "3. 'hadm_id'\n",
       "4. 'itemid'\n",
       "5. 'charttime'\n",
       "6. 'value'\n",
       "7. 'valuenum'\n",
       "8. 'valueuom'\n",
       "9. 'flag'\n",
       "\n",
       "\n"
      ],
      "text/plain": [
       "[1] \"row_id\"     \"subject_id\" \"hadm_id\"    \"itemid\"     \"charttime\" \n",
       "[6] \"value\"      \"valuenum\"   \"valueuom\"   \"flag\"      "
      ]
     },
     "metadata": {},
     "output_type": "display_data"
    }
   ],
   "source": [
    "labevents <- read.csv(\"mimic-iii-clinical-database-demo-1.4/LABEVENTS.csv\", stringsAsFactors = FALSE)\n",
    "colnames(labevents)"
   ]
  },
  {
   "cell_type": "code",
   "execution_count": 20,
   "metadata": {},
   "outputs": [
    {
     "data": {
      "text/html": [
       "<table class=\"dataframe\">\n",
       "<caption>A data.frame: 20 × 6</caption>\n",
       "<thead>\n",
       "\t<tr><th></th><th scope=col>subject_id</th><th scope=col>itemid</th><th scope=col>valuenum</th><th scope=col>valueuom</th><th scope=col>flag</th><th scope=col>name</th></tr>\n",
       "\t<tr><th></th><th scope=col>&lt;int&gt;</th><th scope=col>&lt;int&gt;</th><th scope=col>&lt;dbl&gt;</th><th scope=col>&lt;chr&gt;</th><th scope=col>&lt;chr&gt;</th><th scope=col>&lt;chr&gt;</th></tr>\n",
       "</thead>\n",
       "<tbody>\n",
       "\t<tr><th scope=row>5</th><td>10006</td><td>50912</td><td>  7.0</td><td>mg/dL</td><td>abnormal</td><td>Creatinine      </td></tr>\n",
       "\t<tr><th scope=row>6</th><td>10006</td><td>50931</td><td>126.0</td><td>mg/dL</td><td>abnormal</td><td>Glucose         </td></tr>\n",
       "\t<tr><th scope=row>43</th><td>10006</td><td>50912</td><td>  7.4</td><td>mg/dL</td><td>abnormal</td><td>Creatinine      </td></tr>\n",
       "\t<tr><th scope=row>44</th><td>10006</td><td>50931</td><td>106.0</td><td>mg/dL</td><td>abnormal</td><td>Glucose         </td></tr>\n",
       "\t<tr><th scope=row>78</th><td>10006</td><td>50912</td><td>  8.3</td><td>mg/dL</td><td>abnormal</td><td>Creatinine      </td></tr>\n",
       "\t<tr><th scope=row>80</th><td>10006</td><td>50931</td><td> 79.0</td><td>mg/dL</td><td>        </td><td>Glucose         </td></tr>\n",
       "\t<tr><th scope=row>132</th><td>10006</td><td>50912</td><td>  6.2</td><td>mg/dL</td><td>abnormal</td><td>Creatinine      </td></tr>\n",
       "\t<tr><th scope=row>133</th><td>10006</td><td>50931</td><td>100.0</td><td>mg/dL</td><td>        </td><td>Glucose         </td></tr>\n",
       "\t<tr><th scope=row>149</th><td>10006</td><td>50912</td><td>  5.9</td><td>mg/dL</td><td>abnormal</td><td>Creatinine      </td></tr>\n",
       "\t<tr><th scope=row>150</th><td>10006</td><td>50931</td><td> 90.0</td><td>mg/dL</td><td>        </td><td>Glucose         </td></tr>\n",
       "\t<tr><th scope=row>176</th><td>10006</td><td>50912</td><td>  7.8</td><td>mg/dL</td><td>abnormal</td><td>Creatinine      </td></tr>\n",
       "\t<tr><th scope=row>177</th><td>10006</td><td>50931</td><td> 88.0</td><td>mg/dL</td><td>        </td><td>Glucose         </td></tr>\n",
       "\t<tr><th scope=row>246</th><td>10006</td><td>50912</td><td>  5.8</td><td>mg/dL</td><td>abnormal</td><td>Creatinine      </td></tr>\n",
       "\t<tr><th scope=row>247</th><td>10006</td><td>50931</td><td> 87.0</td><td>mg/dL</td><td>        </td><td>Glucose         </td></tr>\n",
       "\t<tr><th scope=row>291</th><td>10006</td><td>50912</td><td>  7.0</td><td>mg/dL</td><td>abnormal</td><td>Creatinine      </td></tr>\n",
       "\t<tr><th scope=row>292</th><td>10006</td><td>50931</td><td> 90.0</td><td>mg/dL</td><td>        </td><td>Glucose         </td></tr>\n",
       "\t<tr><th scope=row>318</th><td>10006</td><td>50912</td><td>  4.1</td><td>mg/dL</td><td>abnormal</td><td>Creatinine      </td></tr>\n",
       "\t<tr><th scope=row>319</th><td>10006</td><td>50931</td><td>209.0</td><td>mg/dL</td><td>abnormal</td><td>Glucose         </td></tr>\n",
       "\t<tr><th scope=row>339</th><td>10006</td><td>50852</td><td>  5.2</td><td>%    </td><td>        </td><td>% Hemoglobin A1c</td></tr>\n",
       "\t<tr><th scope=row>346</th><td>10006</td><td>50912</td><td>  5.1</td><td>mg/dL</td><td>abnormal</td><td>Creatinine      </td></tr>\n",
       "</tbody>\n",
       "</table>\n"
      ],
      "text/latex": [
       "A data.frame: 20 × 6\n",
       "\\begin{tabular}{r|llllll}\n",
       "  & subject\\_id & itemid & valuenum & valueuom & flag & name\\\\\n",
       "  & <int> & <int> & <dbl> & <chr> & <chr> & <chr>\\\\\n",
       "\\hline\n",
       "\t5 & 10006 & 50912 &   7.0 & mg/dL & abnormal & Creatinine      \\\\\n",
       "\t6 & 10006 & 50931 & 126.0 & mg/dL & abnormal & Glucose         \\\\\n",
       "\t43 & 10006 & 50912 &   7.4 & mg/dL & abnormal & Creatinine      \\\\\n",
       "\t44 & 10006 & 50931 & 106.0 & mg/dL & abnormal & Glucose         \\\\\n",
       "\t78 & 10006 & 50912 &   8.3 & mg/dL & abnormal & Creatinine      \\\\\n",
       "\t80 & 10006 & 50931 &  79.0 & mg/dL &          & Glucose         \\\\\n",
       "\t132 & 10006 & 50912 &   6.2 & mg/dL & abnormal & Creatinine      \\\\\n",
       "\t133 & 10006 & 50931 & 100.0 & mg/dL &          & Glucose         \\\\\n",
       "\t149 & 10006 & 50912 &   5.9 & mg/dL & abnormal & Creatinine      \\\\\n",
       "\t150 & 10006 & 50931 &  90.0 & mg/dL &          & Glucose         \\\\\n",
       "\t176 & 10006 & 50912 &   7.8 & mg/dL & abnormal & Creatinine      \\\\\n",
       "\t177 & 10006 & 50931 &  88.0 & mg/dL &          & Glucose         \\\\\n",
       "\t246 & 10006 & 50912 &   5.8 & mg/dL & abnormal & Creatinine      \\\\\n",
       "\t247 & 10006 & 50931 &  87.0 & mg/dL &          & Glucose         \\\\\n",
       "\t291 & 10006 & 50912 &   7.0 & mg/dL & abnormal & Creatinine      \\\\\n",
       "\t292 & 10006 & 50931 &  90.0 & mg/dL &          & Glucose         \\\\\n",
       "\t318 & 10006 & 50912 &   4.1 & mg/dL & abnormal & Creatinine      \\\\\n",
       "\t319 & 10006 & 50931 & 209.0 & mg/dL & abnormal & Glucose         \\\\\n",
       "\t339 & 10006 & 50852 &   5.2 & \\%     &          & \\% Hemoglobin A1c\\\\\n",
       "\t346 & 10006 & 50912 &   5.1 & mg/dL & abnormal & Creatinine      \\\\\n",
       "\\end{tabular}\n"
      ],
      "text/markdown": [
       "\n",
       "A data.frame: 20 × 6\n",
       "\n",
       "| <!--/--> | subject_id &lt;int&gt; | itemid &lt;int&gt; | valuenum &lt;dbl&gt; | valueuom &lt;chr&gt; | flag &lt;chr&gt; | name &lt;chr&gt; |\n",
       "|---|---|---|---|---|---|---|\n",
       "| 5 | 10006 | 50912 |   7.0 | mg/dL | abnormal | Creatinine       |\n",
       "| 6 | 10006 | 50931 | 126.0 | mg/dL | abnormal | Glucose          |\n",
       "| 43 | 10006 | 50912 |   7.4 | mg/dL | abnormal | Creatinine       |\n",
       "| 44 | 10006 | 50931 | 106.0 | mg/dL | abnormal | Glucose          |\n",
       "| 78 | 10006 | 50912 |   8.3 | mg/dL | abnormal | Creatinine       |\n",
       "| 80 | 10006 | 50931 |  79.0 | mg/dL | <!----> | Glucose          |\n",
       "| 132 | 10006 | 50912 |   6.2 | mg/dL | abnormal | Creatinine       |\n",
       "| 133 | 10006 | 50931 | 100.0 | mg/dL | <!----> | Glucose          |\n",
       "| 149 | 10006 | 50912 |   5.9 | mg/dL | abnormal | Creatinine       |\n",
       "| 150 | 10006 | 50931 |  90.0 | mg/dL | <!----> | Glucose          |\n",
       "| 176 | 10006 | 50912 |   7.8 | mg/dL | abnormal | Creatinine       |\n",
       "| 177 | 10006 | 50931 |  88.0 | mg/dL | <!----> | Glucose          |\n",
       "| 246 | 10006 | 50912 |   5.8 | mg/dL | abnormal | Creatinine       |\n",
       "| 247 | 10006 | 50931 |  87.0 | mg/dL | <!----> | Glucose          |\n",
       "| 291 | 10006 | 50912 |   7.0 | mg/dL | abnormal | Creatinine       |\n",
       "| 292 | 10006 | 50931 |  90.0 | mg/dL | <!----> | Glucose          |\n",
       "| 318 | 10006 | 50912 |   4.1 | mg/dL | abnormal | Creatinine       |\n",
       "| 319 | 10006 | 50931 | 209.0 | mg/dL | abnormal | Glucose          |\n",
       "| 339 | 10006 | 50852 |   5.2 | %     | <!----> | % Hemoglobin A1c |\n",
       "| 346 | 10006 | 50912 |   5.1 | mg/dL | abnormal | Creatinine       |\n",
       "\n"
      ],
      "text/plain": [
       "    subject_id itemid valuenum valueuom flag     name            \n",
       "5   10006      50912    7.0    mg/dL    abnormal Creatinine      \n",
       "6   10006      50931  126.0    mg/dL    abnormal Glucose         \n",
       "43  10006      50912    7.4    mg/dL    abnormal Creatinine      \n",
       "44  10006      50931  106.0    mg/dL    abnormal Glucose         \n",
       "78  10006      50912    8.3    mg/dL    abnormal Creatinine      \n",
       "80  10006      50931   79.0    mg/dL             Glucose         \n",
       "132 10006      50912    6.2    mg/dL    abnormal Creatinine      \n",
       "133 10006      50931  100.0    mg/dL             Glucose         \n",
       "149 10006      50912    5.9    mg/dL    abnormal Creatinine      \n",
       "150 10006      50931   90.0    mg/dL             Glucose         \n",
       "176 10006      50912    7.8    mg/dL    abnormal Creatinine      \n",
       "177 10006      50931   88.0    mg/dL             Glucose         \n",
       "246 10006      50912    5.8    mg/dL    abnormal Creatinine      \n",
       "247 10006      50931   87.0    mg/dL             Glucose         \n",
       "291 10006      50912    7.0    mg/dL    abnormal Creatinine      \n",
       "292 10006      50931   90.0    mg/dL             Glucose         \n",
       "318 10006      50912    4.1    mg/dL    abnormal Creatinine      \n",
       "319 10006      50931  209.0    mg/dL    abnormal Glucose         \n",
       "339 10006      50852    5.2    %                 % Hemoglobin A1c\n",
       "346 10006      50912    5.1    mg/dL    abnormal Creatinine      "
      ]
     },
     "metadata": {},
     "output_type": "display_data"
    }
   ],
   "source": [
    "labevents <- labevents[labevents$itemid %in% lab_codes, c('subject_id', 'itemid', 'valuenum', 'valueuom', 'flag')]\n",
    "\n",
    "labevents$name <- ifelse(labevents$itemid == 50931, \"Glucose\",\n",
    "                        ifelse(labevents$itemid == 50912, \"Creatinine\", \n",
    "                              ifelse(labevents$itemid == 50854, \"Absolute A1c\", \"% Hemoglobin A1c\")))\n",
    "\n",
    "head(labevents, 20)"
   ]
  },
  {
   "cell_type": "code",
   "execution_count": 21,
   "metadata": {},
   "outputs": [
    {
     "data": {
      "text/html": [
       "<table class=\"dataframe\">\n",
       "<caption>A data.frame: 4 × 2</caption>\n",
       "<thead>\n",
       "\t<tr><th></th><th scope=col>valueuom</th><th scope=col>name</th></tr>\n",
       "\t<tr><th></th><th scope=col>&lt;chr&gt;</th><th scope=col>&lt;chr&gt;</th></tr>\n",
       "</thead>\n",
       "<tbody>\n",
       "\t<tr><th scope=row>5</th><td>mg/dL</td><td>Creatinine      </td></tr>\n",
       "\t<tr><th scope=row>6</th><td>mg/dL</td><td>Glucose         </td></tr>\n",
       "\t<tr><th scope=row>339</th><td>%    </td><td>% Hemoglobin A1c</td></tr>\n",
       "\t<tr><th scope=row>2813</th><td>     </td><td>Absolute A1c    </td></tr>\n",
       "</tbody>\n",
       "</table>\n"
      ],
      "text/latex": [
       "A data.frame: 4 × 2\n",
       "\\begin{tabular}{r|ll}\n",
       "  & valueuom & name\\\\\n",
       "  & <chr> & <chr>\\\\\n",
       "\\hline\n",
       "\t5 & mg/dL & Creatinine      \\\\\n",
       "\t6 & mg/dL & Glucose         \\\\\n",
       "\t339 & \\%     & \\% Hemoglobin A1c\\\\\n",
       "\t2813 &       & Absolute A1c    \\\\\n",
       "\\end{tabular}\n"
      ],
      "text/markdown": [
       "\n",
       "A data.frame: 4 × 2\n",
       "\n",
       "| <!--/--> | valueuom &lt;chr&gt; | name &lt;chr&gt; |\n",
       "|---|---|---|\n",
       "| 5 | mg/dL | Creatinine       |\n",
       "| 6 | mg/dL | Glucose          |\n",
       "| 339 | %     | % Hemoglobin A1c |\n",
       "| 2813 | <!----> | Absolute A1c     |\n",
       "\n"
      ],
      "text/plain": [
       "     valueuom name            \n",
       "5    mg/dL    Creatinine      \n",
       "6    mg/dL    Glucose         \n",
       "339  %        % Hemoglobin A1c\n",
       "2813          Absolute A1c    "
      ]
     },
     "metadata": {},
     "output_type": "display_data"
    }
   ],
   "source": [
    "# units\n",
    "unique(labevents[c(4, 6)])"
   ]
  },
  {
   "cell_type": "markdown",
   "metadata": {},
   "source": [
    "#### Mean values"
   ]
  },
  {
   "cell_type": "code",
   "execution_count": 22,
   "metadata": {},
   "outputs": [
    {
     "name": "stderr",
     "output_type": "stream",
     "text": [
      "`summarise()` has grouped output by 'subject_id'. You can override using the `.groups` argument.\n",
      "\n"
     ]
    },
    {
     "data": {
      "text/html": [
       "<table class=\"dataframe\">\n",
       "<caption>A grouped_df: 6 × 3</caption>\n",
       "<thead>\n",
       "\t<tr><th scope=col>subject_id</th><th scope=col>name</th><th scope=col>mean</th></tr>\n",
       "\t<tr><th scope=col>&lt;int&gt;</th><th scope=col>&lt;chr&gt;</th><th scope=col>&lt;dbl&gt;</th></tr>\n",
       "</thead>\n",
       "<tbody>\n",
       "\t<tr><td>10006</td><td>% Hemoglobin A1c</td><td>  5.500</td></tr>\n",
       "\t<tr><td>10006</td><td>Creatinine      </td><td>  5.418</td></tr>\n",
       "\t<tr><td>10006</td><td>Glucose         </td><td>126.820</td></tr>\n",
       "\t<tr><td>10011</td><td>Creatinine      </td><td>  0.563</td></tr>\n",
       "\t<tr><td>10011</td><td>Glucose         </td><td>115.526</td></tr>\n",
       "\t<tr><td>10013</td><td>Creatinine      </td><td>  1.700</td></tr>\n",
       "</tbody>\n",
       "</table>\n"
      ],
      "text/latex": [
       "A grouped\\_df: 6 × 3\n",
       "\\begin{tabular}{lll}\n",
       " subject\\_id & name & mean\\\\\n",
       " <int> & <chr> & <dbl>\\\\\n",
       "\\hline\n",
       "\t 10006 & \\% Hemoglobin A1c &   5.500\\\\\n",
       "\t 10006 & Creatinine       &   5.418\\\\\n",
       "\t 10006 & Glucose          & 126.820\\\\\n",
       "\t 10011 & Creatinine       &   0.563\\\\\n",
       "\t 10011 & Glucose          & 115.526\\\\\n",
       "\t 10013 & Creatinine       &   1.700\\\\\n",
       "\\end{tabular}\n"
      ],
      "text/markdown": [
       "\n",
       "A grouped_df: 6 × 3\n",
       "\n",
       "| subject_id &lt;int&gt; | name &lt;chr&gt; | mean &lt;dbl&gt; |\n",
       "|---|---|---|\n",
       "| 10006 | % Hemoglobin A1c |   5.500 |\n",
       "| 10006 | Creatinine       |   5.418 |\n",
       "| 10006 | Glucose          | 126.820 |\n",
       "| 10011 | Creatinine       |   0.563 |\n",
       "| 10011 | Glucose          | 115.526 |\n",
       "| 10013 | Creatinine       |   1.700 |\n",
       "\n"
      ],
      "text/plain": [
       "  subject_id name             mean   \n",
       "1 10006      % Hemoglobin A1c   5.500\n",
       "2 10006      Creatinine         5.418\n",
       "3 10006      Glucose          126.820\n",
       "4 10011      Creatinine         0.563\n",
       "5 10011      Glucose          115.526\n",
       "6 10013      Creatinine         1.700"
      ]
     },
     "metadata": {},
     "output_type": "display_data"
    }
   ],
   "source": [
    "labevents_tmp <- \n",
    "    labevents %>%\n",
    "        group_by(subject_id, name) %>%\n",
    "        summarise(mean = round(mean(valuenum), 3))\n",
    "\n",
    "head(labevents_tmp)"
   ]
  },
  {
   "cell_type": "code",
   "execution_count": 23,
   "metadata": {},
   "outputs": [
    {
     "data": {
      "text/html": [
       "<table class=\"dataframe\">\n",
       "<caption>A grouped_df: 6 × 5</caption>\n",
       "<thead>\n",
       "\t<tr><th scope=col>subject_id</th><th scope=col>% Hemoglobin A1c</th><th scope=col>Creatinine</th><th scope=col>Glucose</th><th scope=col>Absolute A1c</th></tr>\n",
       "\t<tr><th scope=col>&lt;int&gt;</th><th scope=col>&lt;dbl&gt;</th><th scope=col>&lt;dbl&gt;</th><th scope=col>&lt;dbl&gt;</th><th scope=col>&lt;dbl&gt;</th></tr>\n",
       "</thead>\n",
       "<tbody>\n",
       "\t<tr><td>10006</td><td>5.5</td><td>5.418</td><td>126.820</td><td>NA</td></tr>\n",
       "\t<tr><td>10011</td><td> NA</td><td>0.563</td><td>115.526</td><td>NA</td></tr>\n",
       "\t<tr><td>10013</td><td> NA</td><td>1.700</td><td>149.500</td><td>NA</td></tr>\n",
       "\t<tr><td>10017</td><td>8.4</td><td>0.440</td><td>204.800</td><td>NA</td></tr>\n",
       "\t<tr><td>10019</td><td> NA</td><td>5.800</td><td>194.800</td><td>NA</td></tr>\n",
       "\t<tr><td>10026</td><td> NA</td><td>0.545</td><td>107.545</td><td>NA</td></tr>\n",
       "</tbody>\n",
       "</table>\n"
      ],
      "text/latex": [
       "A grouped\\_df: 6 × 5\n",
       "\\begin{tabular}{lllll}\n",
       " subject\\_id & \\% Hemoglobin A1c & Creatinine & Glucose & Absolute A1c\\\\\n",
       " <int> & <dbl> & <dbl> & <dbl> & <dbl>\\\\\n",
       "\\hline\n",
       "\t 10006 & 5.5 & 5.418 & 126.820 & NA\\\\\n",
       "\t 10011 &  NA & 0.563 & 115.526 & NA\\\\\n",
       "\t 10013 &  NA & 1.700 & 149.500 & NA\\\\\n",
       "\t 10017 & 8.4 & 0.440 & 204.800 & NA\\\\\n",
       "\t 10019 &  NA & 5.800 & 194.800 & NA\\\\\n",
       "\t 10026 &  NA & 0.545 & 107.545 & NA\\\\\n",
       "\\end{tabular}\n"
      ],
      "text/markdown": [
       "\n",
       "A grouped_df: 6 × 5\n",
       "\n",
       "| subject_id &lt;int&gt; | % Hemoglobin A1c &lt;dbl&gt; | Creatinine &lt;dbl&gt; | Glucose &lt;dbl&gt; | Absolute A1c &lt;dbl&gt; |\n",
       "|---|---|---|---|---|\n",
       "| 10006 | 5.5 | 5.418 | 126.820 | NA |\n",
       "| 10011 |  NA | 0.563 | 115.526 | NA |\n",
       "| 10013 |  NA | 1.700 | 149.500 | NA |\n",
       "| 10017 | 8.4 | 0.440 | 204.800 | NA |\n",
       "| 10019 |  NA | 5.800 | 194.800 | NA |\n",
       "| 10026 |  NA | 0.545 | 107.545 | NA |\n",
       "\n"
      ],
      "text/plain": [
       "  subject_id % Hemoglobin A1c Creatinine Glucose Absolute A1c\n",
       "1 10006      5.5              5.418      126.820 NA          \n",
       "2 10011       NA              0.563      115.526 NA          \n",
       "3 10013       NA              1.700      149.500 NA          \n",
       "4 10017      8.4              0.440      204.800 NA          \n",
       "5 10019       NA              5.800      194.800 NA          \n",
       "6 10026       NA              0.545      107.545 NA          "
      ]
     },
     "metadata": {},
     "output_type": "display_data"
    }
   ],
   "source": [
    "labevents_tmp <-\n",
    "    labevents_tmp %>%\n",
    "        pivot_wider(names_from = name, values_from = mean)\n",
    "\n",
    "head(labevents_tmp)"
   ]
  },
  {
   "cell_type": "code",
   "execution_count": 24,
   "metadata": {},
   "outputs": [
    {
     "data": {
      "text/html": [
       "<table class=\"dataframe\">\n",
       "<caption>A data.frame: 6 × 14</caption>\n",
       "<thead>\n",
       "\t<tr><th></th><th scope=col>subject_id</th><th scope=col>gender</th><th scope=col>expire_flag</th><th scope=col>diabetes</th><th scope=col>religion</th><th scope=col>ethnicity</th><th scope=col>insurance</th><th scope=col>n_EMERGENCY_stay</th><th scope=col>n_ELECTIVE_stay</th><th scope=col>n_URGENT_stay</th><th scope=col>% Hemoglobin A1c</th><th scope=col>Creatinine</th><th scope=col>Glucose</th><th scope=col>Absolute A1c</th></tr>\n",
       "\t<tr><th></th><th scope=col>&lt;int&gt;</th><th scope=col>&lt;chr&gt;</th><th scope=col>&lt;int&gt;</th><th scope=col>&lt;dbl&gt;</th><th scope=col>&lt;chr&gt;</th><th scope=col>&lt;chr&gt;</th><th scope=col>&lt;chr&gt;</th><th scope=col>&lt;int&gt;</th><th scope=col>&lt;int&gt;</th><th scope=col>&lt;int&gt;</th><th scope=col>&lt;dbl&gt;</th><th scope=col>&lt;dbl&gt;</th><th scope=col>&lt;dbl&gt;</th><th scope=col>&lt;dbl&gt;</th></tr>\n",
       "</thead>\n",
       "<tbody>\n",
       "\t<tr><th scope=row>1</th><td>10006</td><td>F</td><td>1</td><td>1</td><td>CATHOLIC</td><td>BLACK/AFRICAN AMERICAN</td><td>Medicare</td><td>1</td><td>0</td><td>0</td><td>5.5</td><td>5.418</td><td>126.820</td><td>NA</td></tr>\n",
       "\t<tr><th scope=row>2</th><td>10011</td><td>F</td><td>1</td><td>0</td><td>CATHOLIC</td><td>UNKNOWN/NOT SPECIFIED </td><td>Private </td><td>1</td><td>0</td><td>0</td><td> NA</td><td>0.563</td><td>115.526</td><td>NA</td></tr>\n",
       "\t<tr><th scope=row>3</th><td>10013</td><td>F</td><td>1</td><td>0</td><td>CATHOLIC</td><td>UNKNOWN/NOT SPECIFIED </td><td>Medicare</td><td>1</td><td>0</td><td>0</td><td> NA</td><td>1.700</td><td>149.500</td><td>NA</td></tr>\n",
       "\t<tr><th scope=row>4</th><td>10017</td><td>F</td><td>1</td><td>1</td><td>CATHOLIC</td><td>WHITE                 </td><td>Medicare</td><td>1</td><td>0</td><td>0</td><td>8.4</td><td>0.440</td><td>204.800</td><td>NA</td></tr>\n",
       "\t<tr><th scope=row>5</th><td>10019</td><td>M</td><td>1</td><td>0</td><td>CATHOLIC</td><td>WHITE                 </td><td>Medicare</td><td>1</td><td>0</td><td>0</td><td> NA</td><td>5.800</td><td>194.800</td><td>NA</td></tr>\n",
       "\t<tr><th scope=row>6</th><td>10026</td><td>F</td><td>1</td><td>0</td><td>OTHER   </td><td>WHITE                 </td><td>Medicare</td><td>1</td><td>0</td><td>0</td><td> NA</td><td>0.545</td><td>107.545</td><td>NA</td></tr>\n",
       "</tbody>\n",
       "</table>\n"
      ],
      "text/latex": [
       "A data.frame: 6 × 14\n",
       "\\begin{tabular}{r|llllllllllllll}\n",
       "  & subject\\_id & gender & expire\\_flag & diabetes & religion & ethnicity & insurance & n\\_EMERGENCY\\_stay & n\\_ELECTIVE\\_stay & n\\_URGENT\\_stay & \\% Hemoglobin A1c & Creatinine & Glucose & Absolute A1c\\\\\n",
       "  & <int> & <chr> & <int> & <dbl> & <chr> & <chr> & <chr> & <int> & <int> & <int> & <dbl> & <dbl> & <dbl> & <dbl>\\\\\n",
       "\\hline\n",
       "\t1 & 10006 & F & 1 & 1 & CATHOLIC & BLACK/AFRICAN AMERICAN & Medicare & 1 & 0 & 0 & 5.5 & 5.418 & 126.820 & NA\\\\\n",
       "\t2 & 10011 & F & 1 & 0 & CATHOLIC & UNKNOWN/NOT SPECIFIED  & Private  & 1 & 0 & 0 &  NA & 0.563 & 115.526 & NA\\\\\n",
       "\t3 & 10013 & F & 1 & 0 & CATHOLIC & UNKNOWN/NOT SPECIFIED  & Medicare & 1 & 0 & 0 &  NA & 1.700 & 149.500 & NA\\\\\n",
       "\t4 & 10017 & F & 1 & 1 & CATHOLIC & WHITE                  & Medicare & 1 & 0 & 0 & 8.4 & 0.440 & 204.800 & NA\\\\\n",
       "\t5 & 10019 & M & 1 & 0 & CATHOLIC & WHITE                  & Medicare & 1 & 0 & 0 &  NA & 5.800 & 194.800 & NA\\\\\n",
       "\t6 & 10026 & F & 1 & 0 & OTHER    & WHITE                  & Medicare & 1 & 0 & 0 &  NA & 0.545 & 107.545 & NA\\\\\n",
       "\\end{tabular}\n"
      ],
      "text/markdown": [
       "\n",
       "A data.frame: 6 × 14\n",
       "\n",
       "| <!--/--> | subject_id &lt;int&gt; | gender &lt;chr&gt; | expire_flag &lt;int&gt; | diabetes &lt;dbl&gt; | religion &lt;chr&gt; | ethnicity &lt;chr&gt; | insurance &lt;chr&gt; | n_EMERGENCY_stay &lt;int&gt; | n_ELECTIVE_stay &lt;int&gt; | n_URGENT_stay &lt;int&gt; | % Hemoglobin A1c &lt;dbl&gt; | Creatinine &lt;dbl&gt; | Glucose &lt;dbl&gt; | Absolute A1c &lt;dbl&gt; |\n",
       "|---|---|---|---|---|---|---|---|---|---|---|---|---|---|---|\n",
       "| 1 | 10006 | F | 1 | 1 | CATHOLIC | BLACK/AFRICAN AMERICAN | Medicare | 1 | 0 | 0 | 5.5 | 5.418 | 126.820 | NA |\n",
       "| 2 | 10011 | F | 1 | 0 | CATHOLIC | UNKNOWN/NOT SPECIFIED  | Private  | 1 | 0 | 0 |  NA | 0.563 | 115.526 | NA |\n",
       "| 3 | 10013 | F | 1 | 0 | CATHOLIC | UNKNOWN/NOT SPECIFIED  | Medicare | 1 | 0 | 0 |  NA | 1.700 | 149.500 | NA |\n",
       "| 4 | 10017 | F | 1 | 1 | CATHOLIC | WHITE                  | Medicare | 1 | 0 | 0 | 8.4 | 0.440 | 204.800 | NA |\n",
       "| 5 | 10019 | M | 1 | 0 | CATHOLIC | WHITE                  | Medicare | 1 | 0 | 0 |  NA | 5.800 | 194.800 | NA |\n",
       "| 6 | 10026 | F | 1 | 0 | OTHER    | WHITE                  | Medicare | 1 | 0 | 0 |  NA | 0.545 | 107.545 | NA |\n",
       "\n"
      ],
      "text/plain": [
       "  subject_id gender expire_flag diabetes religion ethnicity             \n",
       "1 10006      F      1           1        CATHOLIC BLACK/AFRICAN AMERICAN\n",
       "2 10011      F      1           0        CATHOLIC UNKNOWN/NOT SPECIFIED \n",
       "3 10013      F      1           0        CATHOLIC UNKNOWN/NOT SPECIFIED \n",
       "4 10017      F      1           1        CATHOLIC WHITE                 \n",
       "5 10019      M      1           0        CATHOLIC WHITE                 \n",
       "6 10026      F      1           0        OTHER    WHITE                 \n",
       "  insurance n_EMERGENCY_stay n_ELECTIVE_stay n_URGENT_stay % Hemoglobin A1c\n",
       "1 Medicare  1                0               0             5.5             \n",
       "2 Private   1                0               0              NA             \n",
       "3 Medicare  1                0               0              NA             \n",
       "4 Medicare  1                0               0             8.4             \n",
       "5 Medicare  1                0               0              NA             \n",
       "6 Medicare  1                0               0              NA             \n",
       "  Creatinine Glucose Absolute A1c\n",
       "1 5.418      126.820 NA          \n",
       "2 0.563      115.526 NA          \n",
       "3 1.700      149.500 NA          \n",
       "4 0.440      204.800 NA          \n",
       "5 5.800      194.800 NA          \n",
       "6 0.545      107.545 NA          "
      ]
     },
     "metadata": {},
     "output_type": "display_data"
    }
   ],
   "source": [
    "# join to patients table\n",
    "patients <- merge(patients, labevents_tmp, by = c('subject_id'))\n",
    "head(patients)"
   ]
  },
  {
   "cell_type": "markdown",
   "metadata": {},
   "source": [
    "#### Count abnormal laboratory results"
   ]
  },
  {
   "cell_type": "code",
   "execution_count": 25,
   "metadata": {},
   "outputs": [
    {
     "data": {
      "text/html": [
       "<table class=\"dataframe\">\n",
       "<caption>A data.frame: 6 × 6</caption>\n",
       "<thead>\n",
       "\t<tr><th></th><th scope=col>subject_id</th><th scope=col>itemid</th><th scope=col>valuenum</th><th scope=col>valueuom</th><th scope=col>flag</th><th scope=col>name</th></tr>\n",
       "\t<tr><th></th><th scope=col>&lt;int&gt;</th><th scope=col>&lt;int&gt;</th><th scope=col>&lt;dbl&gt;</th><th scope=col>&lt;chr&gt;</th><th scope=col>&lt;chr&gt;</th><th scope=col>&lt;chr&gt;</th></tr>\n",
       "</thead>\n",
       "<tbody>\n",
       "\t<tr><th scope=row>5</th><td>10006</td><td>50912</td><td>  7.0</td><td>mg/dL</td><td>abnormal</td><td>Creatinine</td></tr>\n",
       "\t<tr><th scope=row>6</th><td>10006</td><td>50931</td><td>126.0</td><td>mg/dL</td><td>abnormal</td><td>Glucose   </td></tr>\n",
       "\t<tr><th scope=row>43</th><td>10006</td><td>50912</td><td>  7.4</td><td>mg/dL</td><td>abnormal</td><td>Creatinine</td></tr>\n",
       "\t<tr><th scope=row>44</th><td>10006</td><td>50931</td><td>106.0</td><td>mg/dL</td><td>abnormal</td><td>Glucose   </td></tr>\n",
       "\t<tr><th scope=row>78</th><td>10006</td><td>50912</td><td>  8.3</td><td>mg/dL</td><td>abnormal</td><td>Creatinine</td></tr>\n",
       "\t<tr><th scope=row>80</th><td>10006</td><td>50931</td><td> 79.0</td><td>mg/dL</td><td>        </td><td>Glucose   </td></tr>\n",
       "</tbody>\n",
       "</table>\n"
      ],
      "text/latex": [
       "A data.frame: 6 × 6\n",
       "\\begin{tabular}{r|llllll}\n",
       "  & subject\\_id & itemid & valuenum & valueuom & flag & name\\\\\n",
       "  & <int> & <int> & <dbl> & <chr> & <chr> & <chr>\\\\\n",
       "\\hline\n",
       "\t5 & 10006 & 50912 &   7.0 & mg/dL & abnormal & Creatinine\\\\\n",
       "\t6 & 10006 & 50931 & 126.0 & mg/dL & abnormal & Glucose   \\\\\n",
       "\t43 & 10006 & 50912 &   7.4 & mg/dL & abnormal & Creatinine\\\\\n",
       "\t44 & 10006 & 50931 & 106.0 & mg/dL & abnormal & Glucose   \\\\\n",
       "\t78 & 10006 & 50912 &   8.3 & mg/dL & abnormal & Creatinine\\\\\n",
       "\t80 & 10006 & 50931 &  79.0 & mg/dL &          & Glucose   \\\\\n",
       "\\end{tabular}\n"
      ],
      "text/markdown": [
       "\n",
       "A data.frame: 6 × 6\n",
       "\n",
       "| <!--/--> | subject_id &lt;int&gt; | itemid &lt;int&gt; | valuenum &lt;dbl&gt; | valueuom &lt;chr&gt; | flag &lt;chr&gt; | name &lt;chr&gt; |\n",
       "|---|---|---|---|---|---|---|\n",
       "| 5 | 10006 | 50912 |   7.0 | mg/dL | abnormal | Creatinine |\n",
       "| 6 | 10006 | 50931 | 126.0 | mg/dL | abnormal | Glucose    |\n",
       "| 43 | 10006 | 50912 |   7.4 | mg/dL | abnormal | Creatinine |\n",
       "| 44 | 10006 | 50931 | 106.0 | mg/dL | abnormal | Glucose    |\n",
       "| 78 | 10006 | 50912 |   8.3 | mg/dL | abnormal | Creatinine |\n",
       "| 80 | 10006 | 50931 |  79.0 | mg/dL | <!----> | Glucose    |\n",
       "\n"
      ],
      "text/plain": [
       "   subject_id itemid valuenum valueuom flag     name      \n",
       "5  10006      50912    7.0    mg/dL    abnormal Creatinine\n",
       "6  10006      50931  126.0    mg/dL    abnormal Glucose   \n",
       "43 10006      50912    7.4    mg/dL    abnormal Creatinine\n",
       "44 10006      50931  106.0    mg/dL    abnormal Glucose   \n",
       "78 10006      50912    8.3    mg/dL    abnormal Creatinine\n",
       "80 10006      50931   79.0    mg/dL             Glucose   "
      ]
     },
     "metadata": {},
     "output_type": "display_data"
    }
   ],
   "source": [
    "head(labevents)"
   ]
  },
  {
   "cell_type": "code",
   "execution_count": 26,
   "metadata": {},
   "outputs": [
    {
     "name": "stderr",
     "output_type": "stream",
     "text": [
      "`summarise()` has grouped output by 'subject_id'. You can override using the `.groups` argument.\n",
      "\n"
     ]
    },
    {
     "data": {
      "text/html": [
       "<table class=\"dataframe\">\n",
       "<caption>A grouped_df: 6 × 3</caption>\n",
       "<thead>\n",
       "\t<tr><th scope=col>subject_id</th><th scope=col>name</th><th scope=col>n_abnormal_flags</th></tr>\n",
       "\t<tr><th scope=col>&lt;int&gt;</th><th scope=col>&lt;chr&gt;</th><th scope=col>&lt;dbl&gt;</th></tr>\n",
       "</thead>\n",
       "<tbody>\n",
       "\t<tr><td>10006</td><td>% Hemoglobin A1c</td><td> 0</td></tr>\n",
       "\t<tr><td>10006</td><td>Creatinine      </td><td>62</td></tr>\n",
       "\t<tr><td>10006</td><td>Glucose         </td><td>41</td></tr>\n",
       "\t<tr><td>10011</td><td>Creatinine      </td><td> 0</td></tr>\n",
       "\t<tr><td>10011</td><td>Glucose         </td><td>11</td></tr>\n",
       "\t<tr><td>10013</td><td>Creatinine      </td><td> 2</td></tr>\n",
       "</tbody>\n",
       "</table>\n"
      ],
      "text/latex": [
       "A grouped\\_df: 6 × 3\n",
       "\\begin{tabular}{lll}\n",
       " subject\\_id & name & n\\_abnormal\\_flags\\\\\n",
       " <int> & <chr> & <dbl>\\\\\n",
       "\\hline\n",
       "\t 10006 & \\% Hemoglobin A1c &  0\\\\\n",
       "\t 10006 & Creatinine       & 62\\\\\n",
       "\t 10006 & Glucose          & 41\\\\\n",
       "\t 10011 & Creatinine       &  0\\\\\n",
       "\t 10011 & Glucose          & 11\\\\\n",
       "\t 10013 & Creatinine       &  2\\\\\n",
       "\\end{tabular}\n"
      ],
      "text/markdown": [
       "\n",
       "A grouped_df: 6 × 3\n",
       "\n",
       "| subject_id &lt;int&gt; | name &lt;chr&gt; | n_abnormal_flags &lt;dbl&gt; |\n",
       "|---|---|---|\n",
       "| 10006 | % Hemoglobin A1c |  0 |\n",
       "| 10006 | Creatinine       | 62 |\n",
       "| 10006 | Glucose          | 41 |\n",
       "| 10011 | Creatinine       |  0 |\n",
       "| 10011 | Glucose          | 11 |\n",
       "| 10013 | Creatinine       |  2 |\n",
       "\n"
      ],
      "text/plain": [
       "  subject_id name             n_abnormal_flags\n",
       "1 10006      % Hemoglobin A1c  0              \n",
       "2 10006      Creatinine       62              \n",
       "3 10006      Glucose          41              \n",
       "4 10011      Creatinine        0              \n",
       "5 10011      Glucose          11              \n",
       "6 10013      Creatinine        2              "
      ]
     },
     "metadata": {},
     "output_type": "display_data"
    }
   ],
   "source": [
    "labevents_tmp <- labevents\n",
    "labevents_tmp$abnormal <- ifelse(labevents_tmp$flag == \"\", 0, 1)\n",
    "\n",
    "labevents_tmp <- \n",
    "    labevents_tmp %>%\n",
    "        group_by(subject_id, name) %>%\n",
    "        summarise(n_abnormal_flags = sum(abnormal))\n",
    "\n",
    "head(labevents_tmp)"
   ]
  },
  {
   "cell_type": "code",
   "execution_count": 27,
   "metadata": {},
   "outputs": [
    {
     "data": {
      "text/html": [
       "<table class=\"dataframe\">\n",
       "<caption>A grouped_df: 6 × 5</caption>\n",
       "<thead>\n",
       "\t<tr><th scope=col>subject_id</th><th scope=col>% Hemoglobin A1c</th><th scope=col>Creatinine</th><th scope=col>Glucose</th><th scope=col>Absolute A1c</th></tr>\n",
       "\t<tr><th scope=col>&lt;int&gt;</th><th scope=col>&lt;dbl&gt;</th><th scope=col>&lt;dbl&gt;</th><th scope=col>&lt;dbl&gt;</th><th scope=col>&lt;dbl&gt;</th></tr>\n",
       "</thead>\n",
       "<tbody>\n",
       "\t<tr><td>10006</td><td> 0</td><td>62</td><td>41</td><td>NA</td></tr>\n",
       "\t<tr><td>10011</td><td>NA</td><td> 0</td><td>11</td><td>NA</td></tr>\n",
       "\t<tr><td>10013</td><td>NA</td><td> 2</td><td> 2</td><td>NA</td></tr>\n",
       "\t<tr><td>10017</td><td> 2</td><td> 2</td><td>13</td><td> 0</td></tr>\n",
       "\t<tr><td>10019</td><td>NA</td><td> 4</td><td> 3</td><td>NA</td></tr>\n",
       "\t<tr><td>10026</td><td>NA</td><td> 0</td><td> 5</td><td>NA</td></tr>\n",
       "</tbody>\n",
       "</table>\n"
      ],
      "text/latex": [
       "A grouped\\_df: 6 × 5\n",
       "\\begin{tabular}{lllll}\n",
       " subject\\_id & \\% Hemoglobin A1c & Creatinine & Glucose & Absolute A1c\\\\\n",
       " <int> & <dbl> & <dbl> & <dbl> & <dbl>\\\\\n",
       "\\hline\n",
       "\t 10006 &  0 & 62 & 41 & NA\\\\\n",
       "\t 10011 & NA &  0 & 11 & NA\\\\\n",
       "\t 10013 & NA &  2 &  2 & NA\\\\\n",
       "\t 10017 &  2 &  2 & 13 &  0\\\\\n",
       "\t 10019 & NA &  4 &  3 & NA\\\\\n",
       "\t 10026 & NA &  0 &  5 & NA\\\\\n",
       "\\end{tabular}\n"
      ],
      "text/markdown": [
       "\n",
       "A grouped_df: 6 × 5\n",
       "\n",
       "| subject_id &lt;int&gt; | % Hemoglobin A1c &lt;dbl&gt; | Creatinine &lt;dbl&gt; | Glucose &lt;dbl&gt; | Absolute A1c &lt;dbl&gt; |\n",
       "|---|---|---|---|---|\n",
       "| 10006 |  0 | 62 | 41 | NA |\n",
       "| 10011 | NA |  0 | 11 | NA |\n",
       "| 10013 | NA |  2 |  2 | NA |\n",
       "| 10017 |  2 |  2 | 13 |  0 |\n",
       "| 10019 | NA |  4 |  3 | NA |\n",
       "| 10026 | NA |  0 |  5 | NA |\n",
       "\n"
      ],
      "text/plain": [
       "  subject_id % Hemoglobin A1c Creatinine Glucose Absolute A1c\n",
       "1 10006       0               62         41      NA          \n",
       "2 10011      NA                0         11      NA          \n",
       "3 10013      NA                2          2      NA          \n",
       "4 10017       2                2         13       0          \n",
       "5 10019      NA                4          3      NA          \n",
       "6 10026      NA                0          5      NA          "
      ]
     },
     "metadata": {},
     "output_type": "display_data"
    }
   ],
   "source": [
    "labevents_tmp <-\n",
    "    labevents_tmp %>%\n",
    "        pivot_wider(names_from = name, values_from = n_abnormal_flags)\n",
    "\n",
    "head(labevents_tmp)"
   ]
  },
  {
   "cell_type": "code",
   "execution_count": 28,
   "metadata": {},
   "outputs": [
    {
     "data": {
      "text/html": [
       "<table class=\"dataframe\">\n",
       "<caption>A grouped_df: 6 × 5</caption>\n",
       "<thead>\n",
       "\t<tr><th scope=col>subject_id</th><th scope=col>n_abnormal_flags_% Hemoglobin A1c</th><th scope=col>n_abnormal_flags_Creatinine</th><th scope=col>n_abnormal_flags_Glucose</th><th scope=col>n_abnormal_flags_Absolute A1c</th></tr>\n",
       "\t<tr><th scope=col>&lt;int&gt;</th><th scope=col>&lt;dbl&gt;</th><th scope=col>&lt;dbl&gt;</th><th scope=col>&lt;dbl&gt;</th><th scope=col>&lt;dbl&gt;</th></tr>\n",
       "</thead>\n",
       "<tbody>\n",
       "\t<tr><td>10006</td><td> 0</td><td>62</td><td>41</td><td>NA</td></tr>\n",
       "\t<tr><td>10011</td><td>NA</td><td> 0</td><td>11</td><td>NA</td></tr>\n",
       "\t<tr><td>10013</td><td>NA</td><td> 2</td><td> 2</td><td>NA</td></tr>\n",
       "\t<tr><td>10017</td><td> 2</td><td> 2</td><td>13</td><td> 0</td></tr>\n",
       "\t<tr><td>10019</td><td>NA</td><td> 4</td><td> 3</td><td>NA</td></tr>\n",
       "\t<tr><td>10026</td><td>NA</td><td> 0</td><td> 5</td><td>NA</td></tr>\n",
       "</tbody>\n",
       "</table>\n"
      ],
      "text/latex": [
       "A grouped\\_df: 6 × 5\n",
       "\\begin{tabular}{lllll}\n",
       " subject\\_id & n\\_abnormal\\_flags\\_\\% Hemoglobin A1c & n\\_abnormal\\_flags\\_Creatinine & n\\_abnormal\\_flags\\_Glucose & n\\_abnormal\\_flags\\_Absolute A1c\\\\\n",
       " <int> & <dbl> & <dbl> & <dbl> & <dbl>\\\\\n",
       "\\hline\n",
       "\t 10006 &  0 & 62 & 41 & NA\\\\\n",
       "\t 10011 & NA &  0 & 11 & NA\\\\\n",
       "\t 10013 & NA &  2 &  2 & NA\\\\\n",
       "\t 10017 &  2 &  2 & 13 &  0\\\\\n",
       "\t 10019 & NA &  4 &  3 & NA\\\\\n",
       "\t 10026 & NA &  0 &  5 & NA\\\\\n",
       "\\end{tabular}\n"
      ],
      "text/markdown": [
       "\n",
       "A grouped_df: 6 × 5\n",
       "\n",
       "| subject_id &lt;int&gt; | n_abnormal_flags_% Hemoglobin A1c &lt;dbl&gt; | n_abnormal_flags_Creatinine &lt;dbl&gt; | n_abnormal_flags_Glucose &lt;dbl&gt; | n_abnormal_flags_Absolute A1c &lt;dbl&gt; |\n",
       "|---|---|---|---|---|\n",
       "| 10006 |  0 | 62 | 41 | NA |\n",
       "| 10011 | NA |  0 | 11 | NA |\n",
       "| 10013 | NA |  2 |  2 | NA |\n",
       "| 10017 |  2 |  2 | 13 |  0 |\n",
       "| 10019 | NA |  4 |  3 | NA |\n",
       "| 10026 | NA |  0 |  5 | NA |\n",
       "\n"
      ],
      "text/plain": [
       "  subject_id n_abnormal_flags_% Hemoglobin A1c n_abnormal_flags_Creatinine\n",
       "1 10006       0                                62                         \n",
       "2 10011      NA                                 0                         \n",
       "3 10013      NA                                 2                         \n",
       "4 10017       2                                 2                         \n",
       "5 10019      NA                                 4                         \n",
       "6 10026      NA                                 0                         \n",
       "  n_abnormal_flags_Glucose n_abnormal_flags_Absolute A1c\n",
       "1 41                       NA                           \n",
       "2 11                       NA                           \n",
       "3  2                       NA                           \n",
       "4 13                        0                           \n",
       "5  3                       NA                           \n",
       "6  5                       NA                           "
      ]
     },
     "metadata": {},
     "output_type": "display_data"
    }
   ],
   "source": [
    "colnames(labevents_tmp) <- c('subject_id', 'n_abnormal_flags_% Hemoglobin A1c', 'n_abnormal_flags_Creatinine', 'n_abnormal_flags_Glucose', 'n_abnormal_flags_Absolute A1c')\n",
    "head(labevents_tmp)"
   ]
  },
  {
   "cell_type": "code",
   "execution_count": 29,
   "metadata": {},
   "outputs": [
    {
     "data": {
      "text/html": [
       "<table class=\"dataframe\">\n",
       "<caption>A data.frame: 6 × 18</caption>\n",
       "<thead>\n",
       "\t<tr><th></th><th scope=col>subject_id</th><th scope=col>gender</th><th scope=col>expire_flag</th><th scope=col>diabetes</th><th scope=col>religion</th><th scope=col>ethnicity</th><th scope=col>insurance</th><th scope=col>n_EMERGENCY_stay</th><th scope=col>n_ELECTIVE_stay</th><th scope=col>n_URGENT_stay</th><th scope=col>% Hemoglobin A1c</th><th scope=col>Creatinine</th><th scope=col>Glucose</th><th scope=col>Absolute A1c</th><th scope=col>n_abnormal_flags_% Hemoglobin A1c</th><th scope=col>n_abnormal_flags_Creatinine</th><th scope=col>n_abnormal_flags_Glucose</th><th scope=col>n_abnormal_flags_Absolute A1c</th></tr>\n",
       "\t<tr><th></th><th scope=col>&lt;int&gt;</th><th scope=col>&lt;chr&gt;</th><th scope=col>&lt;int&gt;</th><th scope=col>&lt;dbl&gt;</th><th scope=col>&lt;chr&gt;</th><th scope=col>&lt;chr&gt;</th><th scope=col>&lt;chr&gt;</th><th scope=col>&lt;int&gt;</th><th scope=col>&lt;int&gt;</th><th scope=col>&lt;int&gt;</th><th scope=col>&lt;dbl&gt;</th><th scope=col>&lt;dbl&gt;</th><th scope=col>&lt;dbl&gt;</th><th scope=col>&lt;dbl&gt;</th><th scope=col>&lt;dbl&gt;</th><th scope=col>&lt;dbl&gt;</th><th scope=col>&lt;dbl&gt;</th><th scope=col>&lt;dbl&gt;</th></tr>\n",
       "</thead>\n",
       "<tbody>\n",
       "\t<tr><th scope=row>1</th><td>10006</td><td>F</td><td>1</td><td>1</td><td>CATHOLIC</td><td>BLACK/AFRICAN AMERICAN</td><td>Medicare</td><td>1</td><td>0</td><td>0</td><td>5.5</td><td>5.418</td><td>126.820</td><td>NA</td><td> 0</td><td>62</td><td>41</td><td>NA</td></tr>\n",
       "\t<tr><th scope=row>2</th><td>10011</td><td>F</td><td>1</td><td>0</td><td>CATHOLIC</td><td>UNKNOWN/NOT SPECIFIED </td><td>Private </td><td>1</td><td>0</td><td>0</td><td> NA</td><td>0.563</td><td>115.526</td><td>NA</td><td>NA</td><td> 0</td><td>11</td><td>NA</td></tr>\n",
       "\t<tr><th scope=row>3</th><td>10013</td><td>F</td><td>1</td><td>0</td><td>CATHOLIC</td><td>UNKNOWN/NOT SPECIFIED </td><td>Medicare</td><td>1</td><td>0</td><td>0</td><td> NA</td><td>1.700</td><td>149.500</td><td>NA</td><td>NA</td><td> 2</td><td> 2</td><td>NA</td></tr>\n",
       "\t<tr><th scope=row>4</th><td>10017</td><td>F</td><td>1</td><td>1</td><td>CATHOLIC</td><td>WHITE                 </td><td>Medicare</td><td>1</td><td>0</td><td>0</td><td>8.4</td><td>0.440</td><td>204.800</td><td>NA</td><td> 2</td><td> 2</td><td>13</td><td> 0</td></tr>\n",
       "\t<tr><th scope=row>5</th><td>10019</td><td>M</td><td>1</td><td>0</td><td>CATHOLIC</td><td>WHITE                 </td><td>Medicare</td><td>1</td><td>0</td><td>0</td><td> NA</td><td>5.800</td><td>194.800</td><td>NA</td><td>NA</td><td> 4</td><td> 3</td><td>NA</td></tr>\n",
       "\t<tr><th scope=row>6</th><td>10026</td><td>F</td><td>1</td><td>0</td><td>OTHER   </td><td>WHITE                 </td><td>Medicare</td><td>1</td><td>0</td><td>0</td><td> NA</td><td>0.545</td><td>107.545</td><td>NA</td><td>NA</td><td> 0</td><td> 5</td><td>NA</td></tr>\n",
       "</tbody>\n",
       "</table>\n"
      ],
      "text/latex": [
       "A data.frame: 6 × 18\n",
       "\\begin{tabular}{r|llllllllllllllllll}\n",
       "  & subject\\_id & gender & expire\\_flag & diabetes & religion & ethnicity & insurance & n\\_EMERGENCY\\_stay & n\\_ELECTIVE\\_stay & n\\_URGENT\\_stay & \\% Hemoglobin A1c & Creatinine & Glucose & Absolute A1c & n\\_abnormal\\_flags\\_\\% Hemoglobin A1c & n\\_abnormal\\_flags\\_Creatinine & n\\_abnormal\\_flags\\_Glucose & n\\_abnormal\\_flags\\_Absolute A1c\\\\\n",
       "  & <int> & <chr> & <int> & <dbl> & <chr> & <chr> & <chr> & <int> & <int> & <int> & <dbl> & <dbl> & <dbl> & <dbl> & <dbl> & <dbl> & <dbl> & <dbl>\\\\\n",
       "\\hline\n",
       "\t1 & 10006 & F & 1 & 1 & CATHOLIC & BLACK/AFRICAN AMERICAN & Medicare & 1 & 0 & 0 & 5.5 & 5.418 & 126.820 & NA &  0 & 62 & 41 & NA\\\\\n",
       "\t2 & 10011 & F & 1 & 0 & CATHOLIC & UNKNOWN/NOT SPECIFIED  & Private  & 1 & 0 & 0 &  NA & 0.563 & 115.526 & NA & NA &  0 & 11 & NA\\\\\n",
       "\t3 & 10013 & F & 1 & 0 & CATHOLIC & UNKNOWN/NOT SPECIFIED  & Medicare & 1 & 0 & 0 &  NA & 1.700 & 149.500 & NA & NA &  2 &  2 & NA\\\\\n",
       "\t4 & 10017 & F & 1 & 1 & CATHOLIC & WHITE                  & Medicare & 1 & 0 & 0 & 8.4 & 0.440 & 204.800 & NA &  2 &  2 & 13 &  0\\\\\n",
       "\t5 & 10019 & M & 1 & 0 & CATHOLIC & WHITE                  & Medicare & 1 & 0 & 0 &  NA & 5.800 & 194.800 & NA & NA &  4 &  3 & NA\\\\\n",
       "\t6 & 10026 & F & 1 & 0 & OTHER    & WHITE                  & Medicare & 1 & 0 & 0 &  NA & 0.545 & 107.545 & NA & NA &  0 &  5 & NA\\\\\n",
       "\\end{tabular}\n"
      ],
      "text/markdown": [
       "\n",
       "A data.frame: 6 × 18\n",
       "\n",
       "| <!--/--> | subject_id &lt;int&gt; | gender &lt;chr&gt; | expire_flag &lt;int&gt; | diabetes &lt;dbl&gt; | religion &lt;chr&gt; | ethnicity &lt;chr&gt; | insurance &lt;chr&gt; | n_EMERGENCY_stay &lt;int&gt; | n_ELECTIVE_stay &lt;int&gt; | n_URGENT_stay &lt;int&gt; | % Hemoglobin A1c &lt;dbl&gt; | Creatinine &lt;dbl&gt; | Glucose &lt;dbl&gt; | Absolute A1c &lt;dbl&gt; | n_abnormal_flags_% Hemoglobin A1c &lt;dbl&gt; | n_abnormal_flags_Creatinine &lt;dbl&gt; | n_abnormal_flags_Glucose &lt;dbl&gt; | n_abnormal_flags_Absolute A1c &lt;dbl&gt; |\n",
       "|---|---|---|---|---|---|---|---|---|---|---|---|---|---|---|---|---|---|---|\n",
       "| 1 | 10006 | F | 1 | 1 | CATHOLIC | BLACK/AFRICAN AMERICAN | Medicare | 1 | 0 | 0 | 5.5 | 5.418 | 126.820 | NA |  0 | 62 | 41 | NA |\n",
       "| 2 | 10011 | F | 1 | 0 | CATHOLIC | UNKNOWN/NOT SPECIFIED  | Private  | 1 | 0 | 0 |  NA | 0.563 | 115.526 | NA | NA |  0 | 11 | NA |\n",
       "| 3 | 10013 | F | 1 | 0 | CATHOLIC | UNKNOWN/NOT SPECIFIED  | Medicare | 1 | 0 | 0 |  NA | 1.700 | 149.500 | NA | NA |  2 |  2 | NA |\n",
       "| 4 | 10017 | F | 1 | 1 | CATHOLIC | WHITE                  | Medicare | 1 | 0 | 0 | 8.4 | 0.440 | 204.800 | NA |  2 |  2 | 13 |  0 |\n",
       "| 5 | 10019 | M | 1 | 0 | CATHOLIC | WHITE                  | Medicare | 1 | 0 | 0 |  NA | 5.800 | 194.800 | NA | NA |  4 |  3 | NA |\n",
       "| 6 | 10026 | F | 1 | 0 | OTHER    | WHITE                  | Medicare | 1 | 0 | 0 |  NA | 0.545 | 107.545 | NA | NA |  0 |  5 | NA |\n",
       "\n"
      ],
      "text/plain": [
       "  subject_id gender expire_flag diabetes religion ethnicity             \n",
       "1 10006      F      1           1        CATHOLIC BLACK/AFRICAN AMERICAN\n",
       "2 10011      F      1           0        CATHOLIC UNKNOWN/NOT SPECIFIED \n",
       "3 10013      F      1           0        CATHOLIC UNKNOWN/NOT SPECIFIED \n",
       "4 10017      F      1           1        CATHOLIC WHITE                 \n",
       "5 10019      M      1           0        CATHOLIC WHITE                 \n",
       "6 10026      F      1           0        OTHER    WHITE                 \n",
       "  insurance n_EMERGENCY_stay n_ELECTIVE_stay n_URGENT_stay % Hemoglobin A1c\n",
       "1 Medicare  1                0               0             5.5             \n",
       "2 Private   1                0               0              NA             \n",
       "3 Medicare  1                0               0              NA             \n",
       "4 Medicare  1                0               0             8.4             \n",
       "5 Medicare  1                0               0              NA             \n",
       "6 Medicare  1                0               0              NA             \n",
       "  Creatinine Glucose Absolute A1c n_abnormal_flags_% Hemoglobin A1c\n",
       "1 5.418      126.820 NA            0                               \n",
       "2 0.563      115.526 NA           NA                               \n",
       "3 1.700      149.500 NA           NA                               \n",
       "4 0.440      204.800 NA            2                               \n",
       "5 5.800      194.800 NA           NA                               \n",
       "6 0.545      107.545 NA           NA                               \n",
       "  n_abnormal_flags_Creatinine n_abnormal_flags_Glucose\n",
       "1 62                          41                      \n",
       "2  0                          11                      \n",
       "3  2                           2                      \n",
       "4  2                          13                      \n",
       "5  4                           3                      \n",
       "6  0                           5                      \n",
       "  n_abnormal_flags_Absolute A1c\n",
       "1 NA                           \n",
       "2 NA                           \n",
       "3 NA                           \n",
       "4  0                           \n",
       "5 NA                           \n",
       "6 NA                           "
      ]
     },
     "metadata": {},
     "output_type": "display_data"
    }
   ],
   "source": [
    "# join to patients table\n",
    "patients <- merge(patients, labevents_tmp, by = c('subject_id'))\n",
    "head(patients)"
   ]
  },
  {
   "cell_type": "markdown",
   "metadata": {},
   "source": [
    "#### Count number of medical examinations"
   ]
  },
  {
   "cell_type": "code",
   "execution_count": 30,
   "metadata": {},
   "outputs": [
    {
     "name": "stderr",
     "output_type": "stream",
     "text": [
      "`summarise()` has grouped output by 'subject_id'. You can override using the `.groups` argument.\n",
      "\n"
     ]
    },
    {
     "data": {
      "text/html": [
       "<table class=\"dataframe\">\n",
       "<caption>A grouped_df: 6 × 3</caption>\n",
       "<thead>\n",
       "\t<tr><th scope=col>subject_id</th><th scope=col>name</th><th scope=col>count</th></tr>\n",
       "\t<tr><th scope=col>&lt;int&gt;</th><th scope=col>&lt;chr&gt;</th><th scope=col>&lt;int&gt;</th></tr>\n",
       "</thead>\n",
       "<tbody>\n",
       "\t<tr><td>10006</td><td>% Hemoglobin A1c</td><td> 2</td></tr>\n",
       "\t<tr><td>10006</td><td>Creatinine      </td><td>62</td></tr>\n",
       "\t<tr><td>10006</td><td>Glucose         </td><td>61</td></tr>\n",
       "\t<tr><td>10011</td><td>Creatinine      </td><td>19</td></tr>\n",
       "\t<tr><td>10011</td><td>Glucose         </td><td>19</td></tr>\n",
       "\t<tr><td>10013</td><td>Creatinine      </td><td> 2</td></tr>\n",
       "</tbody>\n",
       "</table>\n"
      ],
      "text/latex": [
       "A grouped\\_df: 6 × 3\n",
       "\\begin{tabular}{lll}\n",
       " subject\\_id & name & count\\\\\n",
       " <int> & <chr> & <int>\\\\\n",
       "\\hline\n",
       "\t 10006 & \\% Hemoglobin A1c &  2\\\\\n",
       "\t 10006 & Creatinine       & 62\\\\\n",
       "\t 10006 & Glucose          & 61\\\\\n",
       "\t 10011 & Creatinine       & 19\\\\\n",
       "\t 10011 & Glucose          & 19\\\\\n",
       "\t 10013 & Creatinine       &  2\\\\\n",
       "\\end{tabular}\n"
      ],
      "text/markdown": [
       "\n",
       "A grouped_df: 6 × 3\n",
       "\n",
       "| subject_id &lt;int&gt; | name &lt;chr&gt; | count &lt;int&gt; |\n",
       "|---|---|---|\n",
       "| 10006 | % Hemoglobin A1c |  2 |\n",
       "| 10006 | Creatinine       | 62 |\n",
       "| 10006 | Glucose          | 61 |\n",
       "| 10011 | Creatinine       | 19 |\n",
       "| 10011 | Glucose          | 19 |\n",
       "| 10013 | Creatinine       |  2 |\n",
       "\n"
      ],
      "text/plain": [
       "  subject_id name             count\n",
       "1 10006      % Hemoglobin A1c  2   \n",
       "2 10006      Creatinine       62   \n",
       "3 10006      Glucose          61   \n",
       "4 10011      Creatinine       19   \n",
       "5 10011      Glucose          19   \n",
       "6 10013      Creatinine        2   "
      ]
     },
     "metadata": {},
     "output_type": "display_data"
    }
   ],
   "source": [
    "labevents_tmp <- \n",
    "    labevents %>%\n",
    "        group_by(subject_id, name) %>%\n",
    "        summarise(count = n())\n",
    "\n",
    "head(labevents_tmp)"
   ]
  },
  {
   "cell_type": "code",
   "execution_count": 31,
   "metadata": {},
   "outputs": [
    {
     "data": {
      "text/html": [
       "<table class=\"dataframe\">\n",
       "<caption>A grouped_df: 6 × 5</caption>\n",
       "<thead>\n",
       "\t<tr><th scope=col>subject_id</th><th scope=col>% Hemoglobin A1c</th><th scope=col>Creatinine</th><th scope=col>Glucose</th><th scope=col>Absolute A1c</th></tr>\n",
       "\t<tr><th scope=col>&lt;int&gt;</th><th scope=col>&lt;int&gt;</th><th scope=col>&lt;int&gt;</th><th scope=col>&lt;int&gt;</th><th scope=col>&lt;int&gt;</th></tr>\n",
       "</thead>\n",
       "<tbody>\n",
       "\t<tr><td>10006</td><td> 2</td><td>62</td><td>61</td><td>NA</td></tr>\n",
       "\t<tr><td>10011</td><td>NA</td><td>19</td><td>19</td><td>NA</td></tr>\n",
       "\t<tr><td>10013</td><td>NA</td><td> 2</td><td> 2</td><td>NA</td></tr>\n",
       "\t<tr><td>10017</td><td> 2</td><td>15</td><td>15</td><td> 2</td></tr>\n",
       "\t<tr><td>10019</td><td>NA</td><td> 4</td><td> 5</td><td>NA</td></tr>\n",
       "\t<tr><td>10026</td><td>NA</td><td>11</td><td>11</td><td>NA</td></tr>\n",
       "</tbody>\n",
       "</table>\n"
      ],
      "text/latex": [
       "A grouped\\_df: 6 × 5\n",
       "\\begin{tabular}{lllll}\n",
       " subject\\_id & \\% Hemoglobin A1c & Creatinine & Glucose & Absolute A1c\\\\\n",
       " <int> & <int> & <int> & <int> & <int>\\\\\n",
       "\\hline\n",
       "\t 10006 &  2 & 62 & 61 & NA\\\\\n",
       "\t 10011 & NA & 19 & 19 & NA\\\\\n",
       "\t 10013 & NA &  2 &  2 & NA\\\\\n",
       "\t 10017 &  2 & 15 & 15 &  2\\\\\n",
       "\t 10019 & NA &  4 &  5 & NA\\\\\n",
       "\t 10026 & NA & 11 & 11 & NA\\\\\n",
       "\\end{tabular}\n"
      ],
      "text/markdown": [
       "\n",
       "A grouped_df: 6 × 5\n",
       "\n",
       "| subject_id &lt;int&gt; | % Hemoglobin A1c &lt;int&gt; | Creatinine &lt;int&gt; | Glucose &lt;int&gt; | Absolute A1c &lt;int&gt; |\n",
       "|---|---|---|---|---|\n",
       "| 10006 |  2 | 62 | 61 | NA |\n",
       "| 10011 | NA | 19 | 19 | NA |\n",
       "| 10013 | NA |  2 |  2 | NA |\n",
       "| 10017 |  2 | 15 | 15 |  2 |\n",
       "| 10019 | NA |  4 |  5 | NA |\n",
       "| 10026 | NA | 11 | 11 | NA |\n",
       "\n"
      ],
      "text/plain": [
       "  subject_id % Hemoglobin A1c Creatinine Glucose Absolute A1c\n",
       "1 10006       2               62         61      NA          \n",
       "2 10011      NA               19         19      NA          \n",
       "3 10013      NA                2          2      NA          \n",
       "4 10017       2               15         15       2          \n",
       "5 10019      NA                4          5      NA          \n",
       "6 10026      NA               11         11      NA          "
      ]
     },
     "metadata": {},
     "output_type": "display_data"
    }
   ],
   "source": [
    "labevents_tmp <-\n",
    "    labevents_tmp %>%\n",
    "        pivot_wider(names_from = name, values_from = count)\n",
    "\n",
    "head(labevents_tmp)"
   ]
  },
  {
   "cell_type": "code",
   "execution_count": 32,
   "metadata": {},
   "outputs": [],
   "source": [
    "colnames(labevents_tmp) <- c('subject_id', 'number_of_% Hemoglobin A1c', 'number_of_Creatinine', 'number_of_Glucose', 'number_of_Absolute A1c')"
   ]
  },
  {
   "cell_type": "code",
   "execution_count": 33,
   "metadata": {},
   "outputs": [
    {
     "data": {
      "text/html": [
       "<table class=\"dataframe\">\n",
       "<caption>A data.frame: 6 × 22</caption>\n",
       "<thead>\n",
       "\t<tr><th></th><th scope=col>subject_id</th><th scope=col>gender</th><th scope=col>expire_flag</th><th scope=col>diabetes</th><th scope=col>religion</th><th scope=col>ethnicity</th><th scope=col>insurance</th><th scope=col>n_EMERGENCY_stay</th><th scope=col>n_ELECTIVE_stay</th><th scope=col>n_URGENT_stay</th><th scope=col>% Hemoglobin A1c</th><th scope=col>Creatinine</th><th scope=col>Glucose</th><th scope=col>Absolute A1c</th><th scope=col>n_abnormal_flags_% Hemoglobin A1c</th><th scope=col>n_abnormal_flags_Creatinine</th><th scope=col>n_abnormal_flags_Glucose</th><th scope=col>n_abnormal_flags_Absolute A1c</th><th scope=col>number_of_% Hemoglobin A1c</th><th scope=col>number_of_Creatinine</th><th scope=col>number_of_Glucose</th><th scope=col>number_of_Absolute A1c</th></tr>\n",
       "\t<tr><th></th><th scope=col>&lt;int&gt;</th><th scope=col>&lt;chr&gt;</th><th scope=col>&lt;int&gt;</th><th scope=col>&lt;dbl&gt;</th><th scope=col>&lt;chr&gt;</th><th scope=col>&lt;chr&gt;</th><th scope=col>&lt;chr&gt;</th><th scope=col>&lt;int&gt;</th><th scope=col>&lt;int&gt;</th><th scope=col>&lt;int&gt;</th><th scope=col>&lt;dbl&gt;</th><th scope=col>&lt;dbl&gt;</th><th scope=col>&lt;dbl&gt;</th><th scope=col>&lt;dbl&gt;</th><th scope=col>&lt;dbl&gt;</th><th scope=col>&lt;dbl&gt;</th><th scope=col>&lt;dbl&gt;</th><th scope=col>&lt;dbl&gt;</th><th scope=col>&lt;int&gt;</th><th scope=col>&lt;int&gt;</th><th scope=col>&lt;int&gt;</th><th scope=col>&lt;int&gt;</th></tr>\n",
       "</thead>\n",
       "<tbody>\n",
       "\t<tr><th scope=row>1</th><td>10006</td><td>F</td><td>1</td><td>1</td><td>CATHOLIC</td><td>BLACK/AFRICAN AMERICAN</td><td>Medicare</td><td>1</td><td>0</td><td>0</td><td>5.5</td><td>5.418</td><td>126.820</td><td>NA</td><td> 0</td><td>62</td><td>41</td><td>NA</td><td> 2</td><td>62</td><td>61</td><td>NA</td></tr>\n",
       "\t<tr><th scope=row>2</th><td>10011</td><td>F</td><td>1</td><td>0</td><td>CATHOLIC</td><td>UNKNOWN/NOT SPECIFIED </td><td>Private </td><td>1</td><td>0</td><td>0</td><td> NA</td><td>0.563</td><td>115.526</td><td>NA</td><td>NA</td><td> 0</td><td>11</td><td>NA</td><td>NA</td><td>19</td><td>19</td><td>NA</td></tr>\n",
       "\t<tr><th scope=row>3</th><td>10013</td><td>F</td><td>1</td><td>0</td><td>CATHOLIC</td><td>UNKNOWN/NOT SPECIFIED </td><td>Medicare</td><td>1</td><td>0</td><td>0</td><td> NA</td><td>1.700</td><td>149.500</td><td>NA</td><td>NA</td><td> 2</td><td> 2</td><td>NA</td><td>NA</td><td> 2</td><td> 2</td><td>NA</td></tr>\n",
       "\t<tr><th scope=row>4</th><td>10017</td><td>F</td><td>1</td><td>1</td><td>CATHOLIC</td><td>WHITE                 </td><td>Medicare</td><td>1</td><td>0</td><td>0</td><td>8.4</td><td>0.440</td><td>204.800</td><td>NA</td><td> 2</td><td> 2</td><td>13</td><td> 0</td><td> 2</td><td>15</td><td>15</td><td> 2</td></tr>\n",
       "\t<tr><th scope=row>5</th><td>10019</td><td>M</td><td>1</td><td>0</td><td>CATHOLIC</td><td>WHITE                 </td><td>Medicare</td><td>1</td><td>0</td><td>0</td><td> NA</td><td>5.800</td><td>194.800</td><td>NA</td><td>NA</td><td> 4</td><td> 3</td><td>NA</td><td>NA</td><td> 4</td><td> 5</td><td>NA</td></tr>\n",
       "\t<tr><th scope=row>6</th><td>10026</td><td>F</td><td>1</td><td>0</td><td>OTHER   </td><td>WHITE                 </td><td>Medicare</td><td>1</td><td>0</td><td>0</td><td> NA</td><td>0.545</td><td>107.545</td><td>NA</td><td>NA</td><td> 0</td><td> 5</td><td>NA</td><td>NA</td><td>11</td><td>11</td><td>NA</td></tr>\n",
       "</tbody>\n",
       "</table>\n"
      ],
      "text/latex": [
       "A data.frame: 6 × 22\n",
       "\\begin{tabular}{r|llllllllllllllllllllll}\n",
       "  & subject\\_id & gender & expire\\_flag & diabetes & religion & ethnicity & insurance & n\\_EMERGENCY\\_stay & n\\_ELECTIVE\\_stay & n\\_URGENT\\_stay & \\% Hemoglobin A1c & Creatinine & Glucose & Absolute A1c & n\\_abnormal\\_flags\\_\\% Hemoglobin A1c & n\\_abnormal\\_flags\\_Creatinine & n\\_abnormal\\_flags\\_Glucose & n\\_abnormal\\_flags\\_Absolute A1c & number\\_of\\_\\% Hemoglobin A1c & number\\_of\\_Creatinine & number\\_of\\_Glucose & number\\_of\\_Absolute A1c\\\\\n",
       "  & <int> & <chr> & <int> & <dbl> & <chr> & <chr> & <chr> & <int> & <int> & <int> & <dbl> & <dbl> & <dbl> & <dbl> & <dbl> & <dbl> & <dbl> & <dbl> & <int> & <int> & <int> & <int>\\\\\n",
       "\\hline\n",
       "\t1 & 10006 & F & 1 & 1 & CATHOLIC & BLACK/AFRICAN AMERICAN & Medicare & 1 & 0 & 0 & 5.5 & 5.418 & 126.820 & NA &  0 & 62 & 41 & NA &  2 & 62 & 61 & NA\\\\\n",
       "\t2 & 10011 & F & 1 & 0 & CATHOLIC & UNKNOWN/NOT SPECIFIED  & Private  & 1 & 0 & 0 &  NA & 0.563 & 115.526 & NA & NA &  0 & 11 & NA & NA & 19 & 19 & NA\\\\\n",
       "\t3 & 10013 & F & 1 & 0 & CATHOLIC & UNKNOWN/NOT SPECIFIED  & Medicare & 1 & 0 & 0 &  NA & 1.700 & 149.500 & NA & NA &  2 &  2 & NA & NA &  2 &  2 & NA\\\\\n",
       "\t4 & 10017 & F & 1 & 1 & CATHOLIC & WHITE                  & Medicare & 1 & 0 & 0 & 8.4 & 0.440 & 204.800 & NA &  2 &  2 & 13 &  0 &  2 & 15 & 15 &  2\\\\\n",
       "\t5 & 10019 & M & 1 & 0 & CATHOLIC & WHITE                  & Medicare & 1 & 0 & 0 &  NA & 5.800 & 194.800 & NA & NA &  4 &  3 & NA & NA &  4 &  5 & NA\\\\\n",
       "\t6 & 10026 & F & 1 & 0 & OTHER    & WHITE                  & Medicare & 1 & 0 & 0 &  NA & 0.545 & 107.545 & NA & NA &  0 &  5 & NA & NA & 11 & 11 & NA\\\\\n",
       "\\end{tabular}\n"
      ],
      "text/markdown": [
       "\n",
       "A data.frame: 6 × 22\n",
       "\n",
       "| <!--/--> | subject_id &lt;int&gt; | gender &lt;chr&gt; | expire_flag &lt;int&gt; | diabetes &lt;dbl&gt; | religion &lt;chr&gt; | ethnicity &lt;chr&gt; | insurance &lt;chr&gt; | n_EMERGENCY_stay &lt;int&gt; | n_ELECTIVE_stay &lt;int&gt; | n_URGENT_stay &lt;int&gt; | % Hemoglobin A1c &lt;dbl&gt; | Creatinine &lt;dbl&gt; | Glucose &lt;dbl&gt; | Absolute A1c &lt;dbl&gt; | n_abnormal_flags_% Hemoglobin A1c &lt;dbl&gt; | n_abnormal_flags_Creatinine &lt;dbl&gt; | n_abnormal_flags_Glucose &lt;dbl&gt; | n_abnormal_flags_Absolute A1c &lt;dbl&gt; | number_of_% Hemoglobin A1c &lt;int&gt; | number_of_Creatinine &lt;int&gt; | number_of_Glucose &lt;int&gt; | number_of_Absolute A1c &lt;int&gt; |\n",
       "|---|---|---|---|---|---|---|---|---|---|---|---|---|---|---|---|---|---|---|---|---|---|---|\n",
       "| 1 | 10006 | F | 1 | 1 | CATHOLIC | BLACK/AFRICAN AMERICAN | Medicare | 1 | 0 | 0 | 5.5 | 5.418 | 126.820 | NA |  0 | 62 | 41 | NA |  2 | 62 | 61 | NA |\n",
       "| 2 | 10011 | F | 1 | 0 | CATHOLIC | UNKNOWN/NOT SPECIFIED  | Private  | 1 | 0 | 0 |  NA | 0.563 | 115.526 | NA | NA |  0 | 11 | NA | NA | 19 | 19 | NA |\n",
       "| 3 | 10013 | F | 1 | 0 | CATHOLIC | UNKNOWN/NOT SPECIFIED  | Medicare | 1 | 0 | 0 |  NA | 1.700 | 149.500 | NA | NA |  2 |  2 | NA | NA |  2 |  2 | NA |\n",
       "| 4 | 10017 | F | 1 | 1 | CATHOLIC | WHITE                  | Medicare | 1 | 0 | 0 | 8.4 | 0.440 | 204.800 | NA |  2 |  2 | 13 |  0 |  2 | 15 | 15 |  2 |\n",
       "| 5 | 10019 | M | 1 | 0 | CATHOLIC | WHITE                  | Medicare | 1 | 0 | 0 |  NA | 5.800 | 194.800 | NA | NA |  4 |  3 | NA | NA |  4 |  5 | NA |\n",
       "| 6 | 10026 | F | 1 | 0 | OTHER    | WHITE                  | Medicare | 1 | 0 | 0 |  NA | 0.545 | 107.545 | NA | NA |  0 |  5 | NA | NA | 11 | 11 | NA |\n",
       "\n"
      ],
      "text/plain": [
       "  subject_id gender expire_flag diabetes religion ethnicity             \n",
       "1 10006      F      1           1        CATHOLIC BLACK/AFRICAN AMERICAN\n",
       "2 10011      F      1           0        CATHOLIC UNKNOWN/NOT SPECIFIED \n",
       "3 10013      F      1           0        CATHOLIC UNKNOWN/NOT SPECIFIED \n",
       "4 10017      F      1           1        CATHOLIC WHITE                 \n",
       "5 10019      M      1           0        CATHOLIC WHITE                 \n",
       "6 10026      F      1           0        OTHER    WHITE                 \n",
       "  insurance n_EMERGENCY_stay n_ELECTIVE_stay n_URGENT_stay % Hemoglobin A1c\n",
       "1 Medicare  1                0               0             5.5             \n",
       "2 Private   1                0               0              NA             \n",
       "3 Medicare  1                0               0              NA             \n",
       "4 Medicare  1                0               0             8.4             \n",
       "5 Medicare  1                0               0              NA             \n",
       "6 Medicare  1                0               0              NA             \n",
       "  Creatinine Glucose Absolute A1c n_abnormal_flags_% Hemoglobin A1c\n",
       "1 5.418      126.820 NA            0                               \n",
       "2 0.563      115.526 NA           NA                               \n",
       "3 1.700      149.500 NA           NA                               \n",
       "4 0.440      204.800 NA            2                               \n",
       "5 5.800      194.800 NA           NA                               \n",
       "6 0.545      107.545 NA           NA                               \n",
       "  n_abnormal_flags_Creatinine n_abnormal_flags_Glucose\n",
       "1 62                          41                      \n",
       "2  0                          11                      \n",
       "3  2                           2                      \n",
       "4  2                          13                      \n",
       "5  4                           3                      \n",
       "6  0                           5                      \n",
       "  n_abnormal_flags_Absolute A1c number_of_% Hemoglobin A1c number_of_Creatinine\n",
       "1 NA                             2                         62                  \n",
       "2 NA                            NA                         19                  \n",
       "3 NA                            NA                          2                  \n",
       "4  0                             2                         15                  \n",
       "5 NA                            NA                          4                  \n",
       "6 NA                            NA                         11                  \n",
       "  number_of_Glucose number_of_Absolute A1c\n",
       "1 61                NA                    \n",
       "2 19                NA                    \n",
       "3  2                NA                    \n",
       "4 15                 2                    \n",
       "5  5                NA                    \n",
       "6 11                NA                    "
      ]
     },
     "metadata": {},
     "output_type": "display_data"
    }
   ],
   "source": [
    "# join to patients table\n",
    "patients <- merge(patients, labevents_tmp, by = c('subject_id'))\n",
    "\n",
    "options(repr.matrix.max.cols=30)\n",
    "\n",
    "head(patients)"
   ]
  },
  {
   "cell_type": "markdown",
   "metadata": {},
   "source": [
    "### Finish and save table"
   ]
  },
  {
   "cell_type": "code",
   "execution_count": 34,
   "metadata": {},
   "outputs": [],
   "source": [
    "rm(labevents)\n",
    "rm(labevents_tmp)"
   ]
  },
  {
   "cell_type": "code",
   "execution_count": 35,
   "metadata": {},
   "outputs": [],
   "source": [
    "colnames(patients) <- c(\"id\", \"gender\", \"dead\", \"diabetes\", \"religion\", \"ethnicity\", \"insurance\", \"number_of_emergency_stays\", \"number_of_elective_stays\", \"number_of_urgent_stays\",\n",
    "                       \"A1c_hemoglobin_%_mean\", \"creatinine_mg/dL_mean\", \"glucose_mg/dL_mean\", \"A1c_absolute_mean\", \"number_of_abnormal_results_A1c_hemoglobin_%\", \n",
    "                       \"number_of_abnormal_results_creatinine\", \"number_of_abnormal_results_glucose\", \"number_of_abnormal_results_A1c_absolute\",\n",
    "                       \"number_of_A1c_hemoglobin_%_tests\", \"number_of_creatinine_tests\", \"number_of_glucose_tests\", \"number_of_A1c_absolute_tests\")"
   ]
  },
  {
   "cell_type": "code",
   "execution_count": 36,
   "metadata": {},
   "outputs": [],
   "source": [
    "# column diabetes as last\n",
    "patients <- patients[c(\"id\", \"gender\", \"dead\", \"religion\", \"ethnicity\", \"insurance\", \"number_of_emergency_stays\", \"number_of_elective_stays\", \"number_of_urgent_stays\",\n",
    "                       \"A1c_hemoglobin_%_mean\", \"creatinine_mg/dL_mean\", \"glucose_mg/dL_mean\", \"A1c_absolute_mean\", \"number_of_abnormal_results_A1c_hemoglobin_%\", \n",
    "                       \"number_of_abnormal_results_creatinine\", \"number_of_abnormal_results_glucose\", \"number_of_abnormal_results_A1c_absolute\",\n",
    "                       \"number_of_A1c_hemoglobin_%_tests\", \"number_of_creatinine_tests\", \"number_of_glucose_tests\", \"number_of_A1c_absolute_tests\", \"diabetes\")]"
   ]
  },
  {
   "cell_type": "code",
   "execution_count": 37,
   "metadata": {},
   "outputs": [
    {
     "data": {
      "text/html": [
       "<table class=\"dataframe\">\n",
       "<caption>A data.frame: 6 × 22</caption>\n",
       "<thead>\n",
       "\t<tr><th></th><th scope=col>id</th><th scope=col>gender</th><th scope=col>dead</th><th scope=col>religion</th><th scope=col>ethnicity</th><th scope=col>insurance</th><th scope=col>number_of_emergency_stays</th><th scope=col>number_of_elective_stays</th><th scope=col>number_of_urgent_stays</th><th scope=col>A1c_hemoglobin_%_mean</th><th scope=col>creatinine_mg/dL_mean</th><th scope=col>glucose_mg/dL_mean</th><th scope=col>A1c_absolute_mean</th><th scope=col>number_of_abnormal_results_A1c_hemoglobin_%</th><th scope=col>number_of_abnormal_results_creatinine</th><th scope=col>number_of_abnormal_results_glucose</th><th scope=col>number_of_abnormal_results_A1c_absolute</th><th scope=col>number_of_A1c_hemoglobin_%_tests</th><th scope=col>number_of_creatinine_tests</th><th scope=col>number_of_glucose_tests</th><th scope=col>number_of_A1c_absolute_tests</th><th scope=col>diabetes</th></tr>\n",
       "\t<tr><th></th><th scope=col>&lt;int&gt;</th><th scope=col>&lt;chr&gt;</th><th scope=col>&lt;int&gt;</th><th scope=col>&lt;chr&gt;</th><th scope=col>&lt;chr&gt;</th><th scope=col>&lt;chr&gt;</th><th scope=col>&lt;int&gt;</th><th scope=col>&lt;int&gt;</th><th scope=col>&lt;int&gt;</th><th scope=col>&lt;dbl&gt;</th><th scope=col>&lt;dbl&gt;</th><th scope=col>&lt;dbl&gt;</th><th scope=col>&lt;dbl&gt;</th><th scope=col>&lt;dbl&gt;</th><th scope=col>&lt;dbl&gt;</th><th scope=col>&lt;dbl&gt;</th><th scope=col>&lt;dbl&gt;</th><th scope=col>&lt;int&gt;</th><th scope=col>&lt;int&gt;</th><th scope=col>&lt;int&gt;</th><th scope=col>&lt;int&gt;</th><th scope=col>&lt;dbl&gt;</th></tr>\n",
       "</thead>\n",
       "<tbody>\n",
       "\t<tr><th scope=row>1</th><td>10006</td><td>F</td><td>1</td><td>CATHOLIC</td><td>BLACK/AFRICAN AMERICAN</td><td>Medicare</td><td>1</td><td>0</td><td>0</td><td>5.5</td><td>5.418</td><td>126.820</td><td>NA</td><td> 0</td><td>62</td><td>41</td><td>NA</td><td> 2</td><td>62</td><td>61</td><td>NA</td><td>1</td></tr>\n",
       "\t<tr><th scope=row>2</th><td>10011</td><td>F</td><td>1</td><td>CATHOLIC</td><td>UNKNOWN/NOT SPECIFIED </td><td>Private </td><td>1</td><td>0</td><td>0</td><td> NA</td><td>0.563</td><td>115.526</td><td>NA</td><td>NA</td><td> 0</td><td>11</td><td>NA</td><td>NA</td><td>19</td><td>19</td><td>NA</td><td>0</td></tr>\n",
       "\t<tr><th scope=row>3</th><td>10013</td><td>F</td><td>1</td><td>CATHOLIC</td><td>UNKNOWN/NOT SPECIFIED </td><td>Medicare</td><td>1</td><td>0</td><td>0</td><td> NA</td><td>1.700</td><td>149.500</td><td>NA</td><td>NA</td><td> 2</td><td> 2</td><td>NA</td><td>NA</td><td> 2</td><td> 2</td><td>NA</td><td>0</td></tr>\n",
       "\t<tr><th scope=row>4</th><td>10017</td><td>F</td><td>1</td><td>CATHOLIC</td><td>WHITE                 </td><td>Medicare</td><td>1</td><td>0</td><td>0</td><td>8.4</td><td>0.440</td><td>204.800</td><td>NA</td><td> 2</td><td> 2</td><td>13</td><td> 0</td><td> 2</td><td>15</td><td>15</td><td> 2</td><td>1</td></tr>\n",
       "\t<tr><th scope=row>5</th><td>10019</td><td>M</td><td>1</td><td>CATHOLIC</td><td>WHITE                 </td><td>Medicare</td><td>1</td><td>0</td><td>0</td><td> NA</td><td>5.800</td><td>194.800</td><td>NA</td><td>NA</td><td> 4</td><td> 3</td><td>NA</td><td>NA</td><td> 4</td><td> 5</td><td>NA</td><td>0</td></tr>\n",
       "\t<tr><th scope=row>6</th><td>10026</td><td>F</td><td>1</td><td>OTHER   </td><td>WHITE                 </td><td>Medicare</td><td>1</td><td>0</td><td>0</td><td> NA</td><td>0.545</td><td>107.545</td><td>NA</td><td>NA</td><td> 0</td><td> 5</td><td>NA</td><td>NA</td><td>11</td><td>11</td><td>NA</td><td>0</td></tr>\n",
       "</tbody>\n",
       "</table>\n"
      ],
      "text/latex": [
       "A data.frame: 6 × 22\n",
       "\\begin{tabular}{r|llllllllllllllllllllll}\n",
       "  & id & gender & dead & religion & ethnicity & insurance & number\\_of\\_emergency\\_stays & number\\_of\\_elective\\_stays & number\\_of\\_urgent\\_stays & A1c\\_hemoglobin\\_\\%\\_mean & creatinine\\_mg/dL\\_mean & glucose\\_mg/dL\\_mean & A1c\\_absolute\\_mean & number\\_of\\_abnormal\\_results\\_A1c\\_hemoglobin\\_\\% & number\\_of\\_abnormal\\_results\\_creatinine & number\\_of\\_abnormal\\_results\\_glucose & number\\_of\\_abnormal\\_results\\_A1c\\_absolute & number\\_of\\_A1c\\_hemoglobin\\_\\%\\_tests & number\\_of\\_creatinine\\_tests & number\\_of\\_glucose\\_tests & number\\_of\\_A1c\\_absolute\\_tests & diabetes\\\\\n",
       "  & <int> & <chr> & <int> & <chr> & <chr> & <chr> & <int> & <int> & <int> & <dbl> & <dbl> & <dbl> & <dbl> & <dbl> & <dbl> & <dbl> & <dbl> & <int> & <int> & <int> & <int> & <dbl>\\\\\n",
       "\\hline\n",
       "\t1 & 10006 & F & 1 & CATHOLIC & BLACK/AFRICAN AMERICAN & Medicare & 1 & 0 & 0 & 5.5 & 5.418 & 126.820 & NA &  0 & 62 & 41 & NA &  2 & 62 & 61 & NA & 1\\\\\n",
       "\t2 & 10011 & F & 1 & CATHOLIC & UNKNOWN/NOT SPECIFIED  & Private  & 1 & 0 & 0 &  NA & 0.563 & 115.526 & NA & NA &  0 & 11 & NA & NA & 19 & 19 & NA & 0\\\\\n",
       "\t3 & 10013 & F & 1 & CATHOLIC & UNKNOWN/NOT SPECIFIED  & Medicare & 1 & 0 & 0 &  NA & 1.700 & 149.500 & NA & NA &  2 &  2 & NA & NA &  2 &  2 & NA & 0\\\\\n",
       "\t4 & 10017 & F & 1 & CATHOLIC & WHITE                  & Medicare & 1 & 0 & 0 & 8.4 & 0.440 & 204.800 & NA &  2 &  2 & 13 &  0 &  2 & 15 & 15 &  2 & 1\\\\\n",
       "\t5 & 10019 & M & 1 & CATHOLIC & WHITE                  & Medicare & 1 & 0 & 0 &  NA & 5.800 & 194.800 & NA & NA &  4 &  3 & NA & NA &  4 &  5 & NA & 0\\\\\n",
       "\t6 & 10026 & F & 1 & OTHER    & WHITE                  & Medicare & 1 & 0 & 0 &  NA & 0.545 & 107.545 & NA & NA &  0 &  5 & NA & NA & 11 & 11 & NA & 0\\\\\n",
       "\\end{tabular}\n"
      ],
      "text/markdown": [
       "\n",
       "A data.frame: 6 × 22\n",
       "\n",
       "| <!--/--> | id &lt;int&gt; | gender &lt;chr&gt; | dead &lt;int&gt; | religion &lt;chr&gt; | ethnicity &lt;chr&gt; | insurance &lt;chr&gt; | number_of_emergency_stays &lt;int&gt; | number_of_elective_stays &lt;int&gt; | number_of_urgent_stays &lt;int&gt; | A1c_hemoglobin_%_mean &lt;dbl&gt; | creatinine_mg/dL_mean &lt;dbl&gt; | glucose_mg/dL_mean &lt;dbl&gt; | A1c_absolute_mean &lt;dbl&gt; | number_of_abnormal_results_A1c_hemoglobin_% &lt;dbl&gt; | number_of_abnormal_results_creatinine &lt;dbl&gt; | number_of_abnormal_results_glucose &lt;dbl&gt; | number_of_abnormal_results_A1c_absolute &lt;dbl&gt; | number_of_A1c_hemoglobin_%_tests &lt;int&gt; | number_of_creatinine_tests &lt;int&gt; | number_of_glucose_tests &lt;int&gt; | number_of_A1c_absolute_tests &lt;int&gt; | diabetes &lt;dbl&gt; |\n",
       "|---|---|---|---|---|---|---|---|---|---|---|---|---|---|---|---|---|---|---|---|---|---|---|\n",
       "| 1 | 10006 | F | 1 | CATHOLIC | BLACK/AFRICAN AMERICAN | Medicare | 1 | 0 | 0 | 5.5 | 5.418 | 126.820 | NA |  0 | 62 | 41 | NA |  2 | 62 | 61 | NA | 1 |\n",
       "| 2 | 10011 | F | 1 | CATHOLIC | UNKNOWN/NOT SPECIFIED  | Private  | 1 | 0 | 0 |  NA | 0.563 | 115.526 | NA | NA |  0 | 11 | NA | NA | 19 | 19 | NA | 0 |\n",
       "| 3 | 10013 | F | 1 | CATHOLIC | UNKNOWN/NOT SPECIFIED  | Medicare | 1 | 0 | 0 |  NA | 1.700 | 149.500 | NA | NA |  2 |  2 | NA | NA |  2 |  2 | NA | 0 |\n",
       "| 4 | 10017 | F | 1 | CATHOLIC | WHITE                  | Medicare | 1 | 0 | 0 | 8.4 | 0.440 | 204.800 | NA |  2 |  2 | 13 |  0 |  2 | 15 | 15 |  2 | 1 |\n",
       "| 5 | 10019 | M | 1 | CATHOLIC | WHITE                  | Medicare | 1 | 0 | 0 |  NA | 5.800 | 194.800 | NA | NA |  4 |  3 | NA | NA |  4 |  5 | NA | 0 |\n",
       "| 6 | 10026 | F | 1 | OTHER    | WHITE                  | Medicare | 1 | 0 | 0 |  NA | 0.545 | 107.545 | NA | NA |  0 |  5 | NA | NA | 11 | 11 | NA | 0 |\n",
       "\n"
      ],
      "text/plain": [
       "  id    gender dead religion ethnicity              insurance\n",
       "1 10006 F      1    CATHOLIC BLACK/AFRICAN AMERICAN Medicare \n",
       "2 10011 F      1    CATHOLIC UNKNOWN/NOT SPECIFIED  Private  \n",
       "3 10013 F      1    CATHOLIC UNKNOWN/NOT SPECIFIED  Medicare \n",
       "4 10017 F      1    CATHOLIC WHITE                  Medicare \n",
       "5 10019 M      1    CATHOLIC WHITE                  Medicare \n",
       "6 10026 F      1    OTHER    WHITE                  Medicare \n",
       "  number_of_emergency_stays number_of_elective_stays number_of_urgent_stays\n",
       "1 1                         0                        0                     \n",
       "2 1                         0                        0                     \n",
       "3 1                         0                        0                     \n",
       "4 1                         0                        0                     \n",
       "5 1                         0                        0                     \n",
       "6 1                         0                        0                     \n",
       "  A1c_hemoglobin_%_mean creatinine_mg/dL_mean glucose_mg/dL_mean\n",
       "1 5.5                   5.418                 126.820           \n",
       "2  NA                   0.563                 115.526           \n",
       "3  NA                   1.700                 149.500           \n",
       "4 8.4                   0.440                 204.800           \n",
       "5  NA                   5.800                 194.800           \n",
       "6  NA                   0.545                 107.545           \n",
       "  A1c_absolute_mean number_of_abnormal_results_A1c_hemoglobin_%\n",
       "1 NA                 0                                         \n",
       "2 NA                NA                                         \n",
       "3 NA                NA                                         \n",
       "4 NA                 2                                         \n",
       "5 NA                NA                                         \n",
       "6 NA                NA                                         \n",
       "  number_of_abnormal_results_creatinine number_of_abnormal_results_glucose\n",
       "1 62                                    41                                \n",
       "2  0                                    11                                \n",
       "3  2                                     2                                \n",
       "4  2                                    13                                \n",
       "5  4                                     3                                \n",
       "6  0                                     5                                \n",
       "  number_of_abnormal_results_A1c_absolute number_of_A1c_hemoglobin_%_tests\n",
       "1 NA                                       2                              \n",
       "2 NA                                      NA                              \n",
       "3 NA                                      NA                              \n",
       "4  0                                       2                              \n",
       "5 NA                                      NA                              \n",
       "6 NA                                      NA                              \n",
       "  number_of_creatinine_tests number_of_glucose_tests\n",
       "1 62                         61                     \n",
       "2 19                         19                     \n",
       "3  2                          2                     \n",
       "4 15                         15                     \n",
       "5  4                          5                     \n",
       "6 11                         11                     \n",
       "  number_of_A1c_absolute_tests diabetes\n",
       "1 NA                           1       \n",
       "2 NA                           0       \n",
       "3 NA                           0       \n",
       "4  2                           1       \n",
       "5 NA                           0       \n",
       "6 NA                           0       "
      ]
     },
     "metadata": {},
     "output_type": "display_data"
    }
   ],
   "source": [
    "head(patients)"
   ]
  },
  {
   "cell_type": "code",
   "execution_count": 38,
   "metadata": {},
   "outputs": [],
   "source": [
    "write.csv(patients, \"patients_diabetes_data.csv\", row.names = FALSE)"
   ]
  }
 ],
 "metadata": {
  "kernelspec": {
   "display_name": "R",
   "language": "R",
   "name": "ir"
  },
  "language_info": {
   "codemirror_mode": "r",
   "file_extension": ".r",
   "mimetype": "text/x-r-source",
   "name": "R",
   "pygments_lexer": "r",
   "version": "3.6.3"
  }
 },
 "nbformat": 4,
 "nbformat_minor": 4
}
