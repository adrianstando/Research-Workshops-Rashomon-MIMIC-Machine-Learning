{
 "cells": [
  {
   "cell_type": "code",
   "execution_count": 36,
   "metadata": {},
   "outputs": [],
   "source": [
    "import os\n",
    "import numpy as np\n",
    "import argparse\n",
    "import pickle\n",
    "\n",
    "from sklearn.model_selection import *\n",
    "from sklearn.ensemble import RandomForestClassifier as RF\n",
    "from sklearn.metrics import roc_curve, auc as auc_score, confusion_matrix, f1_score\n",
    "from sklearn.multiclass import OneVsRestClassifier\n",
    "from sklearn.utils import shuffle"
   ]
  },
  {
   "cell_type": "code",
   "execution_count": 37,
   "metadata": {},
   "outputs": [],
   "source": [
    "import pandas as pd"
   ]
  },
  {
   "cell_type": "code",
   "execution_count": 38,
   "metadata": {},
   "outputs": [],
   "source": [
    "def single_score(y_te, yhat):\n",
    "    fpr, tpr, thresholds = roc_curve(y_te, yhat)\n",
    "    roc_auc = auc_score(fpr, tpr)\n",
    "    optimal_idx = np.argmax(tpr - fpr)\n",
    "    optimal_threshold = thresholds[optimal_idx]\n",
    "    yhat[yhat>=optimal_threshold]=1; yhat[yhat<optimal_threshold]=0\n",
    "    yhat=[int(i) for i in yhat]\n",
    "    #matrix = confusion_matrix(y_te, yhat)\n",
    "    tn, fp, fn, tp = confusion_matrix(y_te, yhat).ravel()\n",
    "    sen=1.0* (tp/(tp+fn))\n",
    "    spec=1.0* (tn/(tn+fp))\n",
    "    f1=f1_score(y_te,yhat)\n",
    "    return roc_auc, f1, sen, spec"
   ]
  },
  {
   "cell_type": "code",
   "execution_count": 39,
   "metadata": {},
   "outputs": [
    {
     "data": {
      "text/plain": [
       "array([[4.22535211e-02, 0.00000000e+00, 5.43478261e-02, ...,\n",
       "        4.03017024e-01, 1.33952979e-01, 4.75067826e-01],\n",
       "       [2.58215962e-01, 1.18421053e-01, 3.26086957e-01, ...,\n",
       "        4.10958588e-14, 0.00000000e+00, 0.00000000e+00],\n",
       "       [2.11267606e-01, 4.05553814e-01, 8.69565217e-02, ...,\n",
       "        2.52207581e-01, 1.88907108e-01, 2.31845699e-01],\n",
       "       ...,\n",
       "       [0.00000000e+00, 0.00000000e+00, 0.00000000e+00, ...,\n",
       "        4.10958588e-14, 0.00000000e+00, 0.00000000e+00],\n",
       "       [0.00000000e+00, 2.10526316e-01, 0.00000000e+00, ...,\n",
       "        2.64952543e-01, 2.88610525e-01, 4.89848547e-02],\n",
       "       [3.20522201e-01, 1.57894737e-01, 0.00000000e+00, ...,\n",
       "        4.83805376e-02, 3.83338758e-02, 1.06946021e-01]])"
      ]
     },
     "execution_count": 39,
     "metadata": {},
     "output_type": "execute_result"
    }
   ],
   "source": [
    "X=np.load(\"X48.npy\")\n",
    "X"
   ]
  },
  {
   "cell_type": "code",
   "execution_count": 40,
   "metadata": {},
   "outputs": [
    {
     "data": {
      "text/plain": [
       "array([0, 0, 0, ..., 0, 0, 0], dtype=int64)"
      ]
     },
     "execution_count": 40,
     "metadata": {},
     "output_type": "execute_result"
    }
   ],
   "source": [
    "with open('y', 'rb') as f:\n",
    "    labels = pickle.load(f)\n",
    "task = [yy[0] for yy in labels]\n",
    "y= np.array(task)\n",
    "y"
   ]
  },
  {
   "cell_type": "code",
   "execution_count": 41,
   "metadata": {},
   "outputs": [
    {
     "name": "stdout",
     "output_type": "stream",
     "text": [
      "TRAIN: [ 4964  4971  4994 ... 27613 27614 27615] TEST: [   0    1    2 ... 5602 5603 5604]\n"
     ]
    },
    {
     "name": "stderr",
     "output_type": "stream",
     "text": [
      "[Parallel(n_jobs=1)]: Using backend SequentialBackend with 1 concurrent workers.\n",
      "[Parallel(n_jobs=1)]: Done 450 out of 450 | elapsed:   51.8s finished\n",
      "[Parallel(n_jobs=1)]: Using backend SequentialBackend with 1 concurrent workers.\n",
      "[Parallel(n_jobs=1)]: Done 450 out of 450 | elapsed:    1.5s finished\n",
      "[Parallel(n_jobs=1)]: Using backend SequentialBackend with 1 concurrent workers.\n",
      "[Parallel(n_jobs=1)]: Done 450 out of 450 | elapsed:    0.3s finished\n"
     ]
    },
    {
     "name": "stdout",
     "output_type": "stream",
     "text": [
      "TRAIN: [    0     1     2 ... 27613 27614 27615] TEST: [ 4964  4971  4994 ... 11217 11218 11219]\n"
     ]
    },
    {
     "name": "stderr",
     "output_type": "stream",
     "text": [
      "[Parallel(n_jobs=1)]: Using backend SequentialBackend with 1 concurrent workers.\n",
      "[Parallel(n_jobs=1)]: Done 450 out of 450 | elapsed:   54.5s finished\n",
      "[Parallel(n_jobs=1)]: Using backend SequentialBackend with 1 concurrent workers.\n",
      "[Parallel(n_jobs=1)]: Done 450 out of 450 | elapsed:    1.6s finished\n",
      "[Parallel(n_jobs=1)]: Using backend SequentialBackend with 1 concurrent workers.\n",
      "[Parallel(n_jobs=1)]: Done 450 out of 450 | elapsed:    0.4s finished\n"
     ]
    },
    {
     "name": "stdout",
     "output_type": "stream",
     "text": [
      "TRAIN: [    0     1     2 ... 27613 27614 27615] TEST: [ 9861  9876  9893 ... 16776 16777 16778]\n"
     ]
    },
    {
     "name": "stderr",
     "output_type": "stream",
     "text": [
      "[Parallel(n_jobs=1)]: Using backend SequentialBackend with 1 concurrent workers.\n",
      "[Parallel(n_jobs=1)]: Done 450 out of 450 | elapsed:   53.3s finished\n",
      "[Parallel(n_jobs=1)]: Using backend SequentialBackend with 1 concurrent workers.\n",
      "[Parallel(n_jobs=1)]: Done 450 out of 450 | elapsed:    1.5s finished\n",
      "[Parallel(n_jobs=1)]: Using backend SequentialBackend with 1 concurrent workers.\n",
      "[Parallel(n_jobs=1)]: Done 450 out of 450 | elapsed:    0.4s finished\n"
     ]
    },
    {
     "name": "stdout",
     "output_type": "stream",
     "text": [
      "TRAIN: [    0     1     2 ... 27613 27614 27615] TEST: [14885 14892 14917 ... 22221 22222 22223]\n"
     ]
    },
    {
     "name": "stderr",
     "output_type": "stream",
     "text": [
      "[Parallel(n_jobs=1)]: Using backend SequentialBackend with 1 concurrent workers.\n",
      "[Parallel(n_jobs=1)]: Done 450 out of 450 | elapsed:   53.1s finished\n",
      "[Parallel(n_jobs=1)]: Using backend SequentialBackend with 1 concurrent workers.\n",
      "[Parallel(n_jobs=1)]: Done 450 out of 450 | elapsed:    1.5s finished\n",
      "[Parallel(n_jobs=1)]: Using backend SequentialBackend with 1 concurrent workers.\n",
      "[Parallel(n_jobs=1)]: Done 450 out of 450 | elapsed:    0.3s finished\n",
      "[Parallel(n_jobs=1)]: Using backend SequentialBackend with 1 concurrent workers.\n"
     ]
    },
    {
     "name": "stdout",
     "output_type": "stream",
     "text": [
      "TRAIN: [    0     1     2 ... 22221 22222 22223] TEST: [20978 20997 21005 ... 27613 27614 27615]\n"
     ]
    },
    {
     "name": "stderr",
     "output_type": "stream",
     "text": [
      "[Parallel(n_jobs=1)]: Done 450 out of 450 | elapsed:   54.4s finished\n",
      "[Parallel(n_jobs=1)]: Using backend SequentialBackend with 1 concurrent workers.\n",
      "[Parallel(n_jobs=1)]: Done 450 out of 450 | elapsed:    1.6s finished\n",
      "[Parallel(n_jobs=1)]: Using backend SequentialBackend with 1 concurrent workers.\n",
      "[Parallel(n_jobs=1)]: Done 450 out of 450 | elapsed:    0.4s finished\n"
     ]
    }
   ],
   "source": [
    "skf = StratifiedKFold(n_splits=5)\n",
    "count=0\n",
    "data=[None]*5\n",
    "for train_index, test_index in skf.split(X, y):\n",
    "    print(\"TRAIN:\", train_index, \"TEST:\", test_index)\n",
    "    X_train, X_test = X[train_index], X[test_index]\n",
    "    y_train, y_test = y[train_index], y[test_index]\n",
    "    model = RF(n_estimators = 450, verbose = 1)\n",
    "    xs, ys = shuffle(X_train, y_train)\n",
    "    model = model.fit(xs, ys)\n",
    "    yhat = model.predict(X_train)\n",
    "    tr_auc, _, _, _= single_score(y_train, yhat)\n",
    "    yhat2 = model.predict(X_test)\n",
    "    te_auc, f1_scor, sen, spec= single_score(y_test, yhat2)\n",
    "    data[count] = {'tr_auc': tr_auc, 'f1_score':f1_scor, 'te_auc': te_auc, 'sen':sen, 'spec': spec}\n",
    "    count+=1"
   ]
  },
  {
   "cell_type": "code",
   "execution_count": 42,
   "metadata": {},
   "outputs": [
    {
     "data": {
      "text/plain": [
       "[{'tr_auc': 1.0,\n",
       "  'f1_score': 0.2345523329129887,\n",
       "  'te_auc': 0.5663476849129844,\n",
       "  'sen': 0.1411229135053111,\n",
       "  'spec': 0.9915724563206577},\n",
       " {'tr_auc': 1.0,\n",
       "  'f1_score': 0.2612035851472471,\n",
       "  'te_auc': 0.5753493254028996,\n",
       "  'sen': 0.15501519756838905,\n",
       "  'spec': 0.99568345323741},\n",
       " {'tr_auc': 1.0,\n",
       "  'f1_score': 0.2506265664160401,\n",
       "  'te_auc': 0.5718634880900089,\n",
       "  'sen': 0.15174506828528073,\n",
       "  'spec': 0.9919819078947368},\n",
       " {'tr_auc': 1.0,\n",
       "  'f1_score': 0.2562814070351759,\n",
       "  'te_auc': 0.5737921229833879,\n",
       "  'sen': 0.15477996965098634,\n",
       "  'spec': 0.9928042763157895},\n",
       " {'tr_auc': 1.0,\n",
       "  'f1_score': 0.2389937106918239,\n",
       "  'te_auc': 0.5678642692776136,\n",
       "  'sen': 0.1441578148710167,\n",
       "  'spec': 0.9915707236842105}]"
      ]
     },
     "execution_count": 42,
     "metadata": {},
     "output_type": "execute_result"
    }
   ],
   "source": [
    "\n",
    "data\n"
   ]
  },
  {
   "cell_type": "code",
   "execution_count": 46,
   "metadata": {},
   "outputs": [],
   "source": [
    "with open('raw_stats', 'wb') as f:\n",
    "        pickle.dump(data, f)"
   ]
  },
  {
   "cell_type": "code",
   "execution_count": 48,
   "metadata": {},
   "outputs": [
    {
     "data": {
      "text/html": [
       "<div>\n",
       "<style scoped>\n",
       "    .dataframe tbody tr th:only-of-type {\n",
       "        vertical-align: middle;\n",
       "    }\n",
       "\n",
       "    .dataframe tbody tr th {\n",
       "        vertical-align: top;\n",
       "    }\n",
       "\n",
       "    .dataframe thead th {\n",
       "        text-align: right;\n",
       "    }\n",
       "</style>\n",
       "<table border=\"1\" class=\"dataframe\">\n",
       "  <thead>\n",
       "    <tr style=\"text-align: right;\">\n",
       "      <th></th>\n",
       "      <th>tr_auc</th>\n",
       "      <th>f1_score</th>\n",
       "      <th>te_auc</th>\n",
       "      <th>sen</th>\n",
       "      <th>spec</th>\n",
       "    </tr>\n",
       "  </thead>\n",
       "  <tbody>\n",
       "    <tr>\n",
       "      <th>count</th>\n",
       "      <td>5.0</td>\n",
       "      <td>5.000000</td>\n",
       "      <td>5.000000</td>\n",
       "      <td>5.000000</td>\n",
       "      <td>5.000000</td>\n",
       "    </tr>\n",
       "    <tr>\n",
       "      <th>mean</th>\n",
       "      <td>1.0</td>\n",
       "      <td>0.248332</td>\n",
       "      <td>0.571043</td>\n",
       "      <td>0.149364</td>\n",
       "      <td>0.992723</td>\n",
       "    </tr>\n",
       "    <tr>\n",
       "      <th>std</th>\n",
       "      <td>0.0</td>\n",
       "      <td>0.011305</td>\n",
       "      <td>0.003838</td>\n",
       "      <td>0.006363</td>\n",
       "      <td>0.001730</td>\n",
       "    </tr>\n",
       "    <tr>\n",
       "      <th>min</th>\n",
       "      <td>1.0</td>\n",
       "      <td>0.234552</td>\n",
       "      <td>0.566348</td>\n",
       "      <td>0.141123</td>\n",
       "      <td>0.991571</td>\n",
       "    </tr>\n",
       "    <tr>\n",
       "      <th>25%</th>\n",
       "      <td>1.0</td>\n",
       "      <td>0.238994</td>\n",
       "      <td>0.567864</td>\n",
       "      <td>0.144158</td>\n",
       "      <td>0.991572</td>\n",
       "    </tr>\n",
       "    <tr>\n",
       "      <th>50%</th>\n",
       "      <td>1.0</td>\n",
       "      <td>0.250627</td>\n",
       "      <td>0.571863</td>\n",
       "      <td>0.151745</td>\n",
       "      <td>0.991982</td>\n",
       "    </tr>\n",
       "    <tr>\n",
       "      <th>75%</th>\n",
       "      <td>1.0</td>\n",
       "      <td>0.256281</td>\n",
       "      <td>0.573792</td>\n",
       "      <td>0.154780</td>\n",
       "      <td>0.992804</td>\n",
       "    </tr>\n",
       "    <tr>\n",
       "      <th>max</th>\n",
       "      <td>1.0</td>\n",
       "      <td>0.261204</td>\n",
       "      <td>0.575349</td>\n",
       "      <td>0.155015</td>\n",
       "      <td>0.995683</td>\n",
       "    </tr>\n",
       "  </tbody>\n",
       "</table>\n",
       "</div>"
      ],
      "text/plain": [
       "       tr_auc  f1_score    te_auc       sen      spec\n",
       "count     5.0  5.000000  5.000000  5.000000  5.000000\n",
       "mean      1.0  0.248332  0.571043  0.149364  0.992723\n",
       "std       0.0  0.011305  0.003838  0.006363  0.001730\n",
       "min       1.0  0.234552  0.566348  0.141123  0.991571\n",
       "25%       1.0  0.238994  0.567864  0.144158  0.991572\n",
       "50%       1.0  0.250627  0.571863  0.151745  0.991982\n",
       "75%       1.0  0.256281  0.573792  0.154780  0.992804\n",
       "max       1.0  0.261204  0.575349  0.155015  0.995683"
      ]
     },
     "execution_count": 48,
     "metadata": {},
     "output_type": "execute_result"
    }
   ],
   "source": [
    "pd.DataFrame(data).describe()"
   ]
  },
  {
   "cell_type": "code",
   "execution_count": null,
   "metadata": {},
   "outputs": [],
   "source": []
  }
 ],
 "metadata": {
  "kernelspec": {
   "display_name": "Python 3",
   "language": "python",
   "name": "python3"
  },
  "language_info": {
   "codemirror_mode": {
    "name": "ipython",
    "version": 3
   },
   "file_extension": ".py",
   "mimetype": "text/x-python",
   "name": "python",
   "nbconvert_exporter": "python",
   "pygments_lexer": "ipython3",
   "version": "3.8.5"
  }
 },
 "nbformat": 4,
 "nbformat_minor": 4
}
