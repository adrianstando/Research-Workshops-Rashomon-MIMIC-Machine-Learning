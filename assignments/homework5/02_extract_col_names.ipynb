{
 "cells": [
  {
   "cell_type": "markdown",
   "metadata": {},
   "source": [
    "# Nazwy kolumn w ramce danych zapisanej w pliku *X48.npy*"
   ]
  },
  {
   "cell_type": "code",
   "execution_count": 1,
   "metadata": {},
   "outputs": [],
   "source": [
    "import numpy as np\n",
    "import pandas as pd\n",
    "import pickle"
   ]
  },
  {
   "cell_type": "code",
   "execution_count": 2,
   "metadata": {},
   "outputs": [],
   "source": [
    "features = np.load(\"features\", allow_pickle = True)\n",
    "labels = np.load(\"labels\", allow_pickle = True)"
   ]
  },
  {
   "cell_type": "markdown",
   "metadata": {},
   "source": [
    "Jedna z funkcji do preprocessingu w artykule:\n",
    "\n",
    "`\n",
    "def preprocess(features, labels, demographics):\n",
    "    '''pre: features and labels\n",
    "    post: X = [[x1, ... xT]_1, ...], y= [(mort, readm, los, dx)] '''\n",
    "    from sklearn.preprocessing import MinMaxScaler\n",
    "    subj = list(set(labels.keys()))   \n",
    "    hadm = list(set(features.keys()))\n",
    "    col_dict = dict ([(v,k) for k,v in enumerate(features[hadm[0]][list(features[hadm[0]].keys())[0]].keys())])\n",
    "    cols = sorted(col_dict.keys())\n",
    "    items = []\n",
    "    for i in progressbar.progressbar(range(len( subj ) ) ):\n",
    "        s = subj[i]\n",
    "        h = labels[s]['hadm_id']\n",
    "        if h in hadm:\n",
    "            x = np.zeros((len(features[h].keys()), len(col_dict)))\n",
    "            for index in range(len(sorted(features[h].keys()))):\n",
    "                t = sorted(features[h].keys())[index]\n",
    "                x[index, [col_dict[k] for k in cols]] = [features[h][t][k] for k in cols]\n",
    "            mort = labels[s]['mort']\n",
    "            los = list(one_hot([labels[s]['los_bin']], 9)[0])\n",
    "            readmit = labels[s]['readmit']\n",
    "            dx = labels[s]['dx']\n",
    "            y = (mort, readmit, los, dx)\n",
    "            z = demographics[s]\n",
    "            #auxiliary features\n",
    "            x48 = np.concatenate((np.min(x, axis=0), np.max(x, axis=0), np.mean(x,axis=0), np.std(x,axis=0)),axis=-1)            \n",
    "            sentence = labels[s]['dx_lst']\n",
    "            items.append((x, y, z, x48, sentence))\n",
    "    X, y, Z, X48, sentences = zip(*items)\n",
    "    X, y, Z, X48, sentences = np.array(list(X)), list(y), np.array(list(Z)), np.array(list(X48)), list(sentences)\n",
    "    #normalize each feature to [0,1]\n",
    "    words = [[] for i in range(len(X))]\n",
    "    for i in range(len(X[0,0,:])):\n",
    "        #add to visit words\n",
    "        mean, std, minimum, maximum = np.mean(X[:,:,i]), np.std(X[:,:,i]), np.min(X[:,:,i],axis=1), np.max(X[:,:,i], axis=1) \n",
    "        arr_min, arr_max = minimum < (mean - std), maximum > (mean + std)\n",
    "        for j in range(len(arr_min)):\n",
    "            if arr_min[j]: words[j].append(str(i) + '_low')\n",
    "            if arr_max[j]: words[j].append(str(i) + '_high')\n",
    "        #scale X\n",
    "        scaler = MinMaxScaler()\n",
    "        x_row = scaler.fit_transform(X[:,:,i])\n",
    "        X[:,:,i] = x_row\n",
    "    #transform X48\n",
    "    scaler = MinMaxScaler()\n",
    "    X48 = scaler.fit_transform(X48)\n",
    "    return X, y, Z, X48, sentences, words `\n",
    "    "
   ]
  },
  {
   "cell_type": "markdown",
   "metadata": {},
   "source": [
    "### Odzyskanie nazw kolumn:"
   ]
  },
  {
   "cell_type": "code",
   "execution_count": 3,
   "metadata": {},
   "outputs": [
    {
     "name": "stdout",
     "output_type": "stream",
     "text": [
      "['albumin', 'bicarbonate', 'bun', 'calcium', 'creatinine', 'diasbp', 'glucose', 'heartrate', 'inr', 'lactate', 'pco2', 'ph', 'platelet', 'potassium', 'resprate', 'sodium', 'spo2', 'sysbp', 'tempc']\n"
     ]
    }
   ],
   "source": [
    "subj = list(set(labels.keys()))   \n",
    "hadm = list(set(features.keys()))\n",
    "col_dict = dict ([(v,k) for k,v in enumerate(features[hadm[0]][list(features[hadm[0]].keys())[0]].keys())])\n",
    "cols = sorted(col_dict.keys())\n",
    "\n",
    "print(cols)"
   ]
  },
  {
   "cell_type": "markdown",
   "metadata": {},
   "source": [
    "Spójrzmy jednak na linijkę:\n",
    "\n",
    "` x48 = np.concatenate((np.min(x, axis=0), np.max(x, axis=0), np.mean(x,axis=0), np.std(x,axis=0)),axis=-1) `\n",
    "\n",
    "Oznacza to, że dla każdej z wartości policzono wartość minimalną, maksymalną, średnią oraz odchylenie standardowe. Liczba kolumn wynosi:"
   ]
  },
  {
   "cell_type": "code",
   "execution_count": 4,
   "metadata": {},
   "outputs": [
    {
     "name": "stdout",
     "output_type": "stream",
     "text": [
      "Liczba kolumn wynosi: 76\n"
     ]
    }
   ],
   "source": [
    "n_cols = len(cols)\n",
    "print(f\"Liczba kolumn wynosi: {n_cols * 4}\")"
   ]
  },
  {
   "cell_type": "code",
   "execution_count": 5,
   "metadata": {},
   "outputs": [
    {
     "name": "stdout",
     "output_type": "stream",
     "text": [
      "Liczba kolumn w ramce X48 wynosi: 76\n"
     ]
    }
   ],
   "source": [
    "X48 = np.load(\"X48.npy\")\n",
    "print(f\"Liczba kolumn w ramce X48 wynosi: {X48.shape[1]}\")"
   ]
  },
  {
   "cell_type": "markdown",
   "metadata": {},
   "source": [
    "A zatem są to wszystkie kolumny."
   ]
  },
  {
   "cell_type": "code",
   "execution_count": 6,
   "metadata": {},
   "outputs": [],
   "source": [
    "column_names = []\n",
    "\n",
    "for col in cols:\n",
    "    column_names.append(col + \"_min\")\n",
    "    column_names.append(col + \"_max\")\n",
    "    column_names.append(col + \"_mean\")\n",
    "    column_names.append(col + \"_std\")"
   ]
  },
  {
   "cell_type": "code",
   "execution_count": 9,
   "metadata": {},
   "outputs": [
    {
     "name": "stdout",
     "output_type": "stream",
     "text": [
      "['albumin_min', 'albumin_max', 'albumin_mean', 'albumin_std', 'bicarbonate_min', 'bicarbonate_max', 'bicarbonate_mean', 'bicarbonate_std', 'bun_min', 'bun_max', 'bun_mean', 'bun_std', 'calcium_min', 'calcium_max', 'calcium_mean', 'calcium_std', 'creatinine_min', 'creatinine_max', 'creatinine_mean', 'creatinine_std', 'diasbp_min', 'diasbp_max', 'diasbp_mean', 'diasbp_std', 'glucose_min', 'glucose_max', 'glucose_mean', 'glucose_std', 'heartrate_min', 'heartrate_max', 'heartrate_mean', 'heartrate_std', 'inr_min', 'inr_max', 'inr_mean', 'inr_std', 'lactate_min', 'lactate_max', 'lactate_mean', 'lactate_std', 'pco2_min', 'pco2_max', 'pco2_mean', 'pco2_std', 'ph_min', 'ph_max', 'ph_mean', 'ph_std', 'platelet_min', 'platelet_max', 'platelet_mean', 'platelet_std', 'potassium_min', 'potassium_max', 'potassium_mean', 'potassium_std', 'resprate_min', 'resprate_max', 'resprate_mean', 'resprate_std', 'sodium_min', 'sodium_max', 'sodium_mean', 'sodium_std', 'spo2_min', 'spo2_max', 'spo2_mean', 'spo2_std', 'sysbp_min', 'sysbp_max', 'sysbp_mean', 'sysbp_std', 'tempc_min', 'tempc_max', 'tempc_mean', 'tempc_std']\n"
     ]
    }
   ],
   "source": [
    "print(column_names)"
   ]
  },
  {
   "cell_type": "code",
   "execution_count": 7,
   "metadata": {},
   "outputs": [],
   "source": [
    "with open('column_names.npy', 'wb') as f:\n",
    "    pickle.dump(column_names, f)"
   ]
  }
 ],
 "metadata": {
  "kernelspec": {
   "display_name": "Python 3",
   "language": "python",
   "name": "python3"
  },
  "language_info": {
   "codemirror_mode": {
    "name": "ipython",
    "version": 3
   },
   "file_extension": ".py",
   "mimetype": "text/x-python",
   "name": "python",
   "nbconvert_exporter": "python",
   "pygments_lexer": "ipython3",
   "version": "3.7.9"
  }
 },
 "nbformat": 4,
 "nbformat_minor": 4
}
