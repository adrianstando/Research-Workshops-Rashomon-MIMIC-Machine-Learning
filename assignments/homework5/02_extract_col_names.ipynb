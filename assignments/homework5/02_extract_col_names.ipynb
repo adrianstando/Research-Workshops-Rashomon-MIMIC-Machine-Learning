{
 "cells": [
  {
   "cell_type": "markdown",
   "metadata": {},
   "source": [
    "# Nazwy kolumn w ramce danych zapisanej w pliku *X48.npy*"
   ]
  },
  {
   "cell_type": "code",
   "execution_count": 1,
   "metadata": {},
   "outputs": [],
   "source": [
    "import numpy as np\n",
    "import pandas as pd\n",
    "import pickle"
   ]
  },
  {
   "cell_type": "code",
   "execution_count": 2,
   "metadata": {},
   "outputs": [],
   "source": [
    "features = np.load(\"features.npy\", allow_pickle = True)\n",
    "labels = np.load(\"labels.npy\", allow_pickle = True)"
   ]
  },
  {
   "cell_type": "markdown",
   "metadata": {},
   "source": [
    "### Odzyskanie nazw kolumn:"
   ]
  },
  {
   "cell_type": "code",
   "execution_count": 3,
   "metadata": {},
   "outputs": [
    {
     "name": "stdout",
     "output_type": "stream",
     "text": [
      "['albumin', 'bicarbonate', 'bun', 'calcium', 'creatinine', 'diasbp', 'glucose', 'heartrate', 'inr', 'lactate', 'pco2', 'ph', 'platelet', 'potassium', 'resprate', 'sodium', 'spo2', 'sysbp', 'tempc']\n"
     ]
    }
   ],
   "source": [
    "subj = list(set(labels.keys()))   \n",
    "hadm = list(set(features.keys()))\n",
    "col_dict = dict ([(v,k) for k,v in enumerate(features[hadm[0]][list(features[hadm[0]].keys())[0]].keys())])\n",
    "cols = sorted(col_dict.keys())\n",
    "\n",
    "print(cols)"
   ]
  },
  {
   "cell_type": "markdown",
   "metadata": {},
   "source": [
    "Spójrzmy jednak na linijkę funkcji preprocess z artykułu:\n",
    "\n",
    "` x48 = np.concatenate((np.min(x, axis=0), np.max(x, axis=0), np.mean(x,axis=0), np.std(x,axis=0)), axis=-1) `\n",
    "\n",
    "Oznacza to, że dla każdej z wartości policzono wartość minimalną, maksymalną, średnią oraz odchylenie standardowe. Liczba kolumn wynosi:"
   ]
  },
  {
   "cell_type": "code",
   "execution_count": 4,
   "metadata": {},
   "outputs": [
    {
     "name": "stdout",
     "output_type": "stream",
     "text": [
      "Liczba kolumn wynosi: 76\n"
     ]
    }
   ],
   "source": [
    "n_cols = len(cols)\n",
    "print(f\"Liczba kolumn wynosi: {n_cols * 4}\")"
   ]
  },
  {
   "cell_type": "code",
   "execution_count": 5,
   "metadata": {},
   "outputs": [
    {
     "name": "stdout",
     "output_type": "stream",
     "text": [
      "Liczba kolumn w ramce X48 wynosi: 76\n"
     ]
    }
   ],
   "source": [
    "X48 = np.load(\"X48.npy\")\n",
    "print(f\"Liczba kolumn w ramce X48 wynosi: {X48.shape[1]}\")"
   ]
  },
  {
   "cell_type": "markdown",
   "metadata": {},
   "source": [
    "A zatem są to wszystkie kolumny."
   ]
  },
  {
   "cell_type": "code",
   "execution_count": 6,
   "metadata": {},
   "outputs": [],
   "source": [
    "column_names = []\n",
    "\n",
    "suffixes = [\"_min\", \"_max\", \"_mean\", \"_std\"]\n",
    "\n",
    "for suf in suffixes:\n",
    "    for col in cols:\n",
    "        column_names.append(col + suf)"
   ]
  },
  {
   "cell_type": "code",
   "execution_count": 7,
   "metadata": {},
   "outputs": [
    {
     "name": "stdout",
     "output_type": "stream",
     "text": [
      "['albumin_min', 'bicarbonate_min', 'bun_min', 'calcium_min', 'creatinine_min', 'diasbp_min', 'glucose_min', 'heartrate_min', 'inr_min', 'lactate_min', 'pco2_min', 'ph_min', 'platelet_min', 'potassium_min', 'resprate_min', 'sodium_min', 'spo2_min', 'sysbp_min', 'tempc_min', 'albumin_max', 'bicarbonate_max', 'bun_max', 'calcium_max', 'creatinine_max', 'diasbp_max', 'glucose_max', 'heartrate_max', 'inr_max', 'lactate_max', 'pco2_max', 'ph_max', 'platelet_max', 'potassium_max', 'resprate_max', 'sodium_max', 'spo2_max', 'sysbp_max', 'tempc_max', 'albumin_mean', 'bicarbonate_mean', 'bun_mean', 'calcium_mean', 'creatinine_mean', 'diasbp_mean', 'glucose_mean', 'heartrate_mean', 'inr_mean', 'lactate_mean', 'pco2_mean', 'ph_mean', 'platelet_mean', 'potassium_mean', 'resprate_mean', 'sodium_mean', 'spo2_mean', 'sysbp_mean', 'tempc_mean', 'albumin_std', 'bicarbonate_std', 'bun_std', 'calcium_std', 'creatinine_std', 'diasbp_std', 'glucose_std', 'heartrate_std', 'inr_std', 'lactate_std', 'pco2_std', 'ph_std', 'platelet_std', 'potassium_std', 'resprate_std', 'sodium_std', 'spo2_std', 'sysbp_std', 'tempc_std']\n"
     ]
    }
   ],
   "source": [
    "print(column_names)"
   ]
  },
  {
   "cell_type": "code",
   "execution_count": 8,
   "metadata": {},
   "outputs": [],
   "source": [
    "with open('column_names.npy', 'wb') as f:\n",
    "    pickle.dump(column_names, f)"
   ]
  }
 ],
 "metadata": {
  "kernelspec": {
   "display_name": "Python 3",
   "language": "python",
   "name": "python3"
  },
  "language_info": {
   "codemirror_mode": {
    "name": "ipython",
    "version": 3
   },
   "file_extension": ".py",
   "mimetype": "text/x-python",
   "name": "python",
   "nbconvert_exporter": "python",
   "pygments_lexer": "ipython3",
   "version": "3.7.10"
  }
 },
 "nbformat": 4,
 "nbformat_minor": 4
}
