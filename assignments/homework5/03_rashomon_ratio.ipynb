{
 "cells": [
  {
   "cell_type": "markdown",
   "id": "812da51d",
   "metadata": {},
   "source": [
    "# Ile modeli zalicza się do zbioru Rashomon w zależności od punktu odcięcia?"
   ]
  },
  {
   "cell_type": "code",
   "execution_count": 1,
   "id": "4958a195",
   "metadata": {},
   "outputs": [],
   "source": [
    "import numpy as np\n",
    "import pandas as pd\n",
    "import seaborn as sns\n",
    "import matplotlib.pyplot as plt"
   ]
  },
  {
   "cell_type": "code",
   "execution_count": 2,
   "id": "2de43763",
   "metadata": {},
   "outputs": [],
   "source": [
    "results = np.load('results.npy', allow_pickle=True)"
   ]
  },
  {
   "cell_type": "code",
   "execution_count": 3,
   "id": "0431ef7d",
   "metadata": {},
   "outputs": [
    {
     "data": {
      "text/html": [
       "<div>\n",
       "<style scoped>\n",
       "    .dataframe tbody tr th:only-of-type {\n",
       "        vertical-align: middle;\n",
       "    }\n",
       "\n",
       "    .dataframe tbody tr th {\n",
       "        vertical-align: top;\n",
       "    }\n",
       "\n",
       "    .dataframe thead th {\n",
       "        text-align: right;\n",
       "    }\n",
       "</style>\n",
       "<table border=\"1\" class=\"dataframe\">\n",
       "  <thead>\n",
       "    <tr style=\"text-align: right;\">\n",
       "      <th></th>\n",
       "      <th>mean_fit_time</th>\n",
       "      <th>std_fit_time</th>\n",
       "      <th>mean_score_time</th>\n",
       "      <th>std_score_time</th>\n",
       "      <th>param_subsample</th>\n",
       "      <th>param_n_estimators</th>\n",
       "      <th>param_min_child_weight</th>\n",
       "      <th>param_max_depth</th>\n",
       "      <th>param_learning_rate</th>\n",
       "      <th>param_lambda</th>\n",
       "      <th>...</th>\n",
       "      <th>mean_test_score</th>\n",
       "      <th>std_test_score</th>\n",
       "      <th>rank_test_score</th>\n",
       "      <th>split0_train_score</th>\n",
       "      <th>split1_train_score</th>\n",
       "      <th>split2_train_score</th>\n",
       "      <th>split3_train_score</th>\n",
       "      <th>split4_train_score</th>\n",
       "      <th>mean_train_score</th>\n",
       "      <th>std_train_score</th>\n",
       "    </tr>\n",
       "  </thead>\n",
       "  <tbody>\n",
       "    <tr>\n",
       "      <th>0</th>\n",
       "      <td>6.638575</td>\n",
       "      <td>0.536402</td>\n",
       "      <td>0.043196</td>\n",
       "      <td>0.012438</td>\n",
       "      <td>0.810526</td>\n",
       "      <td>730</td>\n",
       "      <td>2.151381</td>\n",
       "      <td>15</td>\n",
       "      <td>0.004202</td>\n",
       "      <td>26.664384</td>\n",
       "      <td>...</td>\n",
       "      <td>0.835130</td>\n",
       "      <td>0.008858</td>\n",
       "      <td>17</td>\n",
       "      <td>0.875231</td>\n",
       "      <td>0.870416</td>\n",
       "      <td>0.874698</td>\n",
       "      <td>0.873335</td>\n",
       "      <td>0.874948</td>\n",
       "      <td>0.873725</td>\n",
       "      <td>0.001778</td>\n",
       "    </tr>\n",
       "    <tr>\n",
       "      <th>1</th>\n",
       "      <td>4.878420</td>\n",
       "      <td>0.328184</td>\n",
       "      <td>0.013987</td>\n",
       "      <td>0.000234</td>\n",
       "      <td>0.289474</td>\n",
       "      <td>280</td>\n",
       "      <td>27.655101</td>\n",
       "      <td>7</td>\n",
       "      <td>0.077793</td>\n",
       "      <td>0.694326</td>\n",
       "      <td>...</td>\n",
       "      <td>0.859300</td>\n",
       "      <td>0.008040</td>\n",
       "      <td>5</td>\n",
       "      <td>0.920223</td>\n",
       "      <td>0.919929</td>\n",
       "      <td>0.921731</td>\n",
       "      <td>0.921778</td>\n",
       "      <td>0.921052</td>\n",
       "      <td>0.920943</td>\n",
       "      <td>0.000758</td>\n",
       "    </tr>\n",
       "    <tr>\n",
       "      <th>2</th>\n",
       "      <td>14.659953</td>\n",
       "      <td>0.737244</td>\n",
       "      <td>0.023060</td>\n",
       "      <td>0.005427</td>\n",
       "      <td>0.668421</td>\n",
       "      <td>680</td>\n",
       "      <td>76.806574</td>\n",
       "      <td>4</td>\n",
       "      <td>0.482088</td>\n",
       "      <td>6.197039</td>\n",
       "      <td>...</td>\n",
       "      <td>0.830569</td>\n",
       "      <td>0.007944</td>\n",
       "      <td>21</td>\n",
       "      <td>0.994952</td>\n",
       "      <td>0.993956</td>\n",
       "      <td>0.994870</td>\n",
       "      <td>0.995095</td>\n",
       "      <td>0.994692</td>\n",
       "      <td>0.994713</td>\n",
       "      <td>0.000400</td>\n",
       "    </tr>\n",
       "    <tr>\n",
       "      <th>3</th>\n",
       "      <td>16.158682</td>\n",
       "      <td>0.743277</td>\n",
       "      <td>0.031358</td>\n",
       "      <td>0.001582</td>\n",
       "      <td>0.431579</td>\n",
       "      <td>730</td>\n",
       "      <td>21.422466</td>\n",
       "      <td>10</td>\n",
       "      <td>0.006052</td>\n",
       "      <td>114.730508</td>\n",
       "      <td>...</td>\n",
       "      <td>0.817475</td>\n",
       "      <td>0.008329</td>\n",
       "      <td>29</td>\n",
       "      <td>0.835430</td>\n",
       "      <td>0.830444</td>\n",
       "      <td>0.834490</td>\n",
       "      <td>0.833089</td>\n",
       "      <td>0.834878</td>\n",
       "      <td>0.833666</td>\n",
       "      <td>0.001788</td>\n",
       "    </tr>\n",
       "    <tr>\n",
       "      <th>4</th>\n",
       "      <td>0.706625</td>\n",
       "      <td>0.022456</td>\n",
       "      <td>0.010400</td>\n",
       "      <td>0.000107</td>\n",
       "      <td>0.147368</td>\n",
       "      <td>180</td>\n",
       "      <td>99.152617</td>\n",
       "      <td>13</td>\n",
       "      <td>0.008716</td>\n",
       "      <td>0.01808</td>\n",
       "      <td>...</td>\n",
       "      <td>0.787429</td>\n",
       "      <td>0.013471</td>\n",
       "      <td>41</td>\n",
       "      <td>0.791654</td>\n",
       "      <td>0.789798</td>\n",
       "      <td>0.794565</td>\n",
       "      <td>0.795891</td>\n",
       "      <td>0.797201</td>\n",
       "      <td>0.793822</td>\n",
       "      <td>0.002725</td>\n",
       "    </tr>\n",
       "  </tbody>\n",
       "</table>\n",
       "<p>5 rows × 30 columns</p>\n",
       "</div>"
      ],
      "text/plain": [
       "   mean_fit_time  std_fit_time  mean_score_time  std_score_time  \\\n",
       "0       6.638575      0.536402         0.043196        0.012438   \n",
       "1       4.878420      0.328184         0.013987        0.000234   \n",
       "2      14.659953      0.737244         0.023060        0.005427   \n",
       "3      16.158682      0.743277         0.031358        0.001582   \n",
       "4       0.706625      0.022456         0.010400        0.000107   \n",
       "\n",
       "  param_subsample param_n_estimators param_min_child_weight param_max_depth  \\\n",
       "0        0.810526                730               2.151381              15   \n",
       "1        0.289474                280              27.655101               7   \n",
       "2        0.668421                680              76.806574               4   \n",
       "3        0.431579                730              21.422466              10   \n",
       "4        0.147368                180              99.152617              13   \n",
       "\n",
       "  param_learning_rate param_lambda  ... mean_test_score std_test_score  \\\n",
       "0            0.004202    26.664384  ...        0.835130       0.008858   \n",
       "1            0.077793     0.694326  ...        0.859300       0.008040   \n",
       "2            0.482088     6.197039  ...        0.830569       0.007944   \n",
       "3            0.006052   114.730508  ...        0.817475       0.008329   \n",
       "4            0.008716      0.01808  ...        0.787429       0.013471   \n",
       "\n",
       "  rank_test_score split0_train_score split1_train_score  split2_train_score  \\\n",
       "0              17           0.875231           0.870416            0.874698   \n",
       "1               5           0.920223           0.919929            0.921731   \n",
       "2              21           0.994952           0.993956            0.994870   \n",
       "3              29           0.835430           0.830444            0.834490   \n",
       "4              41           0.791654           0.789798            0.794565   \n",
       "\n",
       "   split3_train_score  split4_train_score  mean_train_score  std_train_score  \n",
       "0            0.873335            0.874948          0.873725         0.001778  \n",
       "1            0.921778            0.921052          0.920943         0.000758  \n",
       "2            0.995095            0.994692          0.994713         0.000400  \n",
       "3            0.833089            0.834878          0.833666         0.001788  \n",
       "4            0.795891            0.797201          0.793822         0.002725  \n",
       "\n",
       "[5 rows x 30 columns]"
      ]
     },
     "execution_count": 3,
     "metadata": {},
     "output_type": "execute_result"
    }
   ],
   "source": [
    "results.head()"
   ]
  },
  {
   "cell_type": "code",
   "execution_count": 4,
   "id": "9f41832d",
   "metadata": {},
   "outputs": [],
   "source": [
    "mean_test_score = results.mean_test_score"
   ]
  },
  {
   "cell_type": "code",
   "execution_count": 5,
   "id": "d000cfcd",
   "metadata": {},
   "outputs": [
    {
     "name": "stdout",
     "output_type": "stream",
     "text": [
      "Najlepszy model osiagnął wynik : 0.8630322161401633\n",
      "Najgorszy model osiagnął wynik : 0.6828884290166908\n"
     ]
    }
   ],
   "source": [
    "print(f\"Najlepszy model osiagnął wynik : {np.max(mean_test_score)}\")\n",
    "print(f\"Najgorszy model osiagnął wynik : {np.min(mean_test_score)}\")"
   ]
  },
  {
   "cell_type": "code",
   "execution_count": 6,
   "id": "ea26957a",
   "metadata": {},
   "outputs": [
    {
     "data": {
      "image/png": "[encoded data removed]",
      "text/plain": [
       "<Figure size 432x288 with 1 Axes>"
      ]
     },
     "metadata": {
      "needs_background": "light"
     },
     "output_type": "display_data"
    }
   ],
   "source": [
    "sns.boxplot(x = mean_test_score)\n",
    "plt.title('Boxplot of mean test score')\n",
    "plt.show()"
   ]
  },
  {
   "cell_type": "code",
   "execution_count": 7,
   "id": "b3b64d87",
   "metadata": {},
   "outputs": [
    {
     "data": {
      "image/png": "[encoded data removed]",
      "text/plain": [
       "<Figure size 432x288 with 1 Axes>"
      ]
     },
     "metadata": {
      "needs_background": "light"
     },
     "output_type": "display_data"
    }
   ],
   "source": [
    "sns.histplot(mean_test_score, bins = 50)\n",
    "plt.title('Histogram of mean test score')\n",
    "plt.show()"
   ]
  },
  {
   "cell_type": "code",
   "execution_count": 8,
   "id": "5f40a231",
   "metadata": {},
   "outputs": [
    {
     "data": {
      "image/png": "[encoded data removed]",
      "text/plain": [
       "<Figure size 432x288 with 1 Axes>"
      ]
     },
     "metadata": {
      "needs_background": "light"
     },
     "output_type": "display_data"
    }
   ],
   "source": [
    "sns.ecdfplot(mean_test_score, stat=\"count\")\n",
    "plt.title('Distribution of mean test score results')\n",
    "plt.show()"
   ]
  },
  {
   "cell_type": "markdown",
   "id": "62f6ffa2",
   "metadata": {},
   "source": [
    "### Rashomon ratio w zależności od punktu odcięcia"
   ]
  },
  {
   "cell_type": "code",
   "execution_count": 9,
   "id": "cfca10ef",
   "metadata": {},
   "outputs": [],
   "source": [
    "counts, bins = np.histogram(mean_test_score, bins=50, range=(0.5, 1))"
   ]
  },
  {
   "cell_type": "code",
   "execution_count": 10,
   "id": "545234e9",
   "metadata": {},
   "outputs": [],
   "source": [
    "reverse_cum_sum = np.cumsum(counts[::-1])[::-1] "
   ]
  },
  {
   "cell_type": "code",
   "execution_count": 11,
   "id": "da571553",
   "metadata": {},
   "outputs": [],
   "source": [
    "ratio = reverse_cum_sum / len(reverse_cum_sum)"
   ]
  },
  {
   "cell_type": "code",
   "execution_count": 12,
   "id": "7052bd43",
   "metadata": {},
   "outputs": [
    {
     "data": {
      "image/png": "[encoded data removed]",
      "text/plain": [
       "<Figure size 432x288 with 1 Axes>"
      ]
     },
     "metadata": {
      "needs_background": "light"
     },
     "output_type": "display_data"
    }
   ],
   "source": [
    "sns.lineplot(x = bins[0:len(bins)-1], y = ratio)\n",
    "plt.title('Rashomon ratio')\n",
    "plt.xlabel('Mean test score')\n",
    "plt.ylabel('Rashomon ratio')\n",
    "plt.show()"
   ]
  }
 ],
 "metadata": {
  "kernelspec": {
   "display_name": "Python 3",
   "language": "python",
   "name": "python3"
  },
  "language_info": {
   "codemirror_mode": {
    "name": "ipython",
    "version": 3
   },
   "file_extension": ".py",
   "mimetype": "text/x-python",
   "name": "python",
   "nbconvert_exporter": "python",
   "pygments_lexer": "ipython3",
   "version": "3.7.10"
  }
 },
 "nbformat": 4,
 "nbformat_minor": 5
}
