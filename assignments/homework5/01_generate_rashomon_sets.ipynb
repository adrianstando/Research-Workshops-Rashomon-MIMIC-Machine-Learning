{
 "cells": [
  {
   "cell_type": "markdown",
   "metadata": {},
   "source": [
    "# Praca domowa nr 5\n",
    "\n",
    "Budowanie zbioru modeli Rashomon.\n",
    "\n",
    "Modele są zbudowany na podstawie preprocessingu przedstawionego w artykule: https://academic.oup.com/jamiaopen/article/1/1/87/5032901. \n",
    "\n",
    "Kod do artykułu dostępny jest pod linkiem: https://github.com/illidanlab/urgent-care-comparative\n",
    "\n",
    "Zadanie: problem klasyfikacji, predykcja śmiertelności na podstawie przedstawienia danych w postaci *X48* (wg. artykułu powyżej).\n",
    "\n",
    "### Biblioteki"
   ]
  },
  {
   "cell_type": "code",
   "execution_count": 1,
   "metadata": {},
   "outputs": [],
   "source": [
    "import numpy as np\n",
    "import pandas as pd\n",
    "\n",
    "import pickle\n",
    "import os.path\n",
    "\n",
    "import xgboost as xgb\n",
    "\n",
    "from sklearn.model_selection import StratifiedKFold\n",
    "from sklearn.model_selection import RandomizedSearchCV\n",
    "from sklearn.metrics import auc as auc_score\n",
    "from sklearn.utils import shuffle"
   ]
  },
  {
   "cell_type": "markdown",
   "metadata": {},
   "source": [
    "### Załadowanie danych po preprocessingu"
   ]
  },
  {
   "cell_type": "code",
   "execution_count": 2,
   "metadata": {},
   "outputs": [],
   "source": [
    "X = np.load(\"X48.npy\")"
   ]
  },
  {
   "cell_type": "code",
   "execution_count": 3,
   "metadata": {},
   "outputs": [],
   "source": [
    "with open('y', 'rb') as f:\n",
    "    labels = pickle.load(f)\n",
    "    \n",
    "task = [yy[0] for yy in labels]\n",
    "y = np.array(task)"
   ]
  },
  {
   "cell_type": "markdown",
   "metadata": {},
   "source": [
    "### Generowanie próbek do kroswalidacji\n",
    "\n",
    "Przy modelowaniu skorzystamy z pięciokrotnej kroswalidacji - w celu zapewnienia reprodukowalności, indeksy użytych próbek można wczytać z pliku:"
   ]
  },
  {
   "cell_type": "code",
   "execution_count": 4,
   "metadata": {},
   "outputs": [],
   "source": [
    "def get_cv_samples_indexes(X, y):\n",
    "    if os.path.isfile('samples.npy'):\n",
    "        return np.load(\"samples.npy\", allow_pickle = True)\n",
    "    else:\n",
    "        tab = []\n",
    "        skf = StratifiedKFold(n_splits = 5)\n",
    "        \n",
    "        for train_index, test_index in skf.split(X, y):\n",
    "            tab.append((train_index, test_index))\n",
    "            \n",
    "        with open('samples.npy', 'wb') as f:\n",
    "            pickle.dump(tab, f)\n",
    "            \n",
    "        return tab"
   ]
  },
  {
   "cell_type": "code",
   "execution_count": 5,
   "metadata": {},
   "outputs": [],
   "source": [
    "cv_tab = get_cv_samples_indexes(X, y)"
   ]
  },
  {
   "cell_type": "markdown",
   "metadata": {},
   "source": [
    "### Obiekty - model, random search, siatka hiperparametrów"
   ]
  },
  {
   "cell_type": "code",
   "execution_count": 6,
   "metadata": {},
   "outputs": [],
   "source": [
    "model = xgb.XGBClassifier(objective='binary:logistic', n_jobs = -1, eval_metric = 'auc', use_label_encoder = False, seed = 123)"
   ]
  },
  {
   "cell_type": "markdown",
   "metadata": {},
   "source": [
    "Zakres hiperparametrów wzorowany artykułem (tabela 1): https://jmlr.org/papers/volume20/18-444/18-444.pdf\n",
    "\n",
    "Dokumentacja parametrów: https://xgboost.readthedocs.io/en/latest/parameter.html"
   ]
  },
  {
   "cell_type": "code",
   "execution_count": 7,
   "metadata": {},
   "outputs": [],
   "source": [
    "hyperparameters =  {\n",
    "    'learning_rate' : 2 ** np.linspace(-10, 0, num = 100),\n",
    "    'subsample' : np.linspace(0.1, 1, num = 100),\n",
    "    'booster' : ['gbtree', 'dart'],\n",
    "    'max_depth' : list(range(1, 20 + 1)),\n",
    "    'min_child_weight' : 2 ** np.linspace(0, 7, num = 100),\n",
    "    'colsample_bytree' : np.linspace(0.001, 1, num = 100),\n",
    "    'colsample_bylevel' : np.linspace(0.001, 1, num = 100),\n",
    "    'lambda' : 2 ** np.linspace(-10, 10, num = 100),\n",
    "    'alpha' : 2 ** np.linspace(-10, 10, num = 100),\n",
    "    'n_estimators' : list(range(30, 700, 10))\n",
    "}"
   ]
  },
  {
   "cell_type": "code",
   "execution_count": 8,
   "metadata": {},
   "outputs": [],
   "source": [
    "class cross_val_gen:\n",
    "    def __init__(self, cv_tab):\n",
    "        self.n_splits = 5\n",
    "        self.cv_tab = cv_tab\n",
    "\n",
    "    def split(self, X, y, groups=None):\n",
    "        for train_index, test_index in cv_tab:\n",
    "            yield train_index, test_index \n",
    "\n",
    "    def get_n_splits(self, X, y, groups=None):\n",
    "        return self.n_splits"
   ]
  },
  {
   "cell_type": "code",
   "execution_count": 9,
   "metadata": {},
   "outputs": [],
   "source": [
    "number_of_models = 1"
   ]
  },
  {
   "cell_type": "code",
   "execution_count": 10,
   "metadata": {},
   "outputs": [],
   "source": [
    "cv_search_obj = RandomizedSearchCV(estimator = model, param_distributions = hyperparameters, n_iter = number_of_models, \n",
    "                                   scoring = 'roc_auc', cv = cross_val_gen(cv_tab), return_train_score = True)"
   ]
  },
  {
   "cell_type": "markdown",
   "metadata": {},
   "source": [
    "### Modelowanie"
   ]
  },
  {
   "cell_type": "code",
   "execution_count": 11,
   "metadata": {},
   "outputs": [],
   "source": [
    "search = cv_search_obj.fit(X, y)"
   ]
  },
  {
   "cell_type": "markdown",
   "metadata": {},
   "source": [
    "### Ramka danych wynikowych"
   ]
  },
  {
   "cell_type": "code",
   "execution_count": 12,
   "metadata": {},
   "outputs": [],
   "source": [
    "results = pd.DataFrame(search.cv_results_)"
   ]
  },
  {
   "cell_type": "code",
   "execution_count": 13,
   "metadata": {},
   "outputs": [
    {
     "data": {
      "text/plain": [
       "Index(['mean_fit_time', 'std_fit_time', 'mean_score_time', 'std_score_time',\n",
       "       'param_subsample', 'param_n_estimators', 'param_min_child_weight',\n",
       "       'param_max_depth', 'param_learning_rate', 'param_lambda',\n",
       "       'param_colsample_bytree', 'param_colsample_bylevel', 'param_booster',\n",
       "       'param_alpha', 'params', 'split0_test_score', 'split1_test_score',\n",
       "       'split2_test_score', 'split3_test_score', 'split4_test_score',\n",
       "       'mean_test_score', 'std_test_score', 'rank_test_score',\n",
       "       'split0_train_score', 'split1_train_score', 'split2_train_score',\n",
       "       'split3_train_score', 'split4_train_score', 'mean_train_score',\n",
       "       'std_train_score'],\n",
       "      dtype='object')"
      ]
     },
     "execution_count": 13,
     "metadata": {},
     "output_type": "execute_result"
    }
   ],
   "source": [
    "results.columns"
   ]
  },
  {
   "cell_type": "code",
   "execution_count": 14,
   "metadata": {},
   "outputs": [
    {
     "data": {
      "text/html": [
       "<div>\n",
       "<style scoped>\n",
       "    .dataframe tbody tr th:only-of-type {\n",
       "        vertical-align: middle;\n",
       "    }\n",
       "\n",
       "    .dataframe tbody tr th {\n",
       "        vertical-align: top;\n",
       "    }\n",
       "\n",
       "    .dataframe thead th {\n",
       "        text-align: right;\n",
       "    }\n",
       "</style>\n",
       "<table border=\"1\" class=\"dataframe\">\n",
       "  <thead>\n",
       "    <tr style=\"text-align: right;\">\n",
       "      <th></th>\n",
       "      <th>mean_fit_time</th>\n",
       "      <th>std_fit_time</th>\n",
       "      <th>mean_score_time</th>\n",
       "      <th>std_score_time</th>\n",
       "      <th>param_subsample</th>\n",
       "      <th>param_n_estimators</th>\n",
       "      <th>param_min_child_weight</th>\n",
       "      <th>param_max_depth</th>\n",
       "      <th>param_learning_rate</th>\n",
       "      <th>param_lambda</th>\n",
       "      <th>...</th>\n",
       "      <th>mean_test_score</th>\n",
       "      <th>std_test_score</th>\n",
       "      <th>rank_test_score</th>\n",
       "      <th>split0_train_score</th>\n",
       "      <th>split1_train_score</th>\n",
       "      <th>split2_train_score</th>\n",
       "      <th>split3_train_score</th>\n",
       "      <th>split4_train_score</th>\n",
       "      <th>mean_train_score</th>\n",
       "      <th>std_train_score</th>\n",
       "    </tr>\n",
       "  </thead>\n",
       "  <tbody>\n",
       "    <tr>\n",
       "      <th>0</th>\n",
       "      <td>21.128428</td>\n",
       "      <td>1.189855</td>\n",
       "      <td>0.030795</td>\n",
       "      <td>0.001162</td>\n",
       "      <td>0.527273</td>\n",
       "      <td>510</td>\n",
       "      <td>16.3396</td>\n",
       "      <td>14</td>\n",
       "      <td>0.00396133</td>\n",
       "      <td>0.018484</td>\n",
       "      <td>...</td>\n",
       "      <td>0.803544</td>\n",
       "      <td>0.007951</td>\n",
       "      <td>1</td>\n",
       "      <td>0.821616</td>\n",
       "      <td>0.816907</td>\n",
       "      <td>0.821382</td>\n",
       "      <td>0.820388</td>\n",
       "      <td>0.822033</td>\n",
       "      <td>0.820465</td>\n",
       "      <td>0.001859</td>\n",
       "    </tr>\n",
       "  </tbody>\n",
       "</table>\n",
       "<p>1 rows × 30 columns</p>\n",
       "</div>"
      ],
      "text/plain": [
       "   mean_fit_time  std_fit_time  mean_score_time  std_score_time  \\\n",
       "0      21.128428      1.189855         0.030795        0.001162   \n",
       "\n",
       "  param_subsample param_n_estimators param_min_child_weight param_max_depth  \\\n",
       "0        0.527273                510                16.3396              14   \n",
       "\n",
       "  param_learning_rate param_lambda  ... mean_test_score std_test_score  \\\n",
       "0          0.00396133     0.018484  ...        0.803544       0.007951   \n",
       "\n",
       "  rank_test_score split0_train_score split1_train_score  split2_train_score  \\\n",
       "0               1           0.821616           0.816907            0.821382   \n",
       "\n",
       "   split3_train_score  split4_train_score  mean_train_score  std_train_score  \n",
       "0            0.820388            0.822033          0.820465         0.001859  \n",
       "\n",
       "[1 rows x 30 columns]"
      ]
     },
     "execution_count": 14,
     "metadata": {},
     "output_type": "execute_result"
    }
   ],
   "source": [
    "results.head()"
   ]
  },
  {
   "cell_type": "code",
   "execution_count": 15,
   "metadata": {},
   "outputs": [],
   "source": [
    "with open('results.npy', 'wb') as f:\n",
    "    pickle.dump(results, f)"
   ]
  },
  {
   "cell_type": "code",
   "execution_count": 16,
   "metadata": {},
   "outputs": [],
   "source": [
    "results.to_csv(\"results.csv\")"
   ]
  }
 ],
 "metadata": {
  "kernelspec": {
   "display_name": "Python 3",
   "language": "python",
   "name": "python3"
  },
  "language_info": {
   "codemirror_mode": {
    "name": "ipython",
    "version": 3
   },
   "file_extension": ".py",
   "mimetype": "text/x-python",
   "name": "python",
   "nbconvert_exporter": "python",
   "pygments_lexer": "ipython3",
   "version": "3.7.9"
  }
 },
 "nbformat": 4,
 "nbformat_minor": 4
}
