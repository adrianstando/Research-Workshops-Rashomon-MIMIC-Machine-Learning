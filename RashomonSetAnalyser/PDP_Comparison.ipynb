{
 "cells": [
  {
   "cell_type": "code",
   "execution_count": 1,
   "metadata": {},
   "outputs": [],
   "source": [
    "import numpy as np\n",
    "import pandas as pd\n",
    "import seaborn as sns\n",
    "import matplotlib.pyplot as plt\n",
    "import dalex as dx\n",
    "import copy\n",
    "from sklearn import datasets\n",
    "from sklearn.ensemble import RandomForestClassifier\n",
    "from RashomonSetAnalyser import RashomonSetAnalyser\n",
    "import pickle\n",
    "import xgboost as xgb"
   ]
  },
  {
   "cell_type": "code",
   "execution_count": 3,
   "metadata": {},
   "outputs": [],
   "source": [
    "results = np.load('results.npy', allow_pickle=True)\n",
    "results.sort_values(by = 'mean_test_score', inplace = True, ascending = False)\n",
    "results.reset_index(inplace = True)"
   ]
  },
  {
   "cell_type": "code",
   "execution_count": 4,
   "metadata": {},
   "outputs": [],
   "source": [
    "best_model = results.iloc[0].params"
   ]
  },
  {
   "cell_type": "code",
   "execution_count": 5,
   "metadata": {},
   "outputs": [],
   "source": [
    "rashomon = RashomonSetAnalyser()"
   ]
  },
  {
   "cell_type": "code",
   "execution_count": 6,
   "metadata": {},
   "outputs": [],
   "source": [
    "X = np.load(\"X48.npy\")\n",
    "column_names = np.load('column_names.npy', allow_pickle = True)\n",
    "X = pd.DataFrame(data = X, columns = column_names)\n",
    "with open('y.npy', 'rb') as f:\n",
    "    labels = pickle.load(f)\n",
    "    \n",
    "task = [yy[0] for yy in labels]\n",
    "y = np.array(task)\n",
    "def model_learn(X, y, params):\n",
    "    model = xgb.XGBClassifier(objective = 'binary:logistic', n_jobs = -1, eval_metric = 'auc', use_label_encoder = False, seed = 123)\n",
    "    model.set_params(**params)\n",
    "    return model.fit(X, y)"
   ]
  },
  {
   "cell_type": "code",
   "execution_count": 50,
   "metadata": {},
   "outputs": [
    {
     "name": "stdout",
     "output_type": "stream",
     "text": [
      "0\n",
      "1\n",
      "2\n",
      "3\n",
      "4\n",
      "5\n",
      "6\n",
      "7\n",
      "8\n",
      "9\n",
      "10\n",
      "11\n",
      "12\n",
      "13\n",
      "14\n"
     ]
    }
   ],
   "source": [
    "best_models_tab = []\n",
    "for i in range(15):\n",
    "    best_models_tab.append(model_learn(X, y, results.iloc[i].params))\n",
    "    print(i)\n",
    "\n"
   ]
  },
  {
   "cell_type": "code",
   "execution_count": 51,
   "metadata": {},
   "outputs": [],
   "source": [
    "rashomon.set_base_model(best_models_tab[0])\n",
    "rashomon.set_models(best_models_tab[1:])"
   ]
  },
  {
   "cell_type": "code",
   "execution_count": 52,
   "metadata": {},
   "outputs": [
    {
     "data": {
      "text/plain": [
       "[['model0',\n",
       "  XGBClassifier(alpha=12.854579625070118, base_score=0.5, booster='gbtree',\n",
       "                colsample_bylevel=0.7371052631578947, colsample_bynode=1,\n",
       "                colsample_bytree=0.6845263157894736, eval_metric='auc', gamma=0,\n",
       "                gpu_id=-1, importance_type='gain', interaction_constraints='',\n",
       "                lambda=0.07779328684150147, learning_rate=0.07779328684150147,\n",
       "                max_delta_step=0, max_depth=11,\n",
       "                min_child_weight=2.151381172440365, missing=nan,\n",
       "                monotone_constraints='()', n_estimators=180, n_jobs=-1,\n",
       "                num_parallel_tree=1, random_state=123, reg_alpha=12.8545799,\n",
       "                reg_lambda=0.0777932853, scale_pos_weight=1, seed=123,\n",
       "                subsample=0.6684210526315789, tree_method='exact',\n",
       "                use_label_encoder=False, validate_parameters=1, ...)],\n",
       " ['model1',\n",
       "  XGBClassifier(alpha=0.33472602530611795, base_score=0.5, booster='gbtree',\n",
       "                colsample_bylevel=0.5267894736842105, colsample_bynode=1,\n",
       "                colsample_bytree=0.5267894736842105, eval_metric='auc', gamma=0,\n",
       "                gpu_id=-1, importance_type='gain', interaction_constraints='',\n",
       "                lambda=0.6943255713073277, learning_rate=0.05401386833010032,\n",
       "                max_delta_step=0, max_depth=15,\n",
       "                min_child_weight=12.854579625070118, missing=nan,\n",
       "                monotone_constraints='()', n_estimators=730, n_jobs=-1,\n",
       "                num_parallel_tree=1, random_state=123, reg_alpha=0.334726036,\n",
       "                reg_lambda=0.694325566, scale_pos_weight=1, seed=123,\n",
       "                subsample=0.8578947368421053, tree_method='exact',\n",
       "                use_label_encoder=False, validate_parameters=1, ...)],\n",
       " ['model2',\n",
       "  XGBClassifier(alpha=0.03750320998681571, base_score=0.5, booster='gbtree',\n",
       "                colsample_bylevel=0.5267894736842105, colsample_bynode=1,\n",
       "                colsample_bytree=0.2113157894736842, eval_metric='auc', gamma=0,\n",
       "                gpu_id=-1, importance_type='gain', interaction_constraints='',\n",
       "                lambda=0.6943255713073277, learning_rate=0.03750320998681571,\n",
       "                max_delta_step=0, max_depth=13,\n",
       "                min_child_weight=5.975035846617943, missing=nan,\n",
       "                monotone_constraints='()', n_estimators=680, n_jobs=-1,\n",
       "                num_parallel_tree=1, random_state=123, reg_alpha=0.037503209,\n",
       "                reg_lambda=0.694325566, scale_pos_weight=1, seed=123,\n",
       "                subsample=0.38421052631578945, tree_method='exact',\n",
       "                use_label_encoder=False, validate_parameters=1, ...)],\n",
       " ['model3',\n",
       "  XGBClassifier(alpha=0.03750320998681571, base_score=0.5, booster='dart',\n",
       "                colsample_bylevel=0.15873684210526315, colsample_bynode=1,\n",
       "                colsample_bytree=0.4216315789473684, eval_metric='auc', gamma=0,\n",
       "                gpu_id=-1, importance_type='gain', interaction_constraints='',\n",
       "                lambda=0.1613673997434256, learning_rate=0.03750320998681571,\n",
       "                max_delta_step=0, max_depth=4, min_child_weight=9.957540715712184,\n",
       "                missing=nan, monotone_constraints='()', n_estimators=480,\n",
       "                n_jobs=-1, num_parallel_tree=1, random_state=123,\n",
       "                reg_alpha=0.037503209, reg_lambda=0.161367401, scale_pos_weight=1,\n",
       "                seed=123, subsample=0.5736842105263158, tree_method='exact',\n",
       "                use_label_encoder=False, validate_parameters=1, ...)],\n",
       " ['model4',\n",
       "  XGBClassifier(alpha=0.6943255713073277, base_score=0.5, booster='gbtree',\n",
       "                colsample_bylevel=1.0, colsample_bynode=1,\n",
       "                colsample_bytree=0.7896842105263158, eval_metric='auc', gamma=0,\n",
       "                gpu_id=-1, importance_type='gain', interaction_constraints='',\n",
       "                lambda=0.0009765625, learning_rate=0.03750320998681571,\n",
       "                max_delta_step=0, max_depth=7, min_child_weight=59.49666272053799,\n",
       "                missing=nan, monotone_constraints='()', n_estimators=280,\n",
       "                n_jobs=-1, num_parallel_tree=1, random_state=123,\n",
       "                reg_alpha=0.694325566, reg_lambda=0.0009765625,\n",
       "                scale_pos_weight=1, seed=123, subsample=1.0, tree_method='exact',\n",
       "                use_label_encoder=False, validate_parameters=1, ...)],\n",
       " ['model5',\n",
       "  XGBClassifier(alpha=0.00871607748251206, base_score=0.5, booster='dart',\n",
       "                colsample_bylevel=0.2113157894736842, colsample_bynode=1,\n",
       "                colsample_bytree=0.4216315789473684, eval_metric='auc', gamma=0,\n",
       "                gpu_id=-1, importance_type='gain', interaction_constraints='',\n",
       "                lambda=0.1613673997434256, learning_rate=0.00871607748251206,\n",
       "                max_delta_step=0, max_depth=12,\n",
       "                min_child_weight=16.59448071113907, missing=nan,\n",
       "                monotone_constraints='()', n_estimators=530, n_jobs=-1,\n",
       "                num_parallel_tree=1, random_state=123, reg_alpha=0.00871607754,\n",
       "                reg_lambda=0.161367401, scale_pos_weight=1, seed=123,\n",
       "                subsample=1.0, tree_method='exact', use_label_encoder=False,\n",
       "                validate_parameters=1, ...)],\n",
       " ['model6',\n",
       "  XGBClassifier(alpha=0.33472602530611795, base_score=0.5, booster='dart',\n",
       "                colsample_bylevel=0.3164736842105263, colsample_bynode=1,\n",
       "                colsample_bytree=0.8948421052631579, eval_metric='auc', gamma=0,\n",
       "                gpu_id=-1, importance_type='gain', interaction_constraints='',\n",
       "                lambda=237.9866508821521, learning_rate=0.23240883875210153,\n",
       "                max_delta_step=0, max_depth=12,\n",
       "                min_child_weight=12.854579625070118, missing=nan,\n",
       "                monotone_constraints='()', n_estimators=430, n_jobs=-1,\n",
       "                num_parallel_tree=1, random_state=123, reg_alpha=0.334726036,\n",
       "                reg_lambda=237.986649, scale_pos_weight=1, seed=123,\n",
       "                subsample=0.33684210526315794, tree_method='exact',\n",
       "                use_label_encoder=False, validate_parameters=1, ...)],\n",
       " ['model7',\n",
       "  XGBClassifier(alpha=12.854579625070118, base_score=0.5, booster='dart',\n",
       "                colsample_bylevel=1.0, colsample_bynode=1,\n",
       "                colsample_bytree=0.1061578947368421, eval_metric='auc', gamma=0,\n",
       "                gpu_id=-1, importance_type='gain', interaction_constraints='',\n",
       "                lambda=0.018079847457542493, learning_rate=0.07779328684150147,\n",
       "                max_delta_step=0, max_depth=9, min_child_weight=9.957540715712184,\n",
       "                missing=nan, monotone_constraints='()', n_estimators=580,\n",
       "                n_jobs=-1, num_parallel_tree=1, random_state=123,\n",
       "                reg_alpha=12.8545799, reg_lambda=0.0180798471, scale_pos_weight=1,\n",
       "                seed=123, subsample=0.43157894736842106, tree_method='exact',\n",
       "                use_label_encoder=False, validate_parameters=1, ...)],\n",
       " ['model8',\n",
       "  XGBClassifier(alpha=0.00871607748251206, base_score=0.5, booster='dart',\n",
       "                colsample_bylevel=0.15873684210526315, colsample_bynode=1,\n",
       "                colsample_bytree=0.26389473684210524, eval_metric='auc', gamma=0,\n",
       "                gpu_id=-1, importance_type='gain', interaction_constraints='',\n",
       "                lambda=12.854579625070118, learning_rate=0.05401386833010032,\n",
       "                max_delta_step=0, max_depth=4,\n",
       "                min_child_weight=27.655100585011365, missing=nan,\n",
       "                monotone_constraints='()', n_estimators=380, n_jobs=-1,\n",
       "                num_parallel_tree=1, random_state=123, reg_alpha=0.00871607754,\n",
       "                reg_lambda=12.8545799, scale_pos_weight=1, seed=123,\n",
       "                subsample=0.8578947368421053, tree_method='exact',\n",
       "                use_label_encoder=False, validate_parameters=1, ...)],\n",
       " ['model9',\n",
       "  XGBClassifier(alpha=6.197038569066624, base_score=0.5, booster='gbtree',\n",
       "                colsample_bylevel=0.8422631578947368, colsample_bynode=1,\n",
       "                colsample_bytree=0.3164736842105263, eval_metric='auc', gamma=0,\n",
       "                gpu_id=-1, importance_type='gain', interaction_constraints='',\n",
       "                lambda=0.6943255713073277, learning_rate=0.05401386833010032,\n",
       "                max_delta_step=0, max_depth=14, min_child_weight=128.0,\n",
       "                missing=nan, monotone_constraints='()', n_estimators=330,\n",
       "                n_jobs=-1, num_parallel_tree=1, random_state=123,\n",
       "                reg_alpha=6.19703865, reg_lambda=0.694325566, scale_pos_weight=1,\n",
       "                seed=123, subsample=0.9052631578947369, tree_method='exact',\n",
       "                use_label_encoder=False, validate_parameters=1, ...)],\n",
       " ['model10',\n",
       "  XGBClassifier(alpha=0.0009765625, base_score=0.5, booster='gbtree',\n",
       "                colsample_bylevel=0.9474210526315789, colsample_bynode=1,\n",
       "                colsample_bytree=0.26389473684210524, eval_metric='auc', gamma=0,\n",
       "                gpu_id=-1, importance_type='gain', interaction_constraints='',\n",
       "                lambda=493.658110946557, learning_rate=0.03750320998681571,\n",
       "                max_delta_step=0, max_depth=12,\n",
       "                min_child_weight=46.08788920124029, missing=nan,\n",
       "                monotone_constraints='()', n_estimators=330, n_jobs=-1,\n",
       "                num_parallel_tree=1, random_state=123, reg_alpha=0.0009765625,\n",
       "                reg_lambda=493.658112, scale_pos_weight=1, seed=123,\n",
       "                subsample=0.43157894736842106, tree_method='exact',\n",
       "                use_label_encoder=False, validate_parameters=1, ...)],\n",
       " ['model11',\n",
       "  XGBClassifier(alpha=55.31020117002273, base_score=0.5, booster='gbtree',\n",
       "                colsample_bylevel=1.0, colsample_bynode=1,\n",
       "                colsample_bytree=0.6845263157894736, eval_metric='auc', gamma=0,\n",
       "                gpu_id=-1, importance_type='gain', interaction_constraints='',\n",
       "                lambda=2.987517923308969, learning_rate=0.03750320998681571,\n",
       "                max_delta_step=0, max_depth=9, min_child_weight=76.80657405299857,\n",
       "                missing=nan, monotone_constraints='()', n_estimators=330,\n",
       "                n_jobs=-1, num_parallel_tree=1, random_state=123,\n",
       "                reg_alpha=55.3101997, reg_lambda=2.98751783, scale_pos_weight=1,\n",
       "                seed=123, subsample=0.5736842105263158, tree_method='exact',\n",
       "                use_label_encoder=False, validate_parameters=1, ...)],\n",
       " ['model12',\n",
       "  XGBClassifier(alpha=26.664384204753418, base_score=0.5, booster='gbtree',\n",
       "                colsample_bylevel=0.1061578947368421, colsample_bynode=1,\n",
       "                colsample_bytree=0.3164736842105263, eval_metric='auc', gamma=0,\n",
       "                gpu_id=-1, importance_type='gain', interaction_constraints='',\n",
       "                lambda=114.73050830564547, learning_rate=0.23240883875210153,\n",
       "                max_delta_step=0, max_depth=15, min_child_weight=1.0, missing=nan,\n",
       "                monotone_constraints='()', n_estimators=380, n_jobs=-1,\n",
       "                num_parallel_tree=1, random_state=123, reg_alpha=26.6643848,\n",
       "                reg_lambda=114.730507, scale_pos_weight=1, seed=123,\n",
       "                subsample=0.9052631578947369, tree_method='exact',\n",
       "                use_label_encoder=False, validate_parameters=1, ...)],\n",
       " ['model13',\n",
       "  XGBClassifier(alpha=12.854579625070118, base_score=0.5, booster='gbtree',\n",
       "                colsample_bylevel=0.7896842105263158, colsample_bynode=1,\n",
       "                colsample_bytree=0.15873684210526315, eval_metric='auc', gamma=0,\n",
       "                gpu_id=-1, importance_type='gain', interaction_constraints='',\n",
       "                lambda=0.6943255713073277, learning_rate=0.11204151201723198,\n",
       "                max_delta_step=0, max_depth=5, min_child_weight=99.15261710506591,\n",
       "                missing=nan, monotone_constraints='()', n_estimators=680,\n",
       "                n_jobs=-1, num_parallel_tree=1, random_state=123,\n",
       "                reg_alpha=12.8545799, reg_lambda=0.694325566, scale_pos_weight=1,\n",
       "                seed=123, subsample=0.6210526315789474, tree_method='exact',\n",
       "                use_label_encoder=False, validate_parameters=1, ...)]]"
      ]
     },
     "execution_count": 52,
     "metadata": {},
     "output_type": "execute_result"
    }
   ],
   "source": [
    "rashomon.models"
   ]
  },
  {
   "cell_type": "code",
   "execution_count": 53,
   "metadata": {},
   "outputs": [
    {
     "name": "stderr",
     "output_type": "stream",
     "text": [
      "C:\\Users\\Maciek\\anaconda3\\lib\\site-packages\\xgboost\\data.py:112: UserWarning: Use subset (sliced data) of np.ndarray is not recommended because it will generate extra copies and increase memory consumption\n",
      "  warnings.warn(\n"
     ]
    },
    {
     "data": {
      "text/html": [
       "<div>\n",
       "<style scoped>\n",
       "    .dataframe tbody tr th:only-of-type {\n",
       "        vertical-align: middle;\n",
       "    }\n",
       "\n",
       "    .dataframe tbody tr th {\n",
       "        vertical-align: top;\n",
       "    }\n",
       "\n",
       "    .dataframe thead th {\n",
       "        text-align: right;\n",
       "    }\n",
       "</style>\n",
       "<table border=\"1\" class=\"dataframe\">\n",
       "  <thead>\n",
       "    <tr style=\"text-align: right;\">\n",
       "      <th></th>\n",
       "      <th>colname</th>\n",
       "      <th>model0</th>\n",
       "      <th>model1</th>\n",
       "      <th>model2</th>\n",
       "      <th>model3</th>\n",
       "      <th>model4</th>\n",
       "      <th>model5</th>\n",
       "      <th>model6</th>\n",
       "      <th>model7</th>\n",
       "      <th>model8</th>\n",
       "      <th>model9</th>\n",
       "      <th>model10</th>\n",
       "      <th>model11</th>\n",
       "      <th>model12</th>\n",
       "      <th>model13</th>\n",
       "    </tr>\n",
       "  </thead>\n",
       "  <tbody>\n",
       "    <tr>\n",
       "      <th>0</th>\n",
       "      <td>albumin_min</td>\n",
       "      <td>0.582661</td>\n",
       "      <td>0.796533</td>\n",
       "      <td>0.864516</td>\n",
       "      <td>0.336867</td>\n",
       "      <td>0.499094</td>\n",
       "      <td>0.117758</td>\n",
       "      <td>0.731000</td>\n",
       "      <td>0.256746</td>\n",
       "      <td>0.341788</td>\n",
       "      <td>0.081415</td>\n",
       "      <td>0.258333</td>\n",
       "      <td>0.040181</td>\n",
       "      <td>0.578703</td>\n",
       "      <td>0.622774</td>\n",
       "    </tr>\n",
       "    <tr>\n",
       "      <th>1</th>\n",
       "      <td>bicarbonate_min</td>\n",
       "      <td>0.328848</td>\n",
       "      <td>0.633176</td>\n",
       "      <td>0.437815</td>\n",
       "      <td>0.120017</td>\n",
       "      <td>0.642066</td>\n",
       "      <td>0.062468</td>\n",
       "      <td>0.946306</td>\n",
       "      <td>0.308380</td>\n",
       "      <td>0.568181</td>\n",
       "      <td>0.275124</td>\n",
       "      <td>0.112974</td>\n",
       "      <td>0.376505</td>\n",
       "      <td>0.479735</td>\n",
       "      <td>0.541198</td>\n",
       "    </tr>\n",
       "    <tr>\n",
       "      <th>2</th>\n",
       "      <td>bun_min</td>\n",
       "      <td>0.503532</td>\n",
       "      <td>0.254012</td>\n",
       "      <td>0.612883</td>\n",
       "      <td>0.096395</td>\n",
       "      <td>0.319882</td>\n",
       "      <td>0.065339</td>\n",
       "      <td>0.821360</td>\n",
       "      <td>0.075864</td>\n",
       "      <td>0.365474</td>\n",
       "      <td>0.143612</td>\n",
       "      <td>0.329986</td>\n",
       "      <td>0.014278</td>\n",
       "      <td>0.423045</td>\n",
       "      <td>0.303613</td>\n",
       "    </tr>\n",
       "    <tr>\n",
       "      <th>3</th>\n",
       "      <td>calcium_min</td>\n",
       "      <td>0.849205</td>\n",
       "      <td>1.614087</td>\n",
       "      <td>1.407563</td>\n",
       "      <td>0.477241</td>\n",
       "      <td>0.910188</td>\n",
       "      <td>0.562231</td>\n",
       "      <td>1.214159</td>\n",
       "      <td>0.706733</td>\n",
       "      <td>0.719664</td>\n",
       "      <td>0.567091</td>\n",
       "      <td>0.539165</td>\n",
       "      <td>0.623489</td>\n",
       "      <td>0.516214</td>\n",
       "      <td>0.712660</td>\n",
       "    </tr>\n",
       "    <tr>\n",
       "      <th>4</th>\n",
       "      <td>creatinine_min</td>\n",
       "      <td>0.550921</td>\n",
       "      <td>1.692719</td>\n",
       "      <td>1.224062</td>\n",
       "      <td>0.751788</td>\n",
       "      <td>0.404386</td>\n",
       "      <td>0.517922</td>\n",
       "      <td>0.423320</td>\n",
       "      <td>0.715664</td>\n",
       "      <td>0.616346</td>\n",
       "      <td>0.368104</td>\n",
       "      <td>0.203487</td>\n",
       "      <td>0.152660</td>\n",
       "      <td>0.754463</td>\n",
       "      <td>0.365288</td>\n",
       "    </tr>\n",
       "    <tr>\n",
       "      <th>...</th>\n",
       "      <td>...</td>\n",
       "      <td>...</td>\n",
       "      <td>...</td>\n",
       "      <td>...</td>\n",
       "      <td>...</td>\n",
       "      <td>...</td>\n",
       "      <td>...</td>\n",
       "      <td>...</td>\n",
       "      <td>...</td>\n",
       "      <td>...</td>\n",
       "      <td>...</td>\n",
       "      <td>...</td>\n",
       "      <td>...</td>\n",
       "      <td>...</td>\n",
       "      <td>...</td>\n",
       "    </tr>\n",
       "    <tr>\n",
       "      <th>71</th>\n",
       "      <td>resprate_std</td>\n",
       "      <td>0.495250</td>\n",
       "      <td>0.449849</td>\n",
       "      <td>0.370965</td>\n",
       "      <td>0.254882</td>\n",
       "      <td>0.578356</td>\n",
       "      <td>0.075298</td>\n",
       "      <td>1.034294</td>\n",
       "      <td>0.279796</td>\n",
       "      <td>0.556841</td>\n",
       "      <td>0.238229</td>\n",
       "      <td>0.237108</td>\n",
       "      <td>0.056714</td>\n",
       "      <td>0.654754</td>\n",
       "      <td>0.348569</td>\n",
       "    </tr>\n",
       "    <tr>\n",
       "      <th>72</th>\n",
       "      <td>sodium_std</td>\n",
       "      <td>0.433129</td>\n",
       "      <td>0.389927</td>\n",
       "      <td>0.527829</td>\n",
       "      <td>0.116635</td>\n",
       "      <td>0.411713</td>\n",
       "      <td>0.147593</td>\n",
       "      <td>0.310914</td>\n",
       "      <td>0.150457</td>\n",
       "      <td>0.188260</td>\n",
       "      <td>0.154249</td>\n",
       "      <td>0.189971</td>\n",
       "      <td>0.164741</td>\n",
       "      <td>0.335441</td>\n",
       "      <td>0.524502</td>\n",
       "    </tr>\n",
       "    <tr>\n",
       "      <th>73</th>\n",
       "      <td>spo2_std</td>\n",
       "      <td>0.687846</td>\n",
       "      <td>1.895705</td>\n",
       "      <td>1.871879</td>\n",
       "      <td>0.783161</td>\n",
       "      <td>1.197313</td>\n",
       "      <td>1.288569</td>\n",
       "      <td>0.938732</td>\n",
       "      <td>1.518625</td>\n",
       "      <td>1.138716</td>\n",
       "      <td>1.736299</td>\n",
       "      <td>1.054267</td>\n",
       "      <td>1.216517</td>\n",
       "      <td>1.347972</td>\n",
       "      <td>1.870379</td>\n",
       "    </tr>\n",
       "    <tr>\n",
       "      <th>74</th>\n",
       "      <td>sysbp_std</td>\n",
       "      <td>0.758506</td>\n",
       "      <td>2.210461</td>\n",
       "      <td>1.801867</td>\n",
       "      <td>0.839715</td>\n",
       "      <td>1.352640</td>\n",
       "      <td>1.287896</td>\n",
       "      <td>1.303403</td>\n",
       "      <td>1.192008</td>\n",
       "      <td>1.343600</td>\n",
       "      <td>1.218103</td>\n",
       "      <td>0.942108</td>\n",
       "      <td>1.123683</td>\n",
       "      <td>0.313809</td>\n",
       "      <td>1.353340</td>\n",
       "    </tr>\n",
       "    <tr>\n",
       "      <th>75</th>\n",
       "      <td>tempc_std</td>\n",
       "      <td>1.507040</td>\n",
       "      <td>1.654581</td>\n",
       "      <td>1.436737</td>\n",
       "      <td>1.429297</td>\n",
       "      <td>1.905353</td>\n",
       "      <td>1.100528</td>\n",
       "      <td>1.891176</td>\n",
       "      <td>1.254591</td>\n",
       "      <td>1.558511</td>\n",
       "      <td>1.392713</td>\n",
       "      <td>0.743904</td>\n",
       "      <td>1.717035</td>\n",
       "      <td>0.448383</td>\n",
       "      <td>1.304160</td>\n",
       "    </tr>\n",
       "  </tbody>\n",
       "</table>\n",
       "<p>76 rows × 15 columns</p>\n",
       "</div>"
      ],
      "text/plain": [
       "            colname    model0    model1    model2    model3    model4  \\\n",
       "0       albumin_min  0.582661  0.796533  0.864516  0.336867  0.499094   \n",
       "1   bicarbonate_min  0.328848  0.633176  0.437815  0.120017  0.642066   \n",
       "2           bun_min  0.503532  0.254012  0.612883  0.096395  0.319882   \n",
       "3       calcium_min  0.849205  1.614087  1.407563  0.477241  0.910188   \n",
       "4    creatinine_min  0.550921  1.692719  1.224062  0.751788  0.404386   \n",
       "..              ...       ...       ...       ...       ...       ...   \n",
       "71     resprate_std  0.495250  0.449849  0.370965  0.254882  0.578356   \n",
       "72       sodium_std  0.433129  0.389927  0.527829  0.116635  0.411713   \n",
       "73         spo2_std  0.687846  1.895705  1.871879  0.783161  1.197313   \n",
       "74        sysbp_std  0.758506  2.210461  1.801867  0.839715  1.352640   \n",
       "75        tempc_std  1.507040  1.654581  1.436737  1.429297  1.905353   \n",
       "\n",
       "      model5    model6    model7    model8    model9   model10   model11  \\\n",
       "0   0.117758  0.731000  0.256746  0.341788  0.081415  0.258333  0.040181   \n",
       "1   0.062468  0.946306  0.308380  0.568181  0.275124  0.112974  0.376505   \n",
       "2   0.065339  0.821360  0.075864  0.365474  0.143612  0.329986  0.014278   \n",
       "3   0.562231  1.214159  0.706733  0.719664  0.567091  0.539165  0.623489   \n",
       "4   0.517922  0.423320  0.715664  0.616346  0.368104  0.203487  0.152660   \n",
       "..       ...       ...       ...       ...       ...       ...       ...   \n",
       "71  0.075298  1.034294  0.279796  0.556841  0.238229  0.237108  0.056714   \n",
       "72  0.147593  0.310914  0.150457  0.188260  0.154249  0.189971  0.164741   \n",
       "73  1.288569  0.938732  1.518625  1.138716  1.736299  1.054267  1.216517   \n",
       "74  1.287896  1.303403  1.192008  1.343600  1.218103  0.942108  1.123683   \n",
       "75  1.100528  1.891176  1.254591  1.558511  1.392713  0.743904  1.717035   \n",
       "\n",
       "     model12   model13  \n",
       "0   0.578703  0.622774  \n",
       "1   0.479735  0.541198  \n",
       "2   0.423045  0.303613  \n",
       "3   0.516214  0.712660  \n",
       "4   0.754463  0.365288  \n",
       "..       ...       ...  \n",
       "71  0.654754  0.348569  \n",
       "72  0.335441  0.524502  \n",
       "73  1.347972  1.870379  \n",
       "74  0.313809  1.353340  \n",
       "75  0.448383  1.304160  \n",
       "\n",
       "[76 rows x 15 columns]"
      ]
     },
     "execution_count": 53,
     "metadata": {},
     "output_type": "execute_result"
    }
   ],
   "source": [
    "answer=rashomon.pdp_comparator(X, y)\n",
    "answer"
   ]
  },
  {
   "cell_type": "code",
   "execution_count": 78,
   "metadata": {},
   "outputs": [
    {
     "name": "stderr",
     "output_type": "stream",
     "text": [
      "<ipython-input-78-82707dbc9015>:6: UserWarning: FixedFormatter should only be used together with FixedLocator\n",
      "  ax.set_xticklabels(labels)\n"
     ]
    },
    {
     "data": {
      "image/png": "[encoded data removed]",
      "text/plain": [
       "<Figure size 432x288 with 1 Axes>"
      ]
     },
     "metadata": {
      "needs_background": "light"
     },
     "output_type": "display_data"
    },
    {
     "data": {
      "image/png": "[encoded data removed]",
      "text/plain": [
       "<Figure size 432x288 with 1 Axes>"
      ]
     },
     "metadata": {
      "needs_background": "light"
     },
     "output_type": "display_data"
    },
    {
     "data": {
      "image/png": "[encoded data removed]",
      "text/plain": [
       "<Figure size 432x288 with 1 Axes>"
      ]
     },
     "metadata": {
      "needs_background": "light"
     },
     "output_type": "display_data"
    },
    {
     "data": {
      "image/png": "[encoded data removed]",
      "text/plain": [
       "<Figure size 432x288 with 1 Axes>"
      ]
     },
     "metadata": {
      "needs_background": "light"
     },
     "output_type": "display_data"
    },
    {
     "data": {
      "image/png": "[encoded data removed]",
      "text/plain": [
       "<Figure size 432x288 with 1 Axes>"
      ]
     },
     "metadata": {
      "needs_background": "light"
     },
     "output_type": "display_data"
    },
    {
     "data": {
      "image/png": "[encoded data removed]",
      "text/plain": [
       "<Figure size 432x288 with 1 Axes>"
      ]
     },
     "metadata": {
      "needs_background": "light"
     },
     "output_type": "display_data"
    },
    {
     "data": {
      "image/png": "[encoded data removed]",
      "text/plain": [
       "<Figure size 432x288 with 1 Axes>"
      ]
     },
     "metadata": {
      "needs_background": "light"
     },
     "output_type": "display_data"
    },
    {
     "data": {
      "image/png": "[encoded data removed]",
      "text/plain": [
       "<Figure size 432x288 with 1 Axes>"
      ]
     },
     "metadata": {
      "needs_background": "light"
     },
     "output_type": "display_data"
    },
    {
     "data": {
      "image/png": "[encoded data removed]",
      "text/plain": [
       "<Figure size 432x288 with 1 Axes>"
      ]
     },
     "metadata": {
      "needs_background": "light"
     },
     "output_type": "display_data"
    },
    {
     "data": {
      "image/png": "[encoded data removed]",
      "text/plain": [
       "<Figure size 432x288 with 1 Axes>"
      ]
     },
     "metadata": {
      "needs_background": "light"
     },
     "output_type": "display_data"
    },
    {
     "data": {
      "image/png": "[encoded data removed]",
      "text/plain": [
       "<Figure size 432x288 with 1 Axes>"
      ]
     },
     "metadata": {
      "needs_background": "light"
     },
     "output_type": "display_data"
    },
    {
     "data": {
      "image/png": "[encoded data removed]",
      "text/plain": [
       "<Figure size 432x288 with 1 Axes>"
      ]
     },
     "metadata": {
      "needs_background": "light"
     },
     "output_type": "display_data"
    },
    {
     "data": {
      "image/png": "[encoded data removed]",
      "text/plain": [
       "<Figure size 432x288 with 1 Axes>"
      ]
     },
     "metadata": {
      "needs_background": "light"
     },
     "output_type": "display_data"
    },
    {
     "data": {
      "image/png": "[encoded data removed]",
      "text/plain": [
       "<Figure size 432x288 with 1 Axes>"
      ]
     },
     "metadata": {
      "needs_background": "light"
     },
     "output_type": "display_data"
    }
   ],
   "source": [
    "labels=[\" \"]*answer.shape[0]\n",
    "for i in range(answer.shape[1]-1):\n",
    "    fig, ax = plt.subplots()\n",
    "    plt.bar(x=answer.iloc[:,0],height=answer.iloc[:,1+i])\n",
    "    ax.set_title(answer.columns[i+1])\n",
    "    ax.set_xticklabels(labels)\n",
    "    plt.show()\n"
   ]
  },
  {
   "cell_type": "code",
   "execution_count": 55,
   "metadata": {},
   "outputs": [
    {
     "data": {
      "text/plain": [
       "57    2.849296\n",
       "75    1.507040\n",
       "60    1.411811\n",
       "54    1.384505\n",
       "65    1.360559\n",
       "        ...   \n",
       "21    0.386318\n",
       "1     0.328848\n",
       "13    0.326996\n",
       "36    0.313799\n",
       "27    0.174672\n",
       "Name: model0, Length: 76, dtype: float64"
      ]
     },
     "execution_count": 55,
     "metadata": {},
     "output_type": "execute_result"
    }
   ],
   "source": [
    "answer.iloc[:,1].sort_values(ascending=False)"
   ]
  },
  {
   "cell_type": "code",
   "execution_count": 56,
   "metadata": {},
   "outputs": [
    {
     "data": {
      "text/plain": [
       "57    4.899044\n",
       "60    2.622280\n",
       "64    2.323051\n",
       "74    2.210461\n",
       "62    2.111978\n",
       "        ...   \n",
       "24    0.468468\n",
       "71    0.449849\n",
       "72    0.389927\n",
       "11    0.348408\n",
       "2     0.254012\n",
       "Name: model1, Length: 76, dtype: float64"
      ]
     },
     "execution_count": 56,
     "metadata": {},
     "output_type": "execute_result"
    }
   ],
   "source": [
    "answer.iloc[:,2].sort_values(ascending=False)"
   ]
  },
  {
   "cell_type": "code",
   "execution_count": 57,
   "metadata": {},
   "outputs": [
    {
     "data": {
      "text/plain": [
       "57    4.145710\n",
       "60    2.184895\n",
       "54    1.934111\n",
       "65    1.879066\n",
       "51    1.872723\n",
       "        ...   \n",
       "52    0.450073\n",
       "1     0.437815\n",
       "71    0.370965\n",
       "24    0.304323\n",
       "11    0.282079\n",
       "Name: model2, Length: 76, dtype: float64"
      ]
     },
     "execution_count": 57,
     "metadata": {},
     "output_type": "execute_result"
    }
   ],
   "source": [
    "answer.iloc[:,3].sort_values(ascending=False)"
   ]
  },
  {
   "cell_type": "code",
   "execution_count": 58,
   "metadata": {},
   "outputs": [
    {
     "data": {
      "text/plain": [
       "57    2.766379\n",
       "75    1.429297\n",
       "60    1.197599\n",
       "18    1.178581\n",
       "41    1.106359\n",
       "        ...   \n",
       "13    0.114868\n",
       "15    0.113277\n",
       "63    0.101588\n",
       "2     0.096395\n",
       "32    0.083579\n",
       "Name: model3, Length: 76, dtype: float64"
      ]
     },
     "execution_count": 58,
     "metadata": {},
     "output_type": "execute_result"
    }
   ],
   "source": [
    "answer.iloc[:,4].sort_values(ascending=False)"
   ]
  },
  {
   "cell_type": "code",
   "execution_count": 59,
   "metadata": {},
   "outputs": [
    {
     "data": {
      "text/plain": [
       "'albumin_std'"
      ]
     },
     "execution_count": 59,
     "metadata": {},
     "output_type": "execute_result"
    }
   ],
   "source": [
    "answer.iloc[:,0][57]"
   ]
  },
  {
   "cell_type": "code",
   "execution_count": 60,
   "metadata": {},
   "outputs": [
    {
     "data": {
      "text/plain": [
       "'calcium_std'"
      ]
     },
     "execution_count": 60,
     "metadata": {},
     "output_type": "execute_result"
    }
   ],
   "source": [
    "answer.iloc[:,0][60]"
   ]
  },
  {
   "cell_type": "code",
   "execution_count": 83,
   "metadata": {},
   "outputs": [
    {
     "name": "stdout",
     "output_type": "stream",
     "text": [
      "55.101437985897064\n",
      "84.94526234269142\n",
      "76.55417367815971\n",
      "37.52999607473612\n",
      "62.53120228648186\n",
      "36.18580285459757\n",
      "70.06240603327751\n",
      "45.39303082972765\n",
      "49.3235724568367\n",
      "45.93833042681217\n",
      "37.52765616774559\n",
      "40.31266997754574\n",
      "54.02648577094078\n",
      "64.14790754020214\n"
     ]
    },
    {
     "data": {
      "text/plain": [
       "<BarContainer object of 14 artists>"
      ]
     },
     "execution_count": 83,
     "metadata": {},
     "output_type": "execute_result"
    },
    {
     "data": {
      "image/png": "[encoded data removed]",
      "text/plain": [
       "<Figure size 1008x756 with 1 Axes>"
      ]
     },
     "metadata": {
      "needs_background": "light"
     },
     "output_type": "display_data"
    }
   ],
   "source": [
    "sums=[]\n",
    "names=[]\n",
    "for i in range(answer.shape[1]-1):\n",
    "    print(sum(answer.iloc[:,i+1]))\n",
    "    sums.append(sum(answer.iloc[:,1+i]))\n",
    "    names.append(\"model\"+str(i))\n",
    "fig, ax = plt.subplots()\n",
    "fig.set_size_inches(answer.shape[1]-1, 10.5)\n",
    "plt.bar(height=sums,x=names)"
   ]
  },
  {
   "cell_type": "code",
   "execution_count": 62,
   "metadata": {},
   "outputs": [
    {
     "name": "stderr",
     "output_type": "stream",
     "text": [
      "C:\\Users\\Maciek\\anaconda3\\lib\\site-packages\\xgboost\\data.py:112: UserWarning: Use subset (sliced data) of np.ndarray is not recommended because it will generate extra copies and increase memory consumption\n",
      "  warnings.warn(\n"
     ]
    },
    {
     "data": {
      "text/html": [
       "<div>\n",
       "<style scoped>\n",
       "    .dataframe tbody tr th:only-of-type {\n",
       "        vertical-align: middle;\n",
       "    }\n",
       "\n",
       "    .dataframe tbody tr th {\n",
       "        vertical-align: top;\n",
       "    }\n",
       "\n",
       "    .dataframe thead th {\n",
       "        text-align: right;\n",
       "    }\n",
       "</style>\n",
       "<table border=\"1\" class=\"dataframe\">\n",
       "  <thead>\n",
       "    <tr style=\"text-align: right;\">\n",
       "      <th></th>\n",
       "      <th>colname</th>\n",
       "      <th>model0</th>\n",
       "      <th>model1</th>\n",
       "      <th>model2</th>\n",
       "      <th>model3</th>\n",
       "      <th>model4</th>\n",
       "      <th>model5</th>\n",
       "      <th>model6</th>\n",
       "      <th>model7</th>\n",
       "      <th>model8</th>\n",
       "      <th>model9</th>\n",
       "      <th>model10</th>\n",
       "      <th>model11</th>\n",
       "      <th>model12</th>\n",
       "      <th>model13</th>\n",
       "    </tr>\n",
       "  </thead>\n",
       "  <tbody>\n",
       "    <tr>\n",
       "      <th>0</th>\n",
       "      <td>albumin_min</td>\n",
       "      <td>0.582661</td>\n",
       "      <td>0.796533</td>\n",
       "      <td>0.864516</td>\n",
       "      <td>0.332777</td>\n",
       "      <td>0.499094</td>\n",
       "      <td>-0.105935</td>\n",
       "      <td>0.731000</td>\n",
       "      <td>0.249020</td>\n",
       "      <td>0.341246</td>\n",
       "      <td>0.065153</td>\n",
       "      <td>-0.258333</td>\n",
       "      <td>-0.010713</td>\n",
       "      <td>0.572555</td>\n",
       "      <td>0.616376</td>\n",
       "    </tr>\n",
       "    <tr>\n",
       "      <th>1</th>\n",
       "      <td>bicarbonate_min</td>\n",
       "      <td>0.217265</td>\n",
       "      <td>0.633176</td>\n",
       "      <td>0.437815</td>\n",
       "      <td>0.088926</td>\n",
       "      <td>0.642066</td>\n",
       "      <td>0.010297</td>\n",
       "      <td>0.946306</td>\n",
       "      <td>0.301105</td>\n",
       "      <td>0.568181</td>\n",
       "      <td>0.271672</td>\n",
       "      <td>-0.112974</td>\n",
       "      <td>0.375208</td>\n",
       "      <td>0.103570</td>\n",
       "      <td>0.540923</td>\n",
       "    </tr>\n",
       "    <tr>\n",
       "      <th>2</th>\n",
       "      <td>bun_min</td>\n",
       "      <td>0.503532</td>\n",
       "      <td>0.254012</td>\n",
       "      <td>0.612883</td>\n",
       "      <td>0.084776</td>\n",
       "      <td>0.319882</td>\n",
       "      <td>-0.065339</td>\n",
       "      <td>0.821360</td>\n",
       "      <td>-0.038136</td>\n",
       "      <td>0.365454</td>\n",
       "      <td>-0.135046</td>\n",
       "      <td>-0.329986</td>\n",
       "      <td>0.000129</td>\n",
       "      <td>0.362275</td>\n",
       "      <td>0.296463</td>\n",
       "    </tr>\n",
       "    <tr>\n",
       "      <th>3</th>\n",
       "      <td>calcium_min</td>\n",
       "      <td>0.849205</td>\n",
       "      <td>1.614087</td>\n",
       "      <td>1.407563</td>\n",
       "      <td>0.460671</td>\n",
       "      <td>0.910188</td>\n",
       "      <td>0.515537</td>\n",
       "      <td>1.214159</td>\n",
       "      <td>0.643053</td>\n",
       "      <td>0.704653</td>\n",
       "      <td>0.439428</td>\n",
       "      <td>0.319263</td>\n",
       "      <td>0.601368</td>\n",
       "      <td>0.216847</td>\n",
       "      <td>0.582131</td>\n",
       "    </tr>\n",
       "    <tr>\n",
       "      <th>4</th>\n",
       "      <td>creatinine_min</td>\n",
       "      <td>0.537080</td>\n",
       "      <td>1.692719</td>\n",
       "      <td>1.220715</td>\n",
       "      <td>0.370342</td>\n",
       "      <td>0.286893</td>\n",
       "      <td>0.195588</td>\n",
       "      <td>0.411558</td>\n",
       "      <td>0.499683</td>\n",
       "      <td>0.403393</td>\n",
       "      <td>0.026369</td>\n",
       "      <td>-0.055700</td>\n",
       "      <td>0.026587</td>\n",
       "      <td>0.566723</td>\n",
       "      <td>0.093980</td>\n",
       "    </tr>\n",
       "    <tr>\n",
       "      <th>...</th>\n",
       "      <td>...</td>\n",
       "      <td>...</td>\n",
       "      <td>...</td>\n",
       "      <td>...</td>\n",
       "      <td>...</td>\n",
       "      <td>...</td>\n",
       "      <td>...</td>\n",
       "      <td>...</td>\n",
       "      <td>...</td>\n",
       "      <td>...</td>\n",
       "      <td>...</td>\n",
       "      <td>...</td>\n",
       "      <td>...</td>\n",
       "      <td>...</td>\n",
       "      <td>...</td>\n",
       "    </tr>\n",
       "    <tr>\n",
       "      <th>71</th>\n",
       "      <td>resprate_std</td>\n",
       "      <td>0.495250</td>\n",
       "      <td>0.449849</td>\n",
       "      <td>0.335705</td>\n",
       "      <td>0.234316</td>\n",
       "      <td>0.578356</td>\n",
       "      <td>-0.075298</td>\n",
       "      <td>1.034294</td>\n",
       "      <td>0.241530</td>\n",
       "      <td>0.548370</td>\n",
       "      <td>0.180382</td>\n",
       "      <td>-0.237108</td>\n",
       "      <td>0.031944</td>\n",
       "      <td>-0.022087</td>\n",
       "      <td>0.260902</td>\n",
       "    </tr>\n",
       "    <tr>\n",
       "      <th>72</th>\n",
       "      <td>sodium_std</td>\n",
       "      <td>0.433129</td>\n",
       "      <td>0.378568</td>\n",
       "      <td>0.520677</td>\n",
       "      <td>0.092683</td>\n",
       "      <td>0.411713</td>\n",
       "      <td>0.005118</td>\n",
       "      <td>-0.010313</td>\n",
       "      <td>0.063947</td>\n",
       "      <td>0.177608</td>\n",
       "      <td>0.036824</td>\n",
       "      <td>-0.117977</td>\n",
       "      <td>0.164456</td>\n",
       "      <td>-0.156228</td>\n",
       "      <td>0.491224</td>\n",
       "    </tr>\n",
       "    <tr>\n",
       "      <th>73</th>\n",
       "      <td>spo2_std</td>\n",
       "      <td>0.643985</td>\n",
       "      <td>1.895705</td>\n",
       "      <td>1.871879</td>\n",
       "      <td>0.601481</td>\n",
       "      <td>1.167376</td>\n",
       "      <td>0.992963</td>\n",
       "      <td>0.907260</td>\n",
       "      <td>1.333671</td>\n",
       "      <td>1.114790</td>\n",
       "      <td>1.401793</td>\n",
       "      <td>0.661169</td>\n",
       "      <td>0.904837</td>\n",
       "      <td>1.083222</td>\n",
       "      <td>1.744649</td>\n",
       "    </tr>\n",
       "    <tr>\n",
       "      <th>74</th>\n",
       "      <td>sysbp_std</td>\n",
       "      <td>0.752026</td>\n",
       "      <td>2.210461</td>\n",
       "      <td>1.801867</td>\n",
       "      <td>0.701805</td>\n",
       "      <td>1.236765</td>\n",
       "      <td>1.081616</td>\n",
       "      <td>1.299750</td>\n",
       "      <td>1.042652</td>\n",
       "      <td>1.315764</td>\n",
       "      <td>0.794710</td>\n",
       "      <td>0.455049</td>\n",
       "      <td>0.742613</td>\n",
       "      <td>-0.056588</td>\n",
       "      <td>1.130502</td>\n",
       "    </tr>\n",
       "    <tr>\n",
       "      <th>75</th>\n",
       "      <td>tempc_std</td>\n",
       "      <td>1.507040</td>\n",
       "      <td>1.654581</td>\n",
       "      <td>1.436737</td>\n",
       "      <td>1.353270</td>\n",
       "      <td>1.905353</td>\n",
       "      <td>0.973398</td>\n",
       "      <td>1.891176</td>\n",
       "      <td>1.228197</td>\n",
       "      <td>1.557234</td>\n",
       "      <td>1.292336</td>\n",
       "      <td>0.520371</td>\n",
       "      <td>1.634393</td>\n",
       "      <td>-0.179804</td>\n",
       "      <td>1.298514</td>\n",
       "    </tr>\n",
       "  </tbody>\n",
       "</table>\n",
       "<p>76 rows × 15 columns</p>\n",
       "</div>"
      ],
      "text/plain": [
       "            colname    model0    model1    model2    model3    model4  \\\n",
       "0       albumin_min  0.582661  0.796533  0.864516  0.332777  0.499094   \n",
       "1   bicarbonate_min  0.217265  0.633176  0.437815  0.088926  0.642066   \n",
       "2           bun_min  0.503532  0.254012  0.612883  0.084776  0.319882   \n",
       "3       calcium_min  0.849205  1.614087  1.407563  0.460671  0.910188   \n",
       "4    creatinine_min  0.537080  1.692719  1.220715  0.370342  0.286893   \n",
       "..              ...       ...       ...       ...       ...       ...   \n",
       "71     resprate_std  0.495250  0.449849  0.335705  0.234316  0.578356   \n",
       "72       sodium_std  0.433129  0.378568  0.520677  0.092683  0.411713   \n",
       "73         spo2_std  0.643985  1.895705  1.871879  0.601481  1.167376   \n",
       "74        sysbp_std  0.752026  2.210461  1.801867  0.701805  1.236765   \n",
       "75        tempc_std  1.507040  1.654581  1.436737  1.353270  1.905353   \n",
       "\n",
       "      model5    model6    model7    model8    model9   model10   model11  \\\n",
       "0  -0.105935  0.731000  0.249020  0.341246  0.065153 -0.258333 -0.010713   \n",
       "1   0.010297  0.946306  0.301105  0.568181  0.271672 -0.112974  0.375208   \n",
       "2  -0.065339  0.821360 -0.038136  0.365454 -0.135046 -0.329986  0.000129   \n",
       "3   0.515537  1.214159  0.643053  0.704653  0.439428  0.319263  0.601368   \n",
       "4   0.195588  0.411558  0.499683  0.403393  0.026369 -0.055700  0.026587   \n",
       "..       ...       ...       ...       ...       ...       ...       ...   \n",
       "71 -0.075298  1.034294  0.241530  0.548370  0.180382 -0.237108  0.031944   \n",
       "72  0.005118 -0.010313  0.063947  0.177608  0.036824 -0.117977  0.164456   \n",
       "73  0.992963  0.907260  1.333671  1.114790  1.401793  0.661169  0.904837   \n",
       "74  1.081616  1.299750  1.042652  1.315764  0.794710  0.455049  0.742613   \n",
       "75  0.973398  1.891176  1.228197  1.557234  1.292336  0.520371  1.634393   \n",
       "\n",
       "     model12   model13  \n",
       "0   0.572555  0.616376  \n",
       "1   0.103570  0.540923  \n",
       "2   0.362275  0.296463  \n",
       "3   0.216847  0.582131  \n",
       "4   0.566723  0.093980  \n",
       "..       ...       ...  \n",
       "71 -0.022087  0.260902  \n",
       "72 -0.156228  0.491224  \n",
       "73  1.083222  1.744649  \n",
       "74 -0.056588  1.130502  \n",
       "75 -0.179804  1.298514  \n",
       "\n",
       "[76 rows x 15 columns]"
      ]
     },
     "execution_count": 62,
     "metadata": {},
     "output_type": "execute_result"
    }
   ],
   "source": [
    "answer2=rashomon.pdp_comparator(X, y, metric='sum')\n",
    "answer2"
   ]
  },
  {
   "cell_type": "code",
   "execution_count": 77,
   "metadata": {},
   "outputs": [
    {
     "name": "stderr",
     "output_type": "stream",
     "text": [
      "<ipython-input-77-c969b4256b67>:5: UserWarning: FixedFormatter should only be used together with FixedLocator\n",
      "  ax.set_xticklabels(labels)\n"
     ]
    },
    {
     "data": {
      "image/png": "[encoded data removed]",
      "text/plain": [
       "<Figure size 432x288 with 1 Axes>"
      ]
     },
     "metadata": {
      "needs_background": "light"
     },
     "output_type": "display_data"
    },
    {
     "data": {
      "image/png": "[encoded data removed]",
      "text/plain": [
       "<Figure size 432x288 with 1 Axes>"
      ]
     },
     "metadata": {
      "needs_background": "light"
     },
     "output_type": "display_data"
    },
    {
     "data": {
      "image/png": "[encoded data removed]",
      "text/plain": [
       "<Figure size 432x288 with 1 Axes>"
      ]
     },
     "metadata": {
      "needs_background": "light"
     },
     "output_type": "display_data"
    },
    {
     "data": {
      "image/png": "[encoded data removed]",
      "text/plain": [
       "<Figure size 432x288 with 1 Axes>"
      ]
     },
     "metadata": {
      "needs_background": "light"
     },
     "output_type": "display_data"
    },
    {
     "data": {
      "image/png": "[encoded data removed]",
      "text/plain": [
       "<Figure size 432x288 with 1 Axes>"
      ]
     },
     "metadata": {
      "needs_background": "light"
     },
     "output_type": "display_data"
    },
    {
     "data": {
      "image/png": "[encoded data removed]",
      "text/plain": [
       "<Figure size 432x288 with 1 Axes>"
      ]
     },
     "metadata": {
      "needs_background": "light"
     },
     "output_type": "display_data"
    },
    {
     "data": {
      "image/png": "[encoded data removed]",
      "text/plain": [
       "<Figure size 432x288 with 1 Axes>"
      ]
     },
     "metadata": {
      "needs_background": "light"
     },
     "output_type": "display_data"
    },
    {
     "data": {
      "image/png": "[encoded data removed]",
      "text/plain": [
       "<Figure size 432x288 with 1 Axes>"
      ]
     },
     "metadata": {
      "needs_background": "light"
     },
     "output_type": "display_data"
    },
    {
     "data": {
      "image/png": "[encoded data removed]",
      "text/plain": [
       "<Figure size 432x288 with 1 Axes>"
      ]
     },
     "metadata": {
      "needs_background": "light"
     },
     "output_type": "display_data"
    },
    {
     "data": {
      "image/png": "[encoded data removed]",
      "text/plain": [
       "<Figure size 432x288 with 1 Axes>"
      ]
     },
     "metadata": {
      "needs_background": "light"
     },
     "output_type": "display_data"
    },
    {
     "data": {
      "image/png": "[encoded data removed]",
      "text/plain": [
       "<Figure size 432x288 with 1 Axes>"
      ]
     },
     "metadata": {
      "needs_background": "light"
     },
     "output_type": "display_data"
    },
    {
     "data": {
      "image/png": "[encoded data removed]",
      "text/plain": [
       "<Figure size 432x288 with 1 Axes>"
      ]
     },
     "metadata": {
      "needs_background": "light"
     },
     "output_type": "display_data"
    },
    {
     "data": {
      "image/png": "[encoded data removed]",
      "text/plain": [
       "<Figure size 432x288 with 1 Axes>"
      ]
     },
     "metadata": {
      "needs_background": "light"
     },
     "output_type": "display_data"
    },
    {
     "data": {
      "image/png": "[encoded data removed]",
      "text/plain": [
       "<Figure size 432x288 with 1 Axes>"
      ]
     },
     "metadata": {
      "needs_background": "light"
     },
     "output_type": "display_data"
    }
   ],
   "source": [
    "labels=[\" \"]*answer.shape[0]\n",
    "for i in range(answer2.shape[1]-1):\n",
    "    fig, ax = plt.subplots()\n",
    "    plt.bar(x=answer2.iloc[:,0],height=answer2.iloc[:,1+i])\n",
    "    ax.set_xticklabels(labels)\n",
    "    ax.set_title(answer.columns[i+1])\n",
    "    plt.show()\n"
   ]
  },
  {
   "cell_type": "code",
   "execution_count": 64,
   "metadata": {},
   "outputs": [
    {
     "data": {
      "text/plain": [
       "57    2.738066\n",
       "75    1.353270\n",
       "18    1.174626\n",
       "64    0.981022\n",
       "60    0.883141\n",
       "        ...   \n",
       "67   -0.261743\n",
       "62   -0.266558\n",
       "50   -0.298689\n",
       "24   -0.335525\n",
       "69   -0.699810\n",
       "Name: model3, Length: 76, dtype: float64"
      ]
     },
     "execution_count": 64,
     "metadata": {},
     "output_type": "execute_result"
    }
   ],
   "source": [
    "answer2.iloc[:,4].sort_values(ascending=False)"
   ]
  },
  {
   "cell_type": "code",
   "execution_count": 74,
   "metadata": {},
   "outputs": [],
   "source": [
    "colors=answer.copy()\n",
    "i=0\n",
    "for j in range(answer.shape[1]-1):\n",
    "    for i in range(answer.shape[0]):\n",
    "        if(answer2.iloc[i,1+j]>0.5*answer.iloc[i,1+j]):\n",
    "            colors.iloc[i,1+j]=\"green\"\n",
    "        elif(answer2.iloc[i,1+j]< -0.5*answer.iloc[i,1+j]):\n",
    "            colors.iloc[i,1+j]=\"red\"\n",
    "        else:\n",
    "            colors.iloc[i,1+j]=\"gray\""
   ]
  },
  {
   "cell_type": "code",
   "execution_count": 79,
   "metadata": {},
   "outputs": [
    {
     "data": {
      "text/html": [
       "<div>\n",
       "<style scoped>\n",
       "    .dataframe tbody tr th:only-of-type {\n",
       "        vertical-align: middle;\n",
       "    }\n",
       "\n",
       "    .dataframe tbody tr th {\n",
       "        vertical-align: top;\n",
       "    }\n",
       "\n",
       "    .dataframe thead th {\n",
       "        text-align: right;\n",
       "    }\n",
       "</style>\n",
       "<table border=\"1\" class=\"dataframe\">\n",
       "  <thead>\n",
       "    <tr style=\"text-align: right;\">\n",
       "      <th></th>\n",
       "      <th>colname</th>\n",
       "      <th>model0</th>\n",
       "      <th>model1</th>\n",
       "      <th>model2</th>\n",
       "      <th>model3</th>\n",
       "      <th>model4</th>\n",
       "      <th>model5</th>\n",
       "      <th>model6</th>\n",
       "      <th>model7</th>\n",
       "      <th>model8</th>\n",
       "      <th>model9</th>\n",
       "      <th>model10</th>\n",
       "      <th>model11</th>\n",
       "      <th>model12</th>\n",
       "      <th>model13</th>\n",
       "    </tr>\n",
       "  </thead>\n",
       "  <tbody>\n",
       "    <tr>\n",
       "      <th>0</th>\n",
       "      <td>albumin_min</td>\n",
       "      <td>green</td>\n",
       "      <td>green</td>\n",
       "      <td>green</td>\n",
       "      <td>green</td>\n",
       "      <td>green</td>\n",
       "      <td>red</td>\n",
       "      <td>green</td>\n",
       "      <td>green</td>\n",
       "      <td>green</td>\n",
       "      <td>green</td>\n",
       "      <td>red</td>\n",
       "      <td>gray</td>\n",
       "      <td>green</td>\n",
       "      <td>green</td>\n",
       "    </tr>\n",
       "    <tr>\n",
       "      <th>1</th>\n",
       "      <td>bicarbonate_min</td>\n",
       "      <td>green</td>\n",
       "      <td>green</td>\n",
       "      <td>green</td>\n",
       "      <td>green</td>\n",
       "      <td>green</td>\n",
       "      <td>gray</td>\n",
       "      <td>green</td>\n",
       "      <td>green</td>\n",
       "      <td>green</td>\n",
       "      <td>green</td>\n",
       "      <td>red</td>\n",
       "      <td>green</td>\n",
       "      <td>gray</td>\n",
       "      <td>green</td>\n",
       "    </tr>\n",
       "    <tr>\n",
       "      <th>2</th>\n",
       "      <td>bun_min</td>\n",
       "      <td>green</td>\n",
       "      <td>green</td>\n",
       "      <td>green</td>\n",
       "      <td>green</td>\n",
       "      <td>green</td>\n",
       "      <td>red</td>\n",
       "      <td>green</td>\n",
       "      <td>red</td>\n",
       "      <td>green</td>\n",
       "      <td>red</td>\n",
       "      <td>red</td>\n",
       "      <td>gray</td>\n",
       "      <td>green</td>\n",
       "      <td>green</td>\n",
       "    </tr>\n",
       "    <tr>\n",
       "      <th>3</th>\n",
       "      <td>calcium_min</td>\n",
       "      <td>green</td>\n",
       "      <td>green</td>\n",
       "      <td>green</td>\n",
       "      <td>green</td>\n",
       "      <td>green</td>\n",
       "      <td>green</td>\n",
       "      <td>green</td>\n",
       "      <td>green</td>\n",
       "      <td>green</td>\n",
       "      <td>green</td>\n",
       "      <td>green</td>\n",
       "      <td>green</td>\n",
       "      <td>gray</td>\n",
       "      <td>green</td>\n",
       "    </tr>\n",
       "    <tr>\n",
       "      <th>4</th>\n",
       "      <td>creatinine_min</td>\n",
       "      <td>green</td>\n",
       "      <td>green</td>\n",
       "      <td>green</td>\n",
       "      <td>gray</td>\n",
       "      <td>green</td>\n",
       "      <td>gray</td>\n",
       "      <td>green</td>\n",
       "      <td>green</td>\n",
       "      <td>green</td>\n",
       "      <td>gray</td>\n",
       "      <td>gray</td>\n",
       "      <td>gray</td>\n",
       "      <td>green</td>\n",
       "      <td>gray</td>\n",
       "    </tr>\n",
       "    <tr>\n",
       "      <th>...</th>\n",
       "      <td>...</td>\n",
       "      <td>...</td>\n",
       "      <td>...</td>\n",
       "      <td>...</td>\n",
       "      <td>...</td>\n",
       "      <td>...</td>\n",
       "      <td>...</td>\n",
       "      <td>...</td>\n",
       "      <td>...</td>\n",
       "      <td>...</td>\n",
       "      <td>...</td>\n",
       "      <td>...</td>\n",
       "      <td>...</td>\n",
       "      <td>...</td>\n",
       "      <td>...</td>\n",
       "    </tr>\n",
       "    <tr>\n",
       "      <th>71</th>\n",
       "      <td>resprate_std</td>\n",
       "      <td>green</td>\n",
       "      <td>green</td>\n",
       "      <td>green</td>\n",
       "      <td>green</td>\n",
       "      <td>green</td>\n",
       "      <td>red</td>\n",
       "      <td>green</td>\n",
       "      <td>green</td>\n",
       "      <td>green</td>\n",
       "      <td>green</td>\n",
       "      <td>red</td>\n",
       "      <td>green</td>\n",
       "      <td>gray</td>\n",
       "      <td>green</td>\n",
       "    </tr>\n",
       "    <tr>\n",
       "      <th>72</th>\n",
       "      <td>sodium_std</td>\n",
       "      <td>green</td>\n",
       "      <td>green</td>\n",
       "      <td>green</td>\n",
       "      <td>green</td>\n",
       "      <td>green</td>\n",
       "      <td>gray</td>\n",
       "      <td>gray</td>\n",
       "      <td>gray</td>\n",
       "      <td>green</td>\n",
       "      <td>gray</td>\n",
       "      <td>red</td>\n",
       "      <td>green</td>\n",
       "      <td>gray</td>\n",
       "      <td>green</td>\n",
       "    </tr>\n",
       "    <tr>\n",
       "      <th>73</th>\n",
       "      <td>spo2_std</td>\n",
       "      <td>green</td>\n",
       "      <td>green</td>\n",
       "      <td>green</td>\n",
       "      <td>green</td>\n",
       "      <td>green</td>\n",
       "      <td>green</td>\n",
       "      <td>green</td>\n",
       "      <td>green</td>\n",
       "      <td>green</td>\n",
       "      <td>green</td>\n",
       "      <td>green</td>\n",
       "      <td>green</td>\n",
       "      <td>green</td>\n",
       "      <td>green</td>\n",
       "    </tr>\n",
       "    <tr>\n",
       "      <th>74</th>\n",
       "      <td>sysbp_std</td>\n",
       "      <td>green</td>\n",
       "      <td>green</td>\n",
       "      <td>green</td>\n",
       "      <td>green</td>\n",
       "      <td>green</td>\n",
       "      <td>green</td>\n",
       "      <td>green</td>\n",
       "      <td>green</td>\n",
       "      <td>green</td>\n",
       "      <td>green</td>\n",
       "      <td>gray</td>\n",
       "      <td>green</td>\n",
       "      <td>gray</td>\n",
       "      <td>green</td>\n",
       "    </tr>\n",
       "    <tr>\n",
       "      <th>75</th>\n",
       "      <td>tempc_std</td>\n",
       "      <td>green</td>\n",
       "      <td>green</td>\n",
       "      <td>green</td>\n",
       "      <td>green</td>\n",
       "      <td>green</td>\n",
       "      <td>green</td>\n",
       "      <td>green</td>\n",
       "      <td>green</td>\n",
       "      <td>green</td>\n",
       "      <td>green</td>\n",
       "      <td>green</td>\n",
       "      <td>green</td>\n",
       "      <td>gray</td>\n",
       "      <td>green</td>\n",
       "    </tr>\n",
       "  </tbody>\n",
       "</table>\n",
       "<p>76 rows × 15 columns</p>\n",
       "</div>"
      ],
      "text/plain": [
       "            colname model0 model1 model2 model3 model4 model5 model6 model7  \\\n",
       "0       albumin_min  green  green  green  green  green    red  green  green   \n",
       "1   bicarbonate_min  green  green  green  green  green   gray  green  green   \n",
       "2           bun_min  green  green  green  green  green    red  green    red   \n",
       "3       calcium_min  green  green  green  green  green  green  green  green   \n",
       "4    creatinine_min  green  green  green   gray  green   gray  green  green   \n",
       "..              ...    ...    ...    ...    ...    ...    ...    ...    ...   \n",
       "71     resprate_std  green  green  green  green  green    red  green  green   \n",
       "72       sodium_std  green  green  green  green  green   gray   gray   gray   \n",
       "73         spo2_std  green  green  green  green  green  green  green  green   \n",
       "74        sysbp_std  green  green  green  green  green  green  green  green   \n",
       "75        tempc_std  green  green  green  green  green  green  green  green   \n",
       "\n",
       "   model8 model9 model10 model11 model12 model13  \n",
       "0   green  green     red    gray   green   green  \n",
       "1   green  green     red   green    gray   green  \n",
       "2   green    red     red    gray   green   green  \n",
       "3   green  green   green   green    gray   green  \n",
       "4   green   gray    gray    gray   green    gray  \n",
       "..    ...    ...     ...     ...     ...     ...  \n",
       "71  green  green     red   green    gray   green  \n",
       "72  green   gray     red   green    gray   green  \n",
       "73  green  green   green   green   green   green  \n",
       "74  green  green    gray   green    gray   green  \n",
       "75  green  green   green   green    gray   green  \n",
       "\n",
       "[76 rows x 15 columns]"
      ]
     },
     "execution_count": 79,
     "metadata": {},
     "output_type": "execute_result"
    }
   ],
   "source": [
    "colors"
   ]
  },
  {
   "cell_type": "code",
   "execution_count": 76,
   "metadata": {},
   "outputs": [
    {
     "name": "stderr",
     "output_type": "stream",
     "text": [
      "<ipython-input-76-04c96b770e41>:5: UserWarning: FixedFormatter should only be used together with FixedLocator\n",
      "  ax.set_xticklabels(labels)\n"
     ]
    },
    {
     "data": {
      "image/png": "[encoded data removed]",
      "text/plain": [
       "<Figure size 432x288 with 1 Axes>"
      ]
     },
     "metadata": {
      "needs_background": "light"
     },
     "output_type": "display_data"
    },
    {
     "data": {
      "image/png": "[encoded data removed]",
      "text/plain": [
       "<Figure size 432x288 with 1 Axes>"
      ]
     },
     "metadata": {
      "needs_background": "light"
     },
     "output_type": "display_data"
    },
    {
     "data": {
      "image/png": "[encoded data removed]",
      "text/plain": [
       "<Figure size 432x288 with 1 Axes>"
      ]
     },
     "metadata": {
      "needs_background": "light"
     },
     "output_type": "display_data"
    },
    {
     "data": {
      "image/png": "[encoded data removed]",
      "text/plain": [
       "<Figure size 432x288 with 1 Axes>"
      ]
     },
     "metadata": {
      "needs_background": "light"
     },
     "output_type": "display_data"
    },
    {
     "data": {
      "image/png": "[encoded data removed]",
      "text/plain": [
       "<Figure size 432x288 with 1 Axes>"
      ]
     },
     "metadata": {
      "needs_background": "light"
     },
     "output_type": "display_data"
    },
    {
     "data": {
      "image/png": "[encoded data removed]",
      "text/plain": [
       "<Figure size 432x288 with 1 Axes>"
      ]
     },
     "metadata": {
      "needs_background": "light"
     },
     "output_type": "display_data"
    },
    {
     "data": {
      "image/png": "[encoded data removed]",
      "text/plain": [
       "<Figure size 432x288 with 1 Axes>"
      ]
     },
     "metadata": {
      "needs_background": "light"
     },
     "output_type": "display_data"
    },
    {
     "data": {
      "image/png": "[encoded data removed]",
      "text/plain": [
       "<Figure size 432x288 with 1 Axes>"
      ]
     },
     "metadata": {
      "needs_background": "light"
     },
     "output_type": "display_data"
    },
    {
     "data": {
      "image/png": "[encoded data removed]",
      "text/plain": [
       "<Figure size 432x288 with 1 Axes>"
      ]
     },
     "metadata": {
      "needs_background": "light"
     },
     "output_type": "display_data"
    },
    {
     "data": {
      "image/png": "[encoded data removed]",
      "text/plain": [
       "<Figure size 432x288 with 1 Axes>"
      ]
     },
     "metadata": {
      "needs_background": "light"
     },
     "output_type": "display_data"
    },
    {
     "data": {
      "image/png": "[encoded data removed]",
      "text/plain": [
       "<Figure size 432x288 with 1 Axes>"
      ]
     },
     "metadata": {
      "needs_background": "light"
     },
     "output_type": "display_data"
    },
    {
     "data": {
      "image/png": "[encoded data removed]",
      "text/plain": [
       "<Figure size 432x288 with 1 Axes>"
      ]
     },
     "metadata": {
      "needs_background": "light"
     },
     "output_type": "display_data"
    },
    {
     "data": {
      "image/png": "[encoded data removed]",
      "text/plain": [
       "<Figure size 432x288 with 1 Axes>"
      ]
     },
     "metadata": {
      "needs_background": "light"
     },
     "output_type": "display_data"
    },
    {
     "data": {
      "image/png": "[encoded data removed]",
      "text/plain": [
       "<Figure size 432x288 with 1 Axes>"
      ]
     },
     "metadata": {
      "needs_background": "light"
     },
     "output_type": "display_data"
    }
   ],
   "source": [
    "labels=[\" \"]*answer.shape[0]\n",
    "for i in range(answer.shape[1]-1):\n",
    "    fig, ax = plt.subplots()\n",
    "    plt.bar(x=answer.iloc[:,0],height=answer.iloc[:,1+i],color=colors.iloc[:,1+i])\n",
    "    ax.set_xticklabels(labels)\n",
    "    ax.set_title(answer.columns[i+1])\n",
    "    plt.show()"
   ]
  },
  {
   "cell_type": "code",
   "execution_count": 84,
   "metadata": {},
   "outputs": [],
   "source": [
    "answer.to_csv(\"answer.csv\")"
   ]
  },
  {
   "cell_type": "code",
   "execution_count": 85,
   "metadata": {},
   "outputs": [],
   "source": [
    "answer2.to_csv(\"answer2.csv\")"
   ]
  },
  {
   "cell_type": "code",
   "execution_count": null,
   "metadata": {},
   "outputs": [],
   "source": []
  }
 ],
 "metadata": {
  "kernelspec": {
   "display_name": "Python 3",
   "language": "python",
   "name": "python3"
  },
  "language_info": {
   "codemirror_mode": {
    "name": "ipython",
    "version": 3
   },
   "file_extension": ".py",
   "mimetype": "text/x-python",
   "name": "python",
   "nbconvert_exporter": "python",
   "pygments_lexer": "ipython3",
   "version": "3.8.5"
  }
 },
 "nbformat": 4,
 "nbformat_minor": 4
}
