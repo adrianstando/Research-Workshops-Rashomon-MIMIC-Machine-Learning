{
 "cells": [
  {
   "cell_type": "code",
   "execution_count": 1,
   "metadata": {},
   "outputs": [],
   "source": [
    "import numpy as np\n",
    "import pandas as pd\n",
    "import seaborn as sns\n",
    "import matplotlib.pyplot as plt\n",
    "import dalex as dx\n",
    "import copy\n",
    "from sklearn import datasets\n",
    "from sklearn.ensemble import RandomForestClassifier\n",
    "from RashomonSetAnalyser import RashomonSetAnalyser\n",
    "import pickle\n",
    "import xgboost as xgb"
   ]
  },
  {
   "cell_type": "code",
   "execution_count": 2,
   "metadata": {},
   "outputs": [],
   "source": [
    "results = np.load('results.npy', allow_pickle=True)\n",
    "results.sort_values(by = 'mean_test_score', inplace = True, ascending = False)\n",
    "results.reset_index(inplace = True)"
   ]
  },
  {
   "cell_type": "code",
   "execution_count": 3,
   "metadata": {},
   "outputs": [],
   "source": [
    "best_model = results.iloc[0].params"
   ]
  },
  {
   "cell_type": "code",
   "execution_count": 4,
   "metadata": {},
   "outputs": [],
   "source": [
    "rashomon = RashomonSetAnalyser()"
   ]
  },
  {
   "cell_type": "code",
   "execution_count": 5,
   "metadata": {},
   "outputs": [],
   "source": [
    "X = np.load(\"X48.npy\")\n",
    "column_names = np.load('column_names.npy', allow_pickle = True)\n",
    "X = pd.DataFrame(data = X, columns = column_names)\n",
    "with open('y.npy', 'rb') as f:\n",
    "    labels = pickle.load(f)\n",
    "    \n",
    "task = [yy[0] for yy in labels]\n",
    "y = np.array(task)\n",
    "def model_learn(X, y, params):\n",
    "    model = xgb.XGBClassifier(objective = 'binary:logistic', n_jobs = -1, eval_metric = 'auc', use_label_encoder = False, seed = 123)\n",
    "    model.set_params(**params)\n",
    "    return model.fit(X, y)"
   ]
  },
  {
   "cell_type": "code",
   "execution_count": 40,
   "metadata": {},
   "outputs": [
    {
     "name": "stdout",
     "output_type": "stream",
     "text": [
      "0\n",
      "1\n",
      "2\n",
      "3\n",
      "4\n"
     ]
    }
   ],
   "source": [
    "best_models_tab = []\n",
    "for i in range(5):\n",
    "    best_models_tab.append(model_learn(X, y, results.iloc[i].params))\n",
    "    print(i)\n",
    "\n"
   ]
  },
  {
   "cell_type": "code",
   "execution_count": 41,
   "metadata": {},
   "outputs": [],
   "source": [
    "rashomon.set_base_model(best_models_tab[0])\n",
    "rashomon.set_models(best_models_tab[1:])"
   ]
  },
  {
   "cell_type": "code",
   "execution_count": 42,
   "metadata": {},
   "outputs": [
    {
     "data": {
      "text/plain": [
       "[['model0',\n",
       "  XGBClassifier(alpha=12.854579625070118, base_score=0.5, booster='gbtree',\n",
       "                colsample_bylevel=0.7371052631578947, colsample_bynode=1,\n",
       "                colsample_bytree=0.6845263157894736, eval_metric='auc', gamma=0,\n",
       "                gpu_id=-1, importance_type='gain', interaction_constraints='',\n",
       "                lambda=0.07779328684150147, learning_rate=0.07779328684150147,\n",
       "                max_delta_step=0, max_depth=11,\n",
       "                min_child_weight=2.151381172440365, missing=nan,\n",
       "                monotone_constraints='()', n_estimators=180, n_jobs=-1,\n",
       "                num_parallel_tree=1, random_state=123, reg_alpha=12.8545799,\n",
       "                reg_lambda=0.0777932853, scale_pos_weight=1, seed=123,\n",
       "                subsample=0.6684210526315789, tree_method='exact',\n",
       "                use_label_encoder=False, validate_parameters=1, ...)],\n",
       " ['model1',\n",
       "  XGBClassifier(alpha=0.33472602530611795, base_score=0.5, booster='gbtree',\n",
       "                colsample_bylevel=0.5267894736842105, colsample_bynode=1,\n",
       "                colsample_bytree=0.5267894736842105, eval_metric='auc', gamma=0,\n",
       "                gpu_id=-1, importance_type='gain', interaction_constraints='',\n",
       "                lambda=0.6943255713073277, learning_rate=0.05401386833010032,\n",
       "                max_delta_step=0, max_depth=15,\n",
       "                min_child_weight=12.854579625070118, missing=nan,\n",
       "                monotone_constraints='()', n_estimators=730, n_jobs=-1,\n",
       "                num_parallel_tree=1, random_state=123, reg_alpha=0.334726036,\n",
       "                reg_lambda=0.694325566, scale_pos_weight=1, seed=123,\n",
       "                subsample=0.8578947368421053, tree_method='exact',\n",
       "                use_label_encoder=False, validate_parameters=1, ...)],\n",
       " ['model2',\n",
       "  XGBClassifier(alpha=0.03750320998681571, base_score=0.5, booster='gbtree',\n",
       "                colsample_bylevel=0.5267894736842105, colsample_bynode=1,\n",
       "                colsample_bytree=0.2113157894736842, eval_metric='auc', gamma=0,\n",
       "                gpu_id=-1, importance_type='gain', interaction_constraints='',\n",
       "                lambda=0.6943255713073277, learning_rate=0.03750320998681571,\n",
       "                max_delta_step=0, max_depth=13,\n",
       "                min_child_weight=5.975035846617943, missing=nan,\n",
       "                monotone_constraints='()', n_estimators=680, n_jobs=-1,\n",
       "                num_parallel_tree=1, random_state=123, reg_alpha=0.037503209,\n",
       "                reg_lambda=0.694325566, scale_pos_weight=1, seed=123,\n",
       "                subsample=0.38421052631578945, tree_method='exact',\n",
       "                use_label_encoder=False, validate_parameters=1, ...)],\n",
       " ['model3',\n",
       "  XGBClassifier(alpha=0.03750320998681571, base_score=0.5, booster='dart',\n",
       "                colsample_bylevel=0.15873684210526315, colsample_bynode=1,\n",
       "                colsample_bytree=0.4216315789473684, eval_metric='auc', gamma=0,\n",
       "                gpu_id=-1, importance_type='gain', interaction_constraints='',\n",
       "                lambda=0.1613673997434256, learning_rate=0.03750320998681571,\n",
       "                max_delta_step=0, max_depth=4, min_child_weight=9.957540715712184,\n",
       "                missing=nan, monotone_constraints='()', n_estimators=480,\n",
       "                n_jobs=-1, num_parallel_tree=1, random_state=123,\n",
       "                reg_alpha=0.037503209, reg_lambda=0.161367401, scale_pos_weight=1,\n",
       "                seed=123, subsample=0.5736842105263158, tree_method='exact',\n",
       "                use_label_encoder=False, validate_parameters=1, ...)]]"
      ]
     },
     "execution_count": 42,
     "metadata": {},
     "output_type": "execute_result"
    }
   ],
   "source": [
    "rashomon.models"
   ]
  },
  {
   "cell_type": "code",
   "execution_count": 43,
   "metadata": {},
   "outputs": [
    {
     "name": "stderr",
     "output_type": "stream",
     "text": [
      "C:\\Users\\Maciek\\anaconda3\\lib\\site-packages\\xgboost\\data.py:112: UserWarning: Use subset (sliced data) of np.ndarray is not recommended because it will generate extra copies and increase memory consumption\n",
      "  warnings.warn(\n"
     ]
    },
    {
     "data": {
      "text/html": [
       "<div>\n",
       "<style scoped>\n",
       "    .dataframe tbody tr th:only-of-type {\n",
       "        vertical-align: middle;\n",
       "    }\n",
       "\n",
       "    .dataframe tbody tr th {\n",
       "        vertical-align: top;\n",
       "    }\n",
       "\n",
       "    .dataframe thead th {\n",
       "        text-align: right;\n",
       "    }\n",
       "</style>\n",
       "<table border=\"1\" class=\"dataframe\">\n",
       "  <thead>\n",
       "    <tr style=\"text-align: right;\">\n",
       "      <th></th>\n",
       "      <th>colname</th>\n",
       "      <th>model0</th>\n",
       "      <th>model1</th>\n",
       "      <th>model2</th>\n",
       "      <th>model3</th>\n",
       "    </tr>\n",
       "  </thead>\n",
       "  <tbody>\n",
       "    <tr>\n",
       "      <th>0</th>\n",
       "      <td>albumin_min</td>\n",
       "      <td>0.582661</td>\n",
       "      <td>0.796533</td>\n",
       "      <td>0.864516</td>\n",
       "      <td>0.336867</td>\n",
       "    </tr>\n",
       "    <tr>\n",
       "      <th>1</th>\n",
       "      <td>bicarbonate_min</td>\n",
       "      <td>0.328848</td>\n",
       "      <td>0.633176</td>\n",
       "      <td>0.437815</td>\n",
       "      <td>0.120017</td>\n",
       "    </tr>\n",
       "    <tr>\n",
       "      <th>2</th>\n",
       "      <td>bun_min</td>\n",
       "      <td>0.503532</td>\n",
       "      <td>0.254012</td>\n",
       "      <td>0.612883</td>\n",
       "      <td>0.096395</td>\n",
       "    </tr>\n",
       "    <tr>\n",
       "      <th>3</th>\n",
       "      <td>calcium_min</td>\n",
       "      <td>0.849205</td>\n",
       "      <td>1.614087</td>\n",
       "      <td>1.407563</td>\n",
       "      <td>0.477241</td>\n",
       "    </tr>\n",
       "    <tr>\n",
       "      <th>4</th>\n",
       "      <td>creatinine_min</td>\n",
       "      <td>0.550921</td>\n",
       "      <td>1.692719</td>\n",
       "      <td>1.224062</td>\n",
       "      <td>0.751788</td>\n",
       "    </tr>\n",
       "    <tr>\n",
       "      <th>...</th>\n",
       "      <td>...</td>\n",
       "      <td>...</td>\n",
       "      <td>...</td>\n",
       "      <td>...</td>\n",
       "      <td>...</td>\n",
       "    </tr>\n",
       "    <tr>\n",
       "      <th>71</th>\n",
       "      <td>resprate_std</td>\n",
       "      <td>0.495250</td>\n",
       "      <td>0.449849</td>\n",
       "      <td>0.370965</td>\n",
       "      <td>0.254882</td>\n",
       "    </tr>\n",
       "    <tr>\n",
       "      <th>72</th>\n",
       "      <td>sodium_std</td>\n",
       "      <td>0.433129</td>\n",
       "      <td>0.389927</td>\n",
       "      <td>0.527829</td>\n",
       "      <td>0.116635</td>\n",
       "    </tr>\n",
       "    <tr>\n",
       "      <th>73</th>\n",
       "      <td>spo2_std</td>\n",
       "      <td>0.687846</td>\n",
       "      <td>1.895705</td>\n",
       "      <td>1.871879</td>\n",
       "      <td>0.783161</td>\n",
       "    </tr>\n",
       "    <tr>\n",
       "      <th>74</th>\n",
       "      <td>sysbp_std</td>\n",
       "      <td>0.758506</td>\n",
       "      <td>2.210461</td>\n",
       "      <td>1.801867</td>\n",
       "      <td>0.839715</td>\n",
       "    </tr>\n",
       "    <tr>\n",
       "      <th>75</th>\n",
       "      <td>tempc_std</td>\n",
       "      <td>1.507040</td>\n",
       "      <td>1.654581</td>\n",
       "      <td>1.436737</td>\n",
       "      <td>1.429297</td>\n",
       "    </tr>\n",
       "  </tbody>\n",
       "</table>\n",
       "<p>76 rows × 5 columns</p>\n",
       "</div>"
      ],
      "text/plain": [
       "            colname    model0    model1    model2    model3\n",
       "0       albumin_min  0.582661  0.796533  0.864516  0.336867\n",
       "1   bicarbonate_min  0.328848  0.633176  0.437815  0.120017\n",
       "2           bun_min  0.503532  0.254012  0.612883  0.096395\n",
       "3       calcium_min  0.849205  1.614087  1.407563  0.477241\n",
       "4    creatinine_min  0.550921  1.692719  1.224062  0.751788\n",
       "..              ...       ...       ...       ...       ...\n",
       "71     resprate_std  0.495250  0.449849  0.370965  0.254882\n",
       "72       sodium_std  0.433129  0.389927  0.527829  0.116635\n",
       "73         spo2_std  0.687846  1.895705  1.871879  0.783161\n",
       "74        sysbp_std  0.758506  2.210461  1.801867  0.839715\n",
       "75        tempc_std  1.507040  1.654581  1.436737  1.429297\n",
       "\n",
       "[76 rows x 5 columns]"
      ]
     },
     "execution_count": 43,
     "metadata": {},
     "output_type": "execute_result"
    }
   ],
   "source": [
    "answer=rashomon.pdp_comparator(X, y)\n",
    "answer"
   ]
  },
  {
   "cell_type": "code",
   "execution_count": 48,
   "metadata": {},
   "outputs": [
    {
     "data": {
      "image/png": "[encoded data removed]",
      "text/plain": [
       "<Figure size 432x288 with 1 Axes>"
      ]
     },
     "metadata": {
      "needs_background": "light"
     },
     "output_type": "display_data"
    },
    {
     "data": {
      "image/png": "[encoded data removed]",
      "text/plain": [
       "<Figure size 432x288 with 1 Axes>"
      ]
     },
     "metadata": {
      "needs_background": "light"
     },
     "output_type": "display_data"
    },
    {
     "data": {
      "image/png": "[encoded data removed]",
      "text/plain": [
       "<Figure size 432x288 with 1 Axes>"
      ]
     },
     "metadata": {
      "needs_background": "light"
     },
     "output_type": "display_data"
    },
    {
     "data": {
      "image/png": "[encoded data removed]",
      "text/plain": [
       "<Figure size 432x288 with 1 Axes>"
      ]
     },
     "metadata": {
      "needs_background": "light"
     },
     "output_type": "display_data"
    }
   ],
   "source": [
    "for i in range(answer.shape[1]-1):\n",
    "    plt.bar(x=answer.iloc[:,0],height=answer.iloc[:,1+i])\n",
    "    plt.show()\n"
   ]
  },
  {
   "cell_type": "code",
   "execution_count": 36,
   "metadata": {},
   "outputs": [
    {
     "data": {
      "text/plain": [
       "57    2.849296\n",
       "75    1.507040\n",
       "60    1.411811\n",
       "54    1.384505\n",
       "65    1.360559\n",
       "        ...   \n",
       "21    0.386318\n",
       "1     0.328848\n",
       "13    0.326996\n",
       "36    0.313799\n",
       "27    0.174672\n",
       "Name: model0, Length: 76, dtype: float64"
      ]
     },
     "execution_count": 36,
     "metadata": {},
     "output_type": "execute_result"
    }
   ],
   "source": [
    "answer.iloc[:,1].sort_values(ascending=False)"
   ]
  },
  {
   "cell_type": "code",
   "execution_count": 37,
   "metadata": {},
   "outputs": [
    {
     "data": {
      "text/plain": [
       "57    4.899044\n",
       "60    2.622280\n",
       "64    2.323051\n",
       "74    2.210461\n",
       "62    2.111978\n",
       "        ...   \n",
       "24    0.468468\n",
       "71    0.449849\n",
       "72    0.389927\n",
       "11    0.348408\n",
       "2     0.254012\n",
       "Name: model1, Length: 76, dtype: float64"
      ]
     },
     "execution_count": 37,
     "metadata": {},
     "output_type": "execute_result"
    }
   ],
   "source": [
    "answer.iloc[:,2].sort_values(ascending=False)"
   ]
  },
  {
   "cell_type": "code",
   "execution_count": 49,
   "metadata": {},
   "outputs": [
    {
     "data": {
      "text/plain": [
       "57    4.145710\n",
       "60    2.184895\n",
       "54    1.934111\n",
       "65    1.879066\n",
       "51    1.872723\n",
       "        ...   \n",
       "52    0.450073\n",
       "1     0.437815\n",
       "71    0.370965\n",
       "24    0.304323\n",
       "11    0.282079\n",
       "Name: model2, Length: 76, dtype: float64"
      ]
     },
     "execution_count": 49,
     "metadata": {},
     "output_type": "execute_result"
    }
   ],
   "source": [
    "answer.iloc[:,3].sort_values(ascending=False)"
   ]
  },
  {
   "cell_type": "code",
   "execution_count": 67,
   "metadata": {},
   "outputs": [
    {
     "data": {
      "text/plain": [
       "57    2.766379\n",
       "75    1.429297\n",
       "60    1.197599\n",
       "18    1.178581\n",
       "41    1.106359\n",
       "        ...   \n",
       "13    0.114868\n",
       "15    0.113277\n",
       "63    0.101588\n",
       "2     0.096395\n",
       "32    0.083579\n",
       "Name: model3, Length: 76, dtype: float64"
      ]
     },
     "execution_count": 67,
     "metadata": {},
     "output_type": "execute_result"
    }
   ],
   "source": [
    "answer.iloc[:,4].sort_values(ascending=False)"
   ]
  },
  {
   "cell_type": "code",
   "execution_count": 33,
   "metadata": {},
   "outputs": [
    {
     "data": {
      "text/plain": [
       "'albumin_std'"
      ]
     },
     "execution_count": 33,
     "metadata": {},
     "output_type": "execute_result"
    }
   ],
   "source": [
    "answer.iloc[:,0][57]"
   ]
  },
  {
   "cell_type": "code",
   "execution_count": 51,
   "metadata": {},
   "outputs": [
    {
     "data": {
      "text/plain": [
       "'calcium_std'"
      ]
     },
     "execution_count": 51,
     "metadata": {},
     "output_type": "execute_result"
    }
   ],
   "source": [
    "answer.iloc[:,0][60]"
   ]
  },
  {
   "cell_type": "code",
   "execution_count": 63,
   "metadata": {},
   "outputs": [
    {
     "name": "stdout",
     "output_type": "stream",
     "text": [
      "55.101437985897064\n",
      "84.94526234269142\n",
      "76.55417367815971\n",
      "37.52999607473612\n"
     ]
    },
    {
     "data": {
      "text/plain": [
       "<BarContainer object of 4 artists>"
      ]
     },
     "execution_count": 63,
     "metadata": {},
     "output_type": "execute_result"
    },
    {
     "data": {
      "image/png": "[encoded data removed]",
      "text/plain": [
       "<Figure size 432x288 with 1 Axes>"
      ]
     },
     "metadata": {
      "needs_background": "light"
     },
     "output_type": "display_data"
    }
   ],
   "source": [
    "sums=[]\n",
    "names=[]\n",
    "for i in range(answer.shape[1]-1):\n",
    "    print(sum(answer.iloc[:,i+1]))\n",
    "    sums.append(sum(answer.iloc[:,1+i]))\n",
    "    names.append(\"model\"+str(i))\n",
    "plt.bar(height=sums,x=names)"
   ]
  },
  {
   "cell_type": "code",
   "execution_count": 64,
   "metadata": {},
   "outputs": [
    {
     "name": "stderr",
     "output_type": "stream",
     "text": [
      "C:\\Users\\Maciek\\anaconda3\\lib\\site-packages\\xgboost\\data.py:112: UserWarning: Use subset (sliced data) of np.ndarray is not recommended because it will generate extra copies and increase memory consumption\n",
      "  warnings.warn(\n"
     ]
    },
    {
     "data": {
      "text/html": [
       "<div>\n",
       "<style scoped>\n",
       "    .dataframe tbody tr th:only-of-type {\n",
       "        vertical-align: middle;\n",
       "    }\n",
       "\n",
       "    .dataframe tbody tr th {\n",
       "        vertical-align: top;\n",
       "    }\n",
       "\n",
       "    .dataframe thead th {\n",
       "        text-align: right;\n",
       "    }\n",
       "</style>\n",
       "<table border=\"1\" class=\"dataframe\">\n",
       "  <thead>\n",
       "    <tr style=\"text-align: right;\">\n",
       "      <th></th>\n",
       "      <th>colname</th>\n",
       "      <th>model0</th>\n",
       "      <th>model1</th>\n",
       "      <th>model2</th>\n",
       "      <th>model3</th>\n",
       "    </tr>\n",
       "  </thead>\n",
       "  <tbody>\n",
       "    <tr>\n",
       "      <th>0</th>\n",
       "      <td>albumin_min</td>\n",
       "      <td>0.582661</td>\n",
       "      <td>0.796533</td>\n",
       "      <td>0.864516</td>\n",
       "      <td>0.332777</td>\n",
       "    </tr>\n",
       "    <tr>\n",
       "      <th>1</th>\n",
       "      <td>bicarbonate_min</td>\n",
       "      <td>0.217265</td>\n",
       "      <td>0.633176</td>\n",
       "      <td>0.437815</td>\n",
       "      <td>0.088926</td>\n",
       "    </tr>\n",
       "    <tr>\n",
       "      <th>2</th>\n",
       "      <td>bun_min</td>\n",
       "      <td>0.503532</td>\n",
       "      <td>0.254012</td>\n",
       "      <td>0.612883</td>\n",
       "      <td>0.084776</td>\n",
       "    </tr>\n",
       "    <tr>\n",
       "      <th>3</th>\n",
       "      <td>calcium_min</td>\n",
       "      <td>0.849205</td>\n",
       "      <td>1.614087</td>\n",
       "      <td>1.407563</td>\n",
       "      <td>0.460671</td>\n",
       "    </tr>\n",
       "    <tr>\n",
       "      <th>4</th>\n",
       "      <td>creatinine_min</td>\n",
       "      <td>0.537080</td>\n",
       "      <td>1.692719</td>\n",
       "      <td>1.220715</td>\n",
       "      <td>0.370342</td>\n",
       "    </tr>\n",
       "    <tr>\n",
       "      <th>...</th>\n",
       "      <td>...</td>\n",
       "      <td>...</td>\n",
       "      <td>...</td>\n",
       "      <td>...</td>\n",
       "      <td>...</td>\n",
       "    </tr>\n",
       "    <tr>\n",
       "      <th>71</th>\n",
       "      <td>resprate_std</td>\n",
       "      <td>0.495250</td>\n",
       "      <td>0.449849</td>\n",
       "      <td>0.335705</td>\n",
       "      <td>0.234316</td>\n",
       "    </tr>\n",
       "    <tr>\n",
       "      <th>72</th>\n",
       "      <td>sodium_std</td>\n",
       "      <td>0.433129</td>\n",
       "      <td>0.378568</td>\n",
       "      <td>0.520677</td>\n",
       "      <td>0.092683</td>\n",
       "    </tr>\n",
       "    <tr>\n",
       "      <th>73</th>\n",
       "      <td>spo2_std</td>\n",
       "      <td>0.643985</td>\n",
       "      <td>1.895705</td>\n",
       "      <td>1.871879</td>\n",
       "      <td>0.601481</td>\n",
       "    </tr>\n",
       "    <tr>\n",
       "      <th>74</th>\n",
       "      <td>sysbp_std</td>\n",
       "      <td>0.752026</td>\n",
       "      <td>2.210461</td>\n",
       "      <td>1.801867</td>\n",
       "      <td>0.701805</td>\n",
       "    </tr>\n",
       "    <tr>\n",
       "      <th>75</th>\n",
       "      <td>tempc_std</td>\n",
       "      <td>1.507040</td>\n",
       "      <td>1.654581</td>\n",
       "      <td>1.436737</td>\n",
       "      <td>1.353270</td>\n",
       "    </tr>\n",
       "  </tbody>\n",
       "</table>\n",
       "<p>76 rows × 5 columns</p>\n",
       "</div>"
      ],
      "text/plain": [
       "            colname    model0    model1    model2    model3\n",
       "0       albumin_min  0.582661  0.796533  0.864516  0.332777\n",
       "1   bicarbonate_min  0.217265  0.633176  0.437815  0.088926\n",
       "2           bun_min  0.503532  0.254012  0.612883  0.084776\n",
       "3       calcium_min  0.849205  1.614087  1.407563  0.460671\n",
       "4    creatinine_min  0.537080  1.692719  1.220715  0.370342\n",
       "..              ...       ...       ...       ...       ...\n",
       "71     resprate_std  0.495250  0.449849  0.335705  0.234316\n",
       "72       sodium_std  0.433129  0.378568  0.520677  0.092683\n",
       "73         spo2_std  0.643985  1.895705  1.871879  0.601481\n",
       "74        sysbp_std  0.752026  2.210461  1.801867  0.701805\n",
       "75        tempc_std  1.507040  1.654581  1.436737  1.353270\n",
       "\n",
       "[76 rows x 5 columns]"
      ]
     },
     "execution_count": 64,
     "metadata": {},
     "output_type": "execute_result"
    }
   ],
   "source": [
    "answer2=rashomon.pdp_comparator(X, y, metric='sum')\n",
    "answer2"
   ]
  },
  {
   "cell_type": "code",
   "execution_count": 65,
   "metadata": {},
   "outputs": [
    {
     "data": {
      "image/png": "[encoded data removed]",
      "text/plain": [
       "<Figure size 432x288 with 1 Axes>"
      ]
     },
     "metadata": {
      "needs_background": "light"
     },
     "output_type": "display_data"
    },
    {
     "data": {
      "image/png": "[encoded data removed]",
      "text/plain": [
       "<Figure size 432x288 with 1 Axes>"
      ]
     },
     "metadata": {
      "needs_background": "light"
     },
     "output_type": "display_data"
    },
    {
     "data": {
      "image/png": "[encoded data removed]",
      "text/plain": [
       "<Figure size 432x288 with 1 Axes>"
      ]
     },
     "metadata": {
      "needs_background": "light"
     },
     "output_type": "display_data"
    },
    {
     "data": {
      "image/png": "[encoded data removed]",
      "text/plain": [
       "<Figure size 432x288 with 1 Axes>"
      ]
     },
     "metadata": {
      "needs_background": "light"
     },
     "output_type": "display_data"
    }
   ],
   "source": [
    "for i in range(answer2.shape[1]-1):\n",
    "    plt.bar(x=answer2.iloc[:,0],height=answer2.iloc[:,1+i])\n",
    "    plt.show()\n"
   ]
  },
  {
   "cell_type": "code",
   "execution_count": 69,
   "metadata": {},
   "outputs": [
    {
     "data": {
      "text/plain": [
       "57    2.738066\n",
       "75    1.353270\n",
       "18    1.174626\n",
       "64    0.981022\n",
       "60    0.883141\n",
       "        ...   \n",
       "67   -0.261743\n",
       "62   -0.266558\n",
       "50   -0.298689\n",
       "24   -0.335525\n",
       "69   -0.699810\n",
       "Name: model3, Length: 76, dtype: float64"
      ]
     },
     "execution_count": 69,
     "metadata": {},
     "output_type": "execute_result"
    }
   ],
   "source": [
    "answer2.iloc[:,4].sort_values(ascending=False)"
   ]
  },
  {
   "cell_type": "code",
   "execution_count": 66,
   "metadata": {},
   "outputs": [
    {
     "name": "stdout",
     "output_type": "stream",
     "text": [
      "51.88358474522829\n",
      "83.90481328219175\n",
      "75.64710095524788\n",
      "21.529809065163136\n"
     ]
    },
    {
     "data": {
      "text/plain": [
       "<BarContainer object of 4 artists>"
      ]
     },
     "execution_count": 66,
     "metadata": {},
     "output_type": "execute_result"
    },
    {
     "data": {
      "image/png": "[encoded data removed]",
      "text/plain": [
       "<Figure size 432x288 with 1 Axes>"
      ]
     },
     "metadata": {
      "needs_background": "light"
     },
     "output_type": "display_data"
    }
   ],
   "source": [
    "sums=[]\n",
    "names=[]\n",
    "for i in range(answer2.shape[1]-1):\n",
    "    print(sum(answer2.iloc[:,i+1]))\n",
    "    sums.append(sum(answer2.iloc[:,1+i]))\n",
    "    names.append(\"model\"+str(i))\n",
    "plt.bar(height=sums,x=names)"
   ]
  }
 ],
 "metadata": {
  "kernelspec": {
   "display_name": "Python 3",
   "language": "python",
   "name": "python3"
  },
  "language_info": {
   "codemirror_mode": {
    "name": "ipython",
    "version": 3
   },
   "file_extension": ".py",
   "mimetype": "text/x-python",
   "name": "python",
   "nbconvert_exporter": "python",
   "pygments_lexer": "ipython3",
   "version": "3.8.5"
  }
 },
 "nbformat": 4,
 "nbformat_minor": 4
}
